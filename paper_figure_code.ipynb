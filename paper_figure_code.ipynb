{
 "cells": [
  {
   "cell_type": "markdown",
   "metadata": {},
   "source": [
    "# Survival analysis"
   ]
  },
  {
   "cell_type": "markdown",
   "metadata": {},
   "source": [
    "## Setup"
   ]
  },
  {
   "cell_type": "code",
   "execution_count": null,
   "metadata": {},
   "outputs": [],
   "source": [
    "num_cores = 4\n",
    "\n",
    "import pickle\n",
    "import numpy as np\n",
    "import pandas as pd\n",
    "\n",
    "from scipy.stats import ttest_ind, mannwhitneyu, ks_2samp, spearmanr, normaltest, shapiro\n",
    "import statsmodels.api as sm\n",
    "from statsmodels.stats.multitest import multipletests\n",
    "\n",
    "import matplotlib\n",
    "import matplotlib.pyplot as plt\n",
    "import seaborn as sns\n",
    "\n",
    "from sklearn import linear_model\n",
    "from sklearn.utils import resample\n",
    "from sklearn import metrics\n",
    "from sklearn.metrics import roc_curve,precision_recall_curve\n",
    "\n",
    "sns.set_palette(\"colorblind\")\n",
    "\n",
    "dir_=\"../../data/\"\n",
    "img_dir_='../../docs/imgs/'"
   ]
  },
  {
   "cell_type": "markdown",
   "metadata": {
    "heading_collapsed": true
   },
   "source": [
    "## Survival Non-dedup Data "
   ]
  },
  {
   "cell_type": "code",
   "execution_count": null,
   "metadata": {
    "hidden": true
   },
   "outputs": [],
   "source": [
    "X_all_proteins = pd.read_csv(dir_+'integrated_X_raw_all_proteins.csv',index_col=0)\n",
    "display(X_all_proteins.head())\n",
    "print(X_all_proteins.shape)\n",
    "joined = pd.read_csv('../../data/mortality_X_y.csv',index_col=0)\n",
    "display(joined.head())\n",
    "print(joined.shape)\n",
    "\n",
    "cov_df = joined.loc[:,\n",
    "                   ['Cohort_Columbia','Cohort_Cedar','Cohort_Paris']\n",
    "                  ]\n",
    "display(cov_df.head())\n",
    "print(cov_df.shape)\n",
    "\n",
    "idmap_sub = pd.read_csv('../../data/protein_gene_map_full.csv')[['Protein','Gene_name']].dropna()\n",
    "display(idmap_sub.head())\n",
    "\n",
    "proteins = pickle.load(open(dir_+'proteins_no_immunoglobulins.pkl','rb'))\n",
    "ig_proteins = pickle.load(open(dir_+'proteins_immunoglobulins.pkl','rb'))\n",
    "print(len(proteins))\n",
    "print(len(ig_proteins))"
   ]
  },
  {
   "cell_type": "markdown",
   "metadata": {
    "heading_collapsed": true
   },
   "source": [
    "## Comparing And Averaging Replicates for Paris Samples"
   ]
  },
  {
   "cell_type": "code",
   "execution_count": null,
   "metadata": {
    "hidden": true
   },
   "outputs": [],
   "source": [
    "bioreps = [['Pi-13-3-128N', 'Pi-13-4-126'],\n",
    "       ['Pi-14-4-127C', 'Pi-14-4-128N'], \n",
    "           ['Pi-17-1-128N','Pi-17-3-129C'],\n",
    "           ['Pi-18-1-128N', 'Pi-18-4-129C'],\n",
    "       ['Pi-19-1-129C', 'Pi-19-4-129N'], \n",
    "           ['Pi-20-1-129N','Pi-20-4-130C'], \n",
    "           ['Pi-21-1-130C', 'Pi-21-4-130N']]"
   ]
  },
  {
   "cell_type": "code",
   "execution_count": null,
   "metadata": {
    "hidden": true
   },
   "outputs": [],
   "source": [
    "for reps in bioreps:\n",
    "    ax,fig = plt.subplots(dpi=300)\n",
    "    sns.scatterplot(x=reps[0],y=reps[1],\n",
    "                    data=X_all_proteins.T.loc[proteins])\n",
    "    plt.savefig(img_dir_+reps[0]+'_vs_'+reps[1]+'.pdf')\n",
    "    \n",
    "    ax,fig = plt.subplots(dpi=300)\n",
    "    sns.scatterplot(x=reps[0],y=reps[1],\n",
    "                    data=X_all_proteins.T.loc[ig_proteins])\n",
    "    plt.savefig(img_dir_+reps[0]+'_vs_'+reps[1]+'_ig_proteins.pdf')"
   ]
  },
  {
   "cell_type": "markdown",
   "metadata": {},
   "source": [
    "### Protein correlations between biological replicates"
   ]
  },
  {
   "cell_type": "code",
   "execution_count": null,
   "metadata": {},
   "outputs": [],
   "source": [
    "proteins = pickle.load(open(dir_+'proteins_no_immunoglobulins.pkl','rb'))\n",
    "X_all_proteins.loc[:,proteins]"
   ]
  },
  {
   "cell_type": "code",
   "execution_count": null,
   "metadata": {},
   "outputs": [],
   "source": [
    "corr_df = \\\n",
    "X_all_proteins.loc[:,proteins].T.corr(method='spearman')\n",
    "lowertribool = np.tril(np.ones(corr_df.shape)).astype(np.bool)\n",
    "corr_df = corr_df.where(lowertribool)\n",
    "corr_df_melt = corr_df.stack().rename_axis(['Sample1','Sample2']).reset_index()\n",
    "corr_df_melt.columns = ['Sample1','Sample2','Value']\n",
    "corr_df_melt = corr_df_melt.query('Sample1!=Sample2')\n",
    "corr_df_melt"
   ]
  },
  {
   "cell_type": "code",
   "execution_count": null,
   "metadata": {},
   "outputs": [],
   "source": [
    "bioreps = ['Pi-13-3-128N', 'Pi-13-4-126',\n",
    "       'Pi-14-4-127C', 'Pi-14-4-128N', 'Pi-18-1-128N', 'Pi-18-4-129C',\n",
    "       'Pi-19-1-129C', 'Pi-19-4-129N', 'Pi-20-1-129N',\n",
    "       'Pi-20-4-130C', 'Pi-21-1-130C', 'Pi-21-4-130N']\n",
    "diedbioreps = ['Pi-19-1-129C', 'Pi-19-4-129N']\n",
    "notbioreps = np.setdiff1d(X_all_proteins.index,bioreps)"
   ]
  },
  {
   "cell_type": "code",
   "execution_count": null,
   "metadata": {},
   "outputs": [],
   "source": [
    "corr_df_melt.query('Sample1 in @diedbioreps').sort_values('Value')"
   ]
  },
  {
   "cell_type": "code",
   "execution_count": null,
   "metadata": {},
   "outputs": [],
   "source": [
    "print(corr_df_melt.query('Value>0.5').shape[0])\n",
    "print(corr_df_melt.query('Sample1 in @bioreps & Value>0.5').shape[0])\n",
    "print(corr_df_melt.shape[0])\n",
    "corr_df_melt.query('Value>0.5').shape[0]/corr_df_melt.shape[0]"
   ]
  },
  {
   "cell_type": "markdown",
   "metadata": {
    "hidden": true
   },
   "source": [
    "### Averaging Replicates for Paris Samples"
   ]
  },
  {
   "cell_type": "code",
   "execution_count": null,
   "metadata": {
    "hidden": true
   },
   "outputs": [],
   "source": [
    "print(X_all_proteins.shape)\n",
    "print(joined.shape)\n",
    "for reps in bioreps:\n",
    "    X_all_proteins.loc[reps[0]] = X_all_proteins.loc[reps].mean()\n",
    "    X_all_proteins = X_all_proteins.drop(reps[1],axis=0)\n",
    "    joined = joined.drop(reps[1],axis=0)\n",
    "print(X_all_proteins.shape)\n",
    "print(joined.shape)"
   ]
  },
  {
   "cell_type": "code",
   "execution_count": null,
   "metadata": {
    "hidden": true
   },
   "outputs": [],
   "source": [
    "X_all_proteins.to_csv(dir_+'integrated_X_raw_all_proteins_dedup.csv')\n",
    "display(X_all_proteins.head())\n",
    "print(X_all_proteins.shape)\n",
    "joined.to_csv('../../data/mortality_X_y_dedup.csv')"
   ]
  },
  {
   "cell_type": "markdown",
   "metadata": {
    "heading_collapsed": true
   },
   "source": [
    "## Survival Dedup Data"
   ]
  },
  {
   "cell_type": "code",
   "execution_count": null,
   "metadata": {
    "hidden": true
   },
   "outputs": [],
   "source": [
    "X_all_proteins = pd.read_csv(dir_+'integrated_X_raw_all_proteins_dedup.csv',index_col=0)\n",
    "display(X_all_proteins.head())\n",
    "print(X_all_proteins.shape)\n",
    "joined = pd.read_csv('../../data/mortality_X_y_dedup.csv',index_col=0)\n",
    "display(joined.head())\n",
    "print(joined.shape)\n",
    "\n",
    "cov_df = joined.loc[:,\n",
    "                   ['Cohort_Columbia','Cohort_Cedar','Cohort_Paris']\n",
    "                  ]\n",
    "display(cov_df.head())\n",
    "print(cov_df.shape)\n",
    "\n",
    "idmap_sub = pd.read_csv('../../data/protein_gene_map_full.csv')[['Protein','Gene_name']].dropna()\n",
    "display(idmap_sub.head())\n",
    "\n",
    "proteins = pickle.load(open(dir_+'proteins_no_immunoglobulins.pkl','rb'))\n",
    "ig_proteins = pickle.load(open(dir_+'proteins_immunoglobulins.pkl','rb'))\n",
    "print(len(proteins))\n",
    "print(len(ig_proteins))"
   ]
  },
  {
   "cell_type": "markdown",
   "metadata": {},
   "source": [
    "## Protein distribution (Figure S2)"
   ]
  },
  {
   "cell_type": "code",
   "execution_count": null,
   "metadata": {},
   "outputs": [],
   "source": [
    "cumc = \\\n",
    "X_all_proteins.loc[\n",
    "    joined[joined.Cohort_Columbia==1].index.values\n",
    "].T\n",
    "cedar = \\\n",
    "X_all_proteins.loc[\n",
    "    joined[joined.Cohort_Cedar==1].index.values\n",
    "].T\n",
    "paris = X_all_proteins.loc[\n",
    "    joined[joined.Cohort_Paris==1].index.values\n",
    "].T"
   ]
  },
  {
   "cell_type": "code",
   "execution_count": null,
   "metadata": {},
   "outputs": [],
   "source": [
    "cumc_df = (cumc.\n",
    "          rename_axis('Protein').\n",
    "          loc[ig_proteins].\n",
    "          apply(lambda x : (x - np.mean(x)) / np.std(x),axis=1).\n",
    "          reset_index().\n",
    "          melt(id_vars='Protein'))\n",
    "cumc_df['Cohort'] = 'Columbia'\n",
    "\n",
    "cedar_df = (cedar.\n",
    "          rename_axis('Protein').\n",
    "          loc[ig_proteins].\n",
    "          apply(lambda x : (x - np.mean(x)) / np.std(x),axis=1).\n",
    "          reset_index().\n",
    "          melt(id_vars='Protein'))\n",
    "cedar_df['Cohort'] = 'Cedar-Sinai'\n",
    "\n",
    "paris_df = (paris.\n",
    "          rename_axis('Protein').\n",
    "          loc[ig_proteins].\n",
    "          apply(lambda x : (x - np.mean(x)) / np.std(x),axis=1).\n",
    "          reset_index().\n",
    "          melt(id_vars='Protein'))\n",
    "paris_df['Cohort'] = 'Pitíe Salpetriere'"
   ]
  },
  {
   "cell_type": "code",
   "execution_count": null,
   "metadata": {},
   "outputs": [],
   "source": [
    "matplotlib.rcParams['axes.titlepad'] = 8\n",
    "matplotlib.rcParams['axes.titlesize'] = 16\n",
    "matplotlib.rcParams['axes.labelsize'] = 16\n",
    "matplotlib.rcParams['xtick.labelsize'] = 16\n",
    "matplotlib.rcParams['ytick.labelsize'] = 16\n",
    "dpi=300\n",
    "\n",
    "fig,ax = plt.subplots(nrows=3,ncols=1,sharex=True,sharey=True,dpi=dpi,figsize=(6,4))\n",
    "\n",
    "cohorts=['Columbia','Cedar-Sinai','Pitíe Salpetriere']\n",
    "\n",
    "for i,grp in cumc_df.groupby('Sample'):\n",
    "    sns.distplot(grp['value'],\n",
    "                 color='Blue',\n",
    "                 label=cohorts[0],\n",
    "                 kde=False,\n",
    "                 ax=ax[0])\n",
    "    ax[0].set_alpha(0.8)\n",
    "\n",
    "for i,grp in cedar_df.groupby('Sample'):\n",
    "    sns.distplot(grp['value'],\n",
    "                 color='Green',\n",
    "                 label=cohorts[1],\n",
    "                 kde=False,\n",
    "                 ax=ax[1])\n",
    "    ax[1].set_alpha(0.8)\n",
    "\n",
    "for i,grp in paris_df.groupby('Sample'):\n",
    "    sns.distplot(grp['value'],\n",
    "                 color='red',\n",
    "                 label=cohorts[2],\n",
    "                 kde=False,\n",
    "                 ax=ax[2])\n",
    "    ax[2].set_alpha(0.8)\n",
    "sns.despine()\n",
    "ax[0].set_xlabel('')\n",
    "ax[1].set_xlabel('')\n",
    "\n",
    "for i,a in enumerate(ax):\n",
    "    a.text(2.5,50,cohorts[i])\n",
    "    a.set_xlim(-5,5)\n",
    "ax[1].set_ylabel('Density')\n",
    "ax[1].yaxis.set_label_coords(-0.1,0)\n",
    "ax[0].set_title('Exosome protein expression distribution')\n",
    "ax[2].set_xlabel('Standardized protein expression')\n",
    "\n",
    "fig.tight_layout()\n",
    "fig.savefig(dir_+'ProteinDescription_distributions.pdf')"
   ]
  },
  {
   "cell_type": "code",
   "execution_count": null,
   "metadata": {},
   "outputs": [],
   "source": [
    "pd.DataFrame({\n",
    "    'normaltest' : [normaltest(cumc_df.value.values),\n",
    "                   normaltest(cedar_df.value.values),\n",
    "                   normaltest(paris_df.value.values)],\n",
    "    'shapiro' : [shapiro(cumc_df.value.values),\n",
    "                   shapiro(cedar_df.value.values),\n",
    "                   shapiro(paris_df.value.values)]\n",
    "},index=['cumc','cedar','paris'])"
   ]
  },
  {
   "cell_type": "code",
   "execution_count": null,
   "metadata": {},
   "outputs": [],
   "source": [
    "print(\n",
    "ks_2samp(cumc_df.value.values,cedar_df.value.values)\n",
    ")\n",
    "print(\n",
    "ks_2samp(cumc_df.value.values,paris_df.value.values)\n",
    ")\n",
    "print(\n",
    "ks_2samp(cedar_df.value.values,paris_df.value.values)\n",
    ")"
   ]
  },
  {
   "cell_type": "markdown",
   "metadata": {
    "heading_collapsed": true
   },
   "source": [
    "## Protein distribution tests"
   ]
  },
  {
   "cell_type": "code",
   "execution_count": null,
   "metadata": {
    "hidden": true
   },
   "outputs": [],
   "source": [
    "X_all_proteins = pd.read_csv(dir_+'integrated_X_raw_all_proteins_dedup.csv',index_col=0)\n",
    "joined = pd.read_csv('../../data/mortality_X_y_dedup.csv',index_col=0)\n",
    "\n",
    "X = X_all_proteins.copy().apply(lambda x : (x - x.min()) / (x.max() - x.min()))\n",
    "Y = joined[['expired']][['expired']].copy()\n",
    "Y = Y.loc[X.index.values]\n",
    "Y = (Y==0).astype(int)\n",
    "Y.columns = ['Survival']"
   ]
  },
  {
   "cell_type": "code",
   "execution_count": null,
   "metadata": {
    "hidden": true
   },
   "outputs": [],
   "source": [
    "prots = X.columns.values\n",
    "lst = []\n",
    "for prot in prots:\n",
    "    print(prot)\n",
    "    if idmap_sub.query('Protein==@prot').shape[0]==0: continue\n",
    "    gene = idmap_sub.query('Protein==@prot').Gene_name.values[0]\n",
    "\n",
    "    x = X_all_proteins.loc[Y[(Y==1).values].index.values,prot].values\n",
    "    y = X_all_proteins.loc[Y[(Y==0).values].index.values,prot].values\n",
    "\n",
    "    fig,ax=plt.subplots(figsize=(8,6),dpi=300)\n",
    "    sns.swarmplot(\n",
    "        'Survival',\n",
    "        'expr',\n",
    "        data=pd.concat(\n",
    "        [\n",
    "            pd.DataFrame({'expr' : x,'Survival' : 'Survived'}),\n",
    "            pd.DataFrame({'expr' : y,'Survival' : 'Died'})\n",
    "        ])\n",
    "    )\n",
    "    ax.set_xlabel(None)\n",
    "    ax.set_ylabel('Protein expression')\n",
    "    ax.set_title(\n",
    "        gene+\n",
    "        '\\nT test statistic = '+str(np.round(ttest_ind(x,y)[0],3))+\n",
    "        '; Mann Whitney Pvalue = '+str(np.round(mannwhitneyu(x,y)[1],3))\n",
    "    )\n",
    "    fig.savefig('../../docs/imgs/survival_protein_tests/'+gene+'_test.png')\n",
    "    plt.close()\n",
    "    lst.append([mannwhitneyu(x,y)[0]/(len(x)*len(y)),np.var(x),np.var(y),gene])"
   ]
  },
  {
   "cell_type": "markdown",
   "metadata": {
    "heading_collapsed": true
   },
   "source": [
    "## Differential analysis functions"
   ]
  },
  {
   "cell_type": "code",
   "execution_count": null,
   "metadata": {
    "hidden": true
   },
   "outputs": [],
   "source": [
    "def balanced_resample(Y,seed=42):\n",
    "\t\"\"\"\n",
    "\tGiven a binary pandas series, resample after balancing for equal size of classes\n",
    "\t\"\"\"\n",
    "\t\n",
    "\tY.sort_values(inplace=True)\n",
    "\tnum_to_sample = Y.value_counts().min()\n",
    "\t\n",
    "\tdfs = []\n",
    "\tfor grp in Y.unique():\n",
    "\t\ty = Y[Y==grp].head(num_to_sample)\n",
    "\t\tdfs.append(resample(y,random_state=seed))  \n",
    "\t\n",
    "\treturn pd.concat(dfs)\n",
    "\n",
    "def pull_logit_coefficients(fit):\n",
    "\t\n",
    "\treturn fit.coef_[0][0]\n",
    "\n",
    "def coef_to_prob(coef):\n",
    "\t\n",
    "\todds = np.exp(coef)\n",
    "\tprob = odds/(1 + odds)\n",
    "\t\n",
    "\treturn prob\n",
    "\n",
    "def coef_to_odds(coef):\n",
    "\t\n",
    "\todds = np.exp(coef)\n",
    "\t\n",
    "\treturn odds\n",
    "\n",
    "def prediction(X,Y,model,seed=42):\n",
    "\t\"\"\"\n",
    "\tGiven a feature matrix and binary class series, \n",
    "\tbalance then resample y (depends on balanced_resample),\n",
    "\tpredict and grab logistic regression coefficients,\n",
    "\tconvert and return probability.\n",
    "\t\n",
    "\t\"\"\"\n",
    "\tY_balanced = resample(Y,random_state=seed)\n",
    "\tX_balanced = X.loc[Y_balanced.index]\n",
    "\n",
    "\tfit = model.fit(X_balanced,Y_balanced.values.reshape(-1,1))\n",
    "\n",
    "\tcoef = pull_logit_coefficients(fit)\n",
    "\t\n",
    "\treturn coef_to_odds(coef)\n",
    "\n",
    "def balanced_prediction(X,Y,model,seed=42):\n",
    "\t\"\"\"\n",
    "\tGiven a feature matrix and binary class series, \n",
    "\tbalance then resample y (depends on balanced_resample),\n",
    "\tpredict and grab logistic regression coefficients,\n",
    "\tconvert and return probability.\n",
    "\t\n",
    "\t\"\"\"\n",
    "\tY_balanced = balanced_resample(Y,seed=seed)\n",
    "\tX_balanced = X.loc[Y_balanced.index]\n",
    "\t\n",
    "\tfit = model.fit(X_balanced,Y_balanced)\n",
    "\t\n",
    "\tcoef = pull_logit_coefficients(fit)\n",
    "\t\n",
    "\treturn coef_to_odds(coef)\n",
    "\n",
    "def bootstrap_prediction_transformations(odds_boot,var='variable'):\n",
    "\tdf = pd.DataFrame([\n",
    "\t\t[key for key in odds_boot.keys()],\n",
    "\t\t[np.median(odds_boot[key]) for key in odds_boot.keys()]\n",
    "\t],\n",
    "\t\tindex=[var,'bootstrap_median']\n",
    "\t).T\n",
    "\tsorted_df = df.sort_values(['bootstrap_median'],ascending=[False])\t\n",
    "\toutput = (pd.DataFrame.from_dict(odds_boot).\n",
    "\t\t\t  reset_index().rename(columns={'index' : 'bootstrap'}).\n",
    "\t\t\t  melt(id_vars='bootstrap',var_name=var,value_name='odds').\n",
    "\t\t\t  set_index(var).\n",
    "\t\t\t  join(sorted_df.set_index(var))\n",
    "\t\t\t )\n",
    "\todds_wcov_boot = output.reset_index().copy()\n",
    "\tvariables = odds_wcov_boot[var].unique()\n",
    "\terr = {}\n",
    "\tfor p in variables:\n",
    "\t\tq = '{} == \"{}\"'.format(var,p)\n",
    "\t\tlwr = odds_wcov_boot.query(q).odds.quantile(.025)\n",
    "\t\tmean = odds_wcov_boot.query(q).odds.mean()\n",
    "\t\tmedian = odds_wcov_boot.query(q).odds.quantile(.5)\n",
    "\t\tupr =odds_wcov_boot.query(q).odds.quantile(.975)\n",
    "\t\terr[p] = [lwr,mean,median,upr]\n",
    "\terr_df = pd.DataFrame(err,index=['lwr','mean','median','upr']).T.rename_axis(var)\n",
    "\treturn output, err_df\n",
    "\n",
    "from joblib import Parallel, delayed\n",
    "\n",
    "def bootstrap_of_fcn(func=None,params={},n_jobs=4,nboot=2):\t\n",
    "\tif func==None:\n",
    "\t\treturn \"Need fcn to bootstrap\"\n",
    "\tparallel = Parallel(n_jobs=n_jobs)\n",
    "\treturn parallel(delayed(func)(seed=k,**params) for k in range(nboot))\n"
   ]
  },
  {
   "cell_type": "markdown",
   "metadata": {
    "heading_collapsed": true
   },
   "source": [
    "## Survival multivariate logistic regression"
   ]
  },
  {
   "cell_type": "code",
   "execution_count": null,
   "metadata": {
    "hidden": true
   },
   "outputs": [],
   "source": [
    "X_all_proteins = pd.read_csv(dir_+'integrated_X_raw_all_proteins_dedup.csv',index_col=0)\n",
    "joined = pd.read_csv('../../data/mortality_X_y_dedup.csv',index_col=0)"
   ]
  },
  {
   "cell_type": "code",
   "execution_count": null,
   "metadata": {
    "hidden": true
   },
   "outputs": [],
   "source": [
    "X = X_all_proteins.copy().apply(lambda x : (x - x.min()) / (x.max() - x.min()))\n",
    "Y = joined[['expired']][['expired']].copy()\n",
    "Y = Y.loc[X.index.values]\n",
    "y = (Y==0).astype(int)\n",
    "y.columns = ['Survival']\n",
    "y.index.name = 'index'"
   ]
  },
  {
   "cell_type": "code",
   "execution_count": null,
   "metadata": {
    "hidden": true
   },
   "outputs": [],
   "source": [
    "pd.set_option('display.float_format', lambda x: '%.5f' % x)\n",
    "vars_=\\\n",
    "['Age','BMI','CVP','CVP/PCWP','Creatinine',\n",
    " 'INR','Ischemic_Time','Blood_Type_A','Blood_Type_B',\n",
    "'Blood_Type_O',\n",
    " #'Blood_Type_AB',\n",
    " 'Donor_Age',\n",
    "#'Radial_Score',\n",
    " 'Sodium','MELDXI',\n",
    "'PA_Diastolic','PA_Mean','PA_Systolic','PCWP','TBILI',\n",
    "'Antiarrhythmic_Use_Y','Beta_Blocker_Y','Cardiomyopathy_Adriamycin',\n",
    "'Cardiomyopathy_Amyloid',\n",
    " #'Cardiomyopathy_Chagas',\n",
    " 'Cardiomyopathy_Congenital',\n",
    "#'Cardiomyopathy_Hypertrophic cardiomyopathy','Cardiomyopathy_Idiopathic',\n",
    "'Cardiomyopathy_Ischemic','Cardiomyopathy_Myocarditis',\n",
    "#'Cardiomyopathy_Valvular Heart Disease','Cardiomyopathy_Viral',\n",
    "'Diabetes_Y','History_Of_Tobacco_Use_Y','Mechanical_Support_Y',\n",
    "'Prior_Inotrope_Y','PGD'\n",
    " #'Sex_F'\n",
    "]\n",
    "X = joined[vars_]"
   ]
  },
  {
   "cell_type": "code",
   "execution_count": null,
   "metadata": {
    "hidden": true
   },
   "outputs": [],
   "source": [
    "vars_=\\\n",
    "['Age','BMI','CVP','CVP/PCWP','Creatinine',\n",
    " 'INR','Ischemic_Time','Blood_Type_A','Blood_Type_B',\n",
    "'Blood_Type_O',\n",
    " #'Blood_Type_AB',\n",
    " 'Donor_Age',\n",
    "#'Radial_Score',\n",
    " 'Sodium','MELDXI',\n",
    "'PA_Diastolic','PA_Mean','PA_Systolic','PCWP','TBILI',\n",
    "'Antiarrhythmic_Use_Y','Beta_Blocker_Y','Cardiomyopathy_Adriamycin',\n",
    "'Cardiomyopathy_Amyloid',\n",
    " #'Cardiomyopathy_Chagas',\n",
    " 'Cardiomyopathy_Congenital',\n",
    "#'Cardiomyopathy_Hypertrophic cardiomyopathy','Cardiomyopathy_Idiopathic',\n",
    "'Cardiomyopathy_Ischemic','Cardiomyopathy_Myocarditis',\n",
    "#'Cardiomyopathy_Valvular Heart Disease','Cardiomyopathy_Viral',\n",
    "'Diabetes_Y','History_Of_Tobacco_Use_Y','Mechanical_Support_Y',\n",
    "'Prior_Inotrope_Y','PGD'\n",
    " #'Sex_F'\n",
    "]\n",
    "with open(dir_+'prediction_clinical_variables.pickle', 'wb') as handle:\n",
    "    pickle.dump(vars_, handle, protocol=pickle.HIGHEST_PROTOCOL)"
   ]
  },
  {
   "cell_type": "code",
   "execution_count": null,
   "metadata": {
    "hidden": true
   },
   "outputs": [],
   "source": [
    "log_reg = sm.Logit(y,X).fit()\n",
    "#https://stackoverflow.com/questions/51734180/converting-statsmodels-summary-object-to-pandas-dataframe\n",
    "multi = pd.read_html(log_reg.summary().tables[1].as_html(), header=0, index_col=0)[0]\n",
    "multi.columns=['coef','std_err','z','pvalue','lwr','upr']\n",
    "print(multi.shape)\n",
    "display(multi.sort_values('pvalue'))\n",
    "print(multi.query('pvalue<0.05').shape)\n",
    "print(multi.query('lwr>0 | upr<0').shape)\n",
    "multi.to_csv(dir_+'survival_clinical_multivariate_model_statistics.csv')"
   ]
  },
  {
   "cell_type": "markdown",
   "metadata": {
    "heading_collapsed": true
   },
   "source": [
    "## GSEA rank statistic (univariate, bootstrapped logistic regression)"
   ]
  },
  {
   "cell_type": "code",
   "execution_count": null,
   "metadata": {
    "hidden": true
   },
   "outputs": [],
   "source": [
    "X_all_proteins = pd.read_csv(dir_+'integrated_X_raw_all_proteins_dedup.csv',index_col=0)\n",
    "joined = pd.read_csv('../../data/mortality_X_y_dedup.csv',index_col=0)\n",
    "cov_df = joined.loc[:,\n",
    "                   ['Cohort_Columbia','Cohort_Cedar','Cohort_Paris']\n",
    "                  ]\n",
    "proteins = pickle.load(open('../../data/proteins_immunoglobulins.pkl','rb'))"
   ]
  },
  {
   "cell_type": "code",
   "execution_count": null,
   "metadata": {
    "hidden": true
   },
   "outputs": [],
   "source": [
    "X = X_all_proteins.copy().apply(lambda x : (x - x.min()) / (x.max() - x.min()))\n",
    "Y = joined[['expired']][['expired']].copy()\n",
    "Y = Y.loc[X.index.values]\n",
    "Y = (Y==0).astype(int)\n",
    "Y.columns = ['Survival']"
   ]
  },
  {
   "cell_type": "code",
   "execution_count": null,
   "metadata": {
    "hidden": true
   },
   "outputs": [],
   "source": [
    "C=1\n",
    "seed = 42\n",
    "tol=1e-3\n",
    "\n",
    "model = {\"Logistic Regression\" : \n",
    "linear_model.LogisticRegression(\n",
    "\tC=C,\n",
    "\tpenalty='l1',\n",
    "\tsolver=\"liblinear\",\n",
    "\trandom_state=seed,fit_intercept=True\n",
    "\t)\n",
    "\t\t }\n",
    "\n",
    "\n"
   ]
  },
  {
   "cell_type": "code",
   "execution_count": null,
   "metadata": {
    "hidden": true
   },
   "outputs": [],
   "source": [
    "nboot=200\n",
    "\n",
    "boots = []\n",
    "for prot in proteins:\n",
    "\tparams = {\n",
    "\t'X' : X[[prot]].join(cov_df),\n",
    "\t'Y' : Y,\n",
    "\t'model' : model['Logistic Regression']}\n",
    "\tlst = bootstrap_of_fcn(func=prediction,params=params,n_jobs=num_cores,nboot=nboot)\n",
    "\tboots.append(lst)\n",
    "\n",
    "odds_boot = {}\n",
    "for i,prot in enumerate(proteins):\n",
    "\todds_boot[prot] = boots[i]\n",
    "\n",
    "output, err_df = bootstrap_prediction_transformations(odds_boot)\n",
    "\n"
   ]
  },
  {
   "cell_type": "code",
   "execution_count": null,
   "metadata": {
    "hidden": true,
    "scrolled": false
   },
   "outputs": [],
   "source": [
    "\n",
    "dat = \\\n",
    "(\n",
    "    output.\n",
    "    reset_index().\n",
    "    groupby('variable')['odds'].\n",
    "    mean().\n",
    "    sort_values().\n",
    "    reset_index().\n",
    "    set_index('variable').\n",
    "    join(\n",
    "        X_all_proteins.\n",
    "        loc[Y.index[Y.Survival==1]].\n",
    "        reset_index().\n",
    "        melt(id_vars='index').\n",
    "        groupby('variable')['value'].\n",
    "        mean().\n",
    "        reset_index().\n",
    "        set_index('variable')\n",
    "    ).\n",
    "    join(\n",
    "    idmap_sub.set_index('Protein'))\n",
    ")\n",
    "fig,ax = plt.subplots(dpi=300)\n",
    "sns.scatterplot('odds','value',data=dat,ax=ax)\n",
    "ax.set_ylabel('Average protein expression\\nfrom patients who died')\n",
    "ax.set_xlabel('Average odds association to mortality')\n",
    "display(dat.query('odds<0.5'))\n",
    "display(dat.query('odds>2'))"
   ]
  },
  {
   "cell_type": "code",
   "execution_count": null,
   "metadata": {
    "hidden": true
   },
   "outputs": [],
   "source": [
    "fig,ax = plt.subplots(dpi=300,figsize=(12,4))\n",
    "ax = output.reset_index().groupby('variable')['odds'].mean().sort_values().plot(ax=ax)"
   ]
  },
  {
   "cell_type": "code",
   "execution_count": null,
   "metadata": {
    "hidden": true
   },
   "outputs": [],
   "source": [
    "univariate = dat.copy()\n",
    "univariate[['model']] = 'univariate'\n",
    "univariate"
   ]
  },
  {
   "cell_type": "code",
   "execution_count": null,
   "metadata": {
    "hidden": true
   },
   "outputs": [],
   "source": [
    "(\n",
    "    univariate.\n",
    "    reset_index().\n",
    "    set_index('Gene_name').\n",
    "    loc[:,['odds','variable']].\n",
    "    sort_values('odds',ascending=False).\n",
    "    drop_duplicates().\n",
    "    to_csv(dir_+'survival_rank_statistic.csv')\n",
    ")"
   ]
  },
  {
   "cell_type": "markdown",
   "metadata": {
    "heading_collapsed": true
   },
   "source": [
    "## Prediction processing functions"
   ]
  },
  {
   "cell_type": "code",
   "execution_count": null,
   "metadata": {
    "hidden": true
   },
   "outputs": [],
   "source": [
    "def generate_val_scores(ppred_df,\n",
    "                        scorer = { \n",
    "                            'roc_auc' : metrics.roc_auc_score,  \n",
    "                            'ppv' : metrics.average_precision_score,\n",
    "                            'npv' : metrics.average_precision_score\n",
    "                        }):\n",
    "    bin_names = ['accuracy']\n",
    "    n_names = ['npv','specificity']\n",
    "    score_names = scorer.keys()\n",
    "    vals = []\n",
    "    for set_ in ppred_df.index.unique():\n",
    "        tmp = ppred_df.loc[set_]\n",
    "        for b in range(50):\n",
    "            sub = tmp.sample(tmp.shape[0],replace=True,random_state=b)\n",
    "            arr = \\\n",
    "            [scorer[x](sub.y_true,sub.y_proba) \n",
    "             if x not in n_names else scorer[x](sub.y_true,sub.y_proba,pos_label=0) \n",
    "             for x in score_names]\n",
    "            arr.extend([set_,b])\n",
    "            vals.append(\n",
    "                arr\n",
    "            )\n",
    "    cols = [x for x in score_names]\n",
    "    cols.extend(['set','bootstrap'])\n",
    "    val_df = \\\n",
    "    (\n",
    "        pd.DataFrame(\n",
    "            vals,\n",
    "            columns=cols\n",
    "        ).\n",
    "        groupby('set')[[x for x in score_names]].\n",
    "        describe(\n",
    "            percentiles=[0.025,0.975]\n",
    "        )\n",
    "    )\n",
    "    val_df.columns = \\\n",
    "    [x[0]+'_'+x[1].replace('2.5%','lwr').replace('97.5%','upr') for x in val_df.columns]\n",
    "    return (\n",
    "        val_df.\n",
    "        loc[:,np.concatenate([[x+'_lwr',x+'_mean',x+'_upr'] for x in score_names])]\n",
    "    )\n",
    "def get_pperf_roc_curve_stats(dat,n=50):\n",
    "    \n",
    "    tups = []\n",
    "    for b in range(n):\n",
    "        x = (dat.\n",
    "             sample(n=dat.shape[0],replace=True,random_state=b)\n",
    "            )\n",
    "        f,t,th = roc_curve(x.y_true,x.y_proba)\n",
    "\n",
    "        tups.append(\n",
    "            pd.DataFrame({ 'fpr' : f,\n",
    "                          'tpr' : t,\n",
    "                          't' : th\n",
    "                         }\n",
    "                        )\n",
    "        )\n",
    "\n",
    "    tmp = pd.concat(tups).groupby('t').mean()\n",
    "    fpr = tmp['fpr'].values\n",
    "    tpr = tmp['tpr'].values\n",
    "    return fpr,tpr\n",
    "    \n",
    "def get_pperf_precision_recall_curve_stats(dat,n=50):\n",
    "    \n",
    "    tups = []\n",
    "    for b in range(n):\n",
    "        x = (dat.\n",
    "             sample(n=dat.shape[0],replace=True,random_state=b)\n",
    "            )\n",
    "        r,p,th = precision_recall_curve(x.y_true,x.y_proba)\n",
    "        r = list(r)\n",
    "        p = list(p)\n",
    "        r.pop()\n",
    "        p.pop()\n",
    "        tups.append(\n",
    "            pd.DataFrame({ 'precision' : p,\n",
    "                          'recall' : r,\n",
    "                          't' : th\n",
    "                         }\n",
    "                        )\n",
    "        )\n",
    "\n",
    "    tmp = pd.concat(tups).groupby('t').mean()\n",
    "    p = tmp['precision'].tolist()\n",
    "    r = tmp['recall'].tolist()\n",
    "    p[0] = 1\n",
    "    r[0] = 0\n",
    "    return p,r\n",
    "\n",
    "def plt_atts_roc(ax,fig):\n",
    "\n",
    "    ax.set_xlim(-0.01,1.01)\n",
    "    ax.set_ylim(-0.01,1.01)\n",
    "\n",
    "    lims = [\n",
    "        np.min([ax.get_xlim(), ax.get_ylim()]),  # min of both axes\n",
    "        np.max([ax.get_xlim(), ax.get_ylim()]),  # max of both axes\n",
    "    ]\n",
    "\n",
    "    # now plot both limits against eachother\n",
    "    ax.plot(lims, lims, 'r--', alpha=0.75, zorder=0)\n",
    "\n",
    "    #ax.set_ylabel('Sensitivity',size=18)\n",
    "    #ax.set_xlabel('1 - Specificity',size=18)\n",
    "    ax.tick_params(axis='both', which='major', labelsize=14)\n",
    "\n",
    "    fig.tight_layout()\n",
    "    \n",
    "    return fig\n",
    "\n",
    "def plt_atts_pr(ax,fig):\n",
    "\n",
    "    ax.set_xlim(-0.01,1.01)\n",
    "    ax.set_ylim(-0.01,1.01)\n",
    "\n",
    "    lims = [\n",
    "        [np.min(ax.get_xlim()), np.max(ax.get_ylim())],  \n",
    "        [np.max(ax.get_xlim()), np.min(ax.get_ylim())]\n",
    "    ]\n",
    "\n",
    "    # now plot both limits against eachother\n",
    "    ax.plot(lims[0], lims[1], 'r--', alpha=0.75, zorder=0)\n",
    "\n",
    "    #ax.set_ylabel('Precision',size=18)\n",
    "    #ax.set_xlabel('Recall',size=18)\n",
    "    ax.tick_params(axis='both', which='major', labelsize=14)\n",
    "\n",
    "    fig.tight_layout()\n",
    "    \n",
    "    return fig"
   ]
  },
  {
   "cell_type": "markdown",
   "metadata": {
    "heading_collapsed": true
   },
   "source": [
    "## Survival predictions and Volcano plot (Figures 2 and 3)"
   ]
  },
  {
   "cell_type": "code",
   "execution_count": null,
   "metadata": {
    "hidden": true
   },
   "outputs": [],
   "source": [
    "ppred_df = pd.read_csv(\n",
    "                dir_+'mortality_predictions_marker_patient_predictions_survival.csv',\n",
    "                index_col=0)\n",
    "arr_dfs = []\n",
    "for set_,tmp in ppred_df.groupby('set'):\n",
    "    vals = []\n",
    "    for b in range(50):\n",
    "        sub = tmp.sample(tmp.shape[0],replace=True,random_state=b)\n",
    "        conf = metrics.confusion_matrix(sub.y_true,sub.y_pred)\n",
    "        tn = conf[0][0]\n",
    "        tp = conf[1][1]\n",
    "        fn = conf[1][0]\n",
    "        fp = conf[0][1]\n",
    "        auc = metrics.roc_auc_score(sub.y_true,sub.y_proba)\n",
    "        vals.append([auc,tp,tn,fp,fn,\n",
    "                     np.mean(sub.y_proba[sub.y_true==1]),\n",
    "                     np.mean(sub.y_proba[sub.y_true==0])])\n",
    "    arr = np.array(vals)\n",
    "    arr_df = \\\n",
    "    pd.DataFrame(\n",
    "        np.mean(arr,0),\n",
    "        index=['AUROC','TP','TN','FP','FN','mean_case_proba','mean_ctrl_proba'],\n",
    "        columns=[set_]\n",
    "    ).T\n",
    "    arr_dfs.append(\n",
    "        arr_df.eval(\n",
    "            '''\n",
    "            sensitivity = (TP/(TP+FN))\n",
    "            PPV = (TP/(TP+FP))\n",
    "            specificity = (TN/(TN+FP))\n",
    "            NPV = (TN/(TN+FN))\n",
    "            '''\n",
    "        )\n",
    "    )\n",
    "\n",
    "perf_df = \\\n",
    "pd.read_csv(\n",
    "    \n",
    "    dir_+\n",
    "    'mortality_predictions_marker_performance_survival.csv'\n",
    ")\n",
    "perf_df.set_features = [x.replace(\"['\",'').replace(\"']\",'').strip(\", \") for x in perf_df.set_features]\n",
    "\n",
    "tmp = (\n",
    "    pd.\n",
    "    concat(arr_dfs).\n",
    "    join(\n",
    "        perf_df.\n",
    "        set_index('set').\n",
    "        loc[:,['set_features']]\n",
    "    ).\n",
    "    reset_index().\n",
    "    set_index('set_features').\n",
    "    join(\n",
    "        idmap_sub.\n",
    "        set_index('Protein')\n",
    "    ).\n",
    "    sort_values('AUROC')\n",
    ")\n",
    "tmp.sort_values('AUROC').tail(10)"
   ]
  },
  {
   "cell_type": "code",
   "execution_count": null,
   "metadata": {
    "hidden": true
   },
   "outputs": [],
   "source": [
    "perf_df = \\\n",
    "pd.read_csv(\n",
    "    \n",
    "    dir_+\n",
    "    'mortality_predictions_marker_performance_survival.csv'\n",
    ")\n",
    "perf_df.set_features = [x.replace(\"['\",'').replace(\"']\",'').strip(\", \") for x in perf_df.set_features]\n",
    "\n",
    "val_df = \\\n",
    "pd.read_csv(\n",
    "    dir_+'mortality_predictions_marker_patient_predictions_survival.csv',\n",
    "    index_col=0)\n",
    "\n",
    "perf_df = \\\n",
    "(\n",
    "    perf_df.\n",
    "    loc[:,['set','set_features']].\n",
    "    set_index('set').\n",
    "    join(\n",
    "        generate_val_scores(\n",
    "            val_df.set_index('set')\n",
    "        )\n",
    "    ).\n",
    "    reset_index().\n",
    "    set_index('set_features').\n",
    "    join(\n",
    "        idmap_sub.set_index('Protein')\n",
    "    ).\n",
    "    sort_values('roc_auc_mean')\n",
    ")\n",
    "\n",
    "fimp_df = pd.read_csv(dir_+'mortality_predictions_marker_feature_importance_survival.csv')\n",
    "fimp_df.set_features = [x.replace(\"['\",'').replace(\"']\",'').strip(\", \") for x in fimp_df.set_features]"
   ]
  },
  {
   "cell_type": "code",
   "execution_count": null,
   "metadata": {
    "hidden": true
   },
   "outputs": [],
   "source": [
    "full_fimp_df = \\\n",
    "pd.read_csv(\n",
    "    dir_+'mortality_predictions_marker_full_feature_importance_survival.csv',\n",
    "    index_col=0\n",
    ")\n",
    "full_perm_fimp_df = \\\n",
    "pd.read_csv(\n",
    "    dir_+'mortality_predictions_marker_full_permuted_feature_importance_survival.csv',\n",
    "    index_col=0\n",
    ")\n",
    "proteins = np.intersect1d(full_fimp_df.Feature.unique(),full_perm_fimp_df.Feature.unique())\n",
    "sig_lst = []\n",
    "for prot in proteins:\n",
    "    x = full_fimp_df[full_fimp_df.Feature==prot].Importance.values\n",
    "    y = full_perm_fimp_df[full_fimp_df.Feature==prot].Importance.values\n",
    "    lwr, upr = (\n",
    "        full_perm_fimp_df[\n",
    "            full_fimp_df.Feature==prot\n",
    "        ].\n",
    "        Importance.\n",
    "        describe(\n",
    "            percentiles=[0.025,0.975]\n",
    "        ).\n",
    "        loc[['2.5%','97.5%']]\n",
    "    )\n",
    "    stat, pv = ks_2samp(x,y)\n",
    "    sig_lst.append(\n",
    "        pd.DataFrame(\n",
    "            {'statistic' : stat,'pvalue' : pv,'perm_fimp_lwr' : lwr,'perm_fimp_upr' : upr},\n",
    "            index=[prot]\n",
    "        )\n",
    "    )\n",
    "sig_df = pd.concat(sig_lst)\n",
    "sig_df['padj'] = multipletests(sig_df['pvalue'],method='bonferroni')[1]\n",
    "sig_df"
   ]
  },
  {
   "cell_type": "code",
   "execution_count": null,
   "metadata": {
    "hidden": true
   },
   "outputs": [],
   "source": [
    "dat = \\\n",
    "(\n",
    "    perf_df.\n",
    "    loc[:,['roc_auc_mean','roc_auc_lwr','roc_auc_upr','set','Gene_name']].\n",
    "    rename(\n",
    "        columns={\n",
    "            'roc_auc_mean' : 'perf',\n",
    "            'roc_auc_lwr' : 'perf_lwr',\n",
    "            'roc_auc_upr' : 'perf_upr'\n",
    "        }\n",
    "    ).\n",
    "    reset_index().\n",
    "    set_index('set').\n",
    "    join(\n",
    "        fimp_df.\n",
    "        query('Feature!=\"Intercept\"').\n",
    "        set_index('set').\n",
    "        loc[:,['mean','2.5%','97.5%']].\n",
    "        rename(columns={'mean' : 'fimp','2.5%' : 'fimp_lwr','97.5%' : 'fimp_upr'})\n",
    "    ).\n",
    "    set_index('set_features').\n",
    "    join(sig_df)\n",
    ")\n",
    "dat['-log10pvalue'] = -np.log10(dat['pvalue'])\n",
    "\n",
    "dat['Marker'] = 'blue'\n",
    "dat.loc[dat.dropna().index.values,'Marker'] = 'red'\n",
    "\n",
    "dat = dat.query('set_features!=\"expired\"')\n",
    "dat = dat.query('set_features!=\"Survival\"')"
   ]
  },
  {
   "cell_type": "code",
   "execution_count": null,
   "metadata": {
    "hidden": true
   },
   "outputs": [],
   "source": [
    "dat.to_csv(dir_+'mortality_survival_marker_predictions.csv')"
   ]
  },
  {
   "cell_type": "code",
   "execution_count": null,
   "metadata": {
    "hidden": true,
    "scrolled": false
   },
   "outputs": [],
   "source": [
    "display(dat.sort_values('perf').tail(10))\n",
    "display(dat.sort_values('fimp').head(10))\n",
    "display(dat.sort_values('fimp').tail(10))\n",
    "\n",
    "dat2 = dat.query('set_features!=\"PGD\"')\n",
    "\n",
    "palette = 'RdBu_r'\n",
    "fig,ax = plt.subplots(dpi=300)\n",
    "plot = plt.scatter(dat2['fimp'].values,\n",
    "          dat2['perf'].values,\n",
    "          c=dat2['-log10pvalue'].values,\n",
    "          cmap=palette)\n",
    "\n",
    "plt.clf()\n",
    "plt.colorbar(plot)\n",
    "\n",
    "ax = sns.scatterplot('fimp','perf',hue='-log10pvalue',data=dat2,\n",
    "                    style='Marker',\n",
    "                     style_order=dat2.sort_values('Marker').Marker.unique(),\n",
    "                     edgecolor='k',palette=palette)\n",
    "ax.set_xlabel(r'$\\beta$ coefficient',size=20)\n",
    "ax.set_ylabel('AUROC',size=20)\n",
    "ax.legend_.remove()\n",
    "\n",
    "fig.tight_layout()\n",
    "\n",
    "fig.savefig('../../docs/imgs/mortality_mccv_predictions_survival.png')"
   ]
  },
  {
   "cell_type": "code",
   "execution_count": null,
   "metadata": {
    "hidden": true
   },
   "outputs": [],
   "source": [
    "(\n",
    "    dat.\n",
    "    query(\n",
    "        'perf>0.5 & perm_fimp_lwr<=0 & perm_fimp_upr>=0 & (fimp_lwr>0 | fimp_upr<0) & padj<0.0001'\n",
    "    )\n",
    ")"
   ]
  },
  {
   "cell_type": "code",
   "execution_count": null,
   "metadata": {
    "hidden": true
   },
   "outputs": [],
   "source": [
    "(\n",
    "    dat.\n",
    "    query(\n",
    "        'perf>0.5 & perm_fimp_lwr<=0 & perm_fimp_upr>=0 & (fimp_lwr>0 | fimp_upr<0) & padj<0.0001'\n",
    "    )\n",
    ").shape"
   ]
  },
  {
   "cell_type": "code",
   "execution_count": null,
   "metadata": {
    "hidden": true
   },
   "outputs": [],
   "source": [
    "(\n",
    "    dat.\n",
    "    query(\n",
    "        'perf>0.5 & perm_fimp_lwr<=0 & perm_fimp_upr>=0 & (fimp_lwr>0 | fimp_upr<0) & padj<0.0001'\n",
    "    ).\n",
    "    loc[:,\n",
    "        ['perf_lwr',\n",
    "         'perf','perf_upr','fimp_lwr',\n",
    "         'fimp','fimp_upr','padj','Gene_name'\n",
    "        ]\n",
    "       ].\n",
    "    sort_values('fimp',ascending=False)\n",
    ").to_csv(dir_+'mortality_significant_prediction_stats_survival.csv')\n",
    "(\n",
    "    dat.\n",
    "    reset_index().\n",
    "    query('fimp_lwr>0').\n",
    "    loc[:,\n",
    "        ['set_features','perf_lwr',\n",
    "         'perf','perf_upr','fimp_lwr',\n",
    "         'fimp','fimp_upr'\n",
    "        ]\n",
    "       ].\n",
    "    set_index('set_features').\n",
    "    sort_values('fimp',ascending=False)\n",
    ").to_csv(dir_+'mortality_prediction_stats.csv')"
   ]
  },
  {
   "cell_type": "code",
   "execution_count": null,
   "metadata": {
    "hidden": true
   },
   "outputs": [],
   "source": [
    "ppred_df = \\\n",
    "(\n",
    "    pd.read_csv(\n",
    "        dir_+\n",
    "        'mortality_predictions_marker_patient_predictions_survival.csv',\n",
    "        index_col=0).\n",
    "    set_index('set').\n",
    "    join(\n",
    "        fimp_df[['set','Feature']].\n",
    "        query('Feature!=\"Intercept\"').\n",
    "        drop_duplicates().\n",
    "        set_index('set')\n",
    "    ).\n",
    "    reset_index().\n",
    "    set_index('Feature').\n",
    "    join(idmap_sub.set_index('Protein'))\n",
    ")\n",
    "tmp = ppred_df[['Sample','y_proba']].set_index('Sample').join(Y)\n",
    "tmp = \\\n",
    "pd.concat([\n",
    "    pd.DataFrame(\n",
    "        [tmp.query('Survival==1').sample(100).y_proba.values,np.repeat('Survived',100)]\n",
    "    ).T,\n",
    "    pd.DataFrame(\n",
    "        [tmp.query('Survival==0').sample(100).y_proba.values,np.repeat('Died',100)]\n",
    "    ).T\n",
    "])\n",
    "tmp.columns = ['y_proba','Survival']\n",
    "tmp.y_proba = tmp.y_proba.astype(float)\n",
    "display(tmp)\n",
    "fig,ax = plt.subplots(dpi=300)\n",
    "sns.kdeplot(data=tmp,x='y_proba',hue='Survival',ax=ax)"
   ]
  },
  {
   "cell_type": "code",
   "execution_count": null,
   "metadata": {
    "hidden": true
   },
   "outputs": [],
   "source": [
    "dat = dat.query('set_features!=\"PGD\"')\n",
    "feats=dat.query('perf>0.6').index.values\n",
    "print(feats)\n",
    "print([idmap_sub.query('Protein==@feat')['Gene_name'].values[0] \n",
    "       for feat in feats])"
   ]
  },
  {
   "cell_type": "code",
   "execution_count": null,
   "metadata": {
    "hidden": true,
    "scrolled": false
   },
   "outputs": [],
   "source": [
    "default = plt.rcParams[\"font.weight\"]\n",
    "plt.rcParams[\"font.weight\"]='bold'\n",
    "dpi=300\n",
    "survived = (joined['expired']==0)\n",
    "for feat in feats:\n",
    "    gene = idmap_sub.query('Protein==@feat')['Gene_name'].values[0]\n",
    "    \n",
    "    pperf=ppred_df.loc[feat]\n",
    "    c='black'\n",
    "    \n",
    "    func=get_pperf_roc_curve_stats\n",
    "    fpr,tpr = func(pperf)\n",
    "\n",
    "    fig,ax = plt.subplots(dpi=dpi)\n",
    "    ax.plot(fpr,tpr,c=c)\n",
    "    ax.plot(fpr,tpr,c=c,marker='o',mec=c,ms=1,lw=0.00001)\n",
    "    ax.set_xlabel('')\n",
    "    fig = plt_atts_roc(ax,fig)\n",
    "    fig.savefig('../../docs/imgs/'+feat+'_'+gene+'_roc_curve.png')\n",
    "    \n",
    "    func=get_pperf_precision_recall_curve_stats\n",
    "    fpr,tpr = func(pperf)\n",
    "\n",
    "    fig,ax = plt.subplots(dpi=dpi)\n",
    "    ax.plot(fpr,tpr,c=c)\n",
    "    ax.plot(fpr,tpr,c=c,marker='o',mec=c,ms=1,lw=0.00001)\n",
    "    fig = plt_atts_pr(ax,fig)\n",
    "    fig.savefig('../../docs/imgs/'+feat+'_'+gene+'_pr_curve.png')\n",
    "    \n",
    "    prot=feat\n",
    "    df = X_all_proteins.apply(lambda x : (x - min(x)) / (max(x) - min(x)),axis=0)[[prot]]\n",
    "    dat = df.join(\n",
    "        survived.map({True : 'Survived',False : 'Died'})\n",
    "    ).join(joined.PGD.map({1 : 'PGD',0 : 'nonPGD'}))\n",
    "    fig,ax=plt.subplots(figsize=(5,3),dpi=300)\n",
    "    sns.boxplot(x='expired',y=prot,data=dat,color='lightgray',ax=ax)\n",
    "    sns.swarmplot(\n",
    "        x='expired',y=prot,\n",
    "        data=dat,\n",
    "        color=\"black\",\n",
    "        edgecolor='black',ax=ax\n",
    "    )\n",
    "    ax.set_xlabel('')\n",
    "    ax.set_ylabel('')\n",
    "    ax.set_yticklabels(ax.get_yticks(),fontsize=12)\n",
    "    ax.yaxis.set_major_formatter(matplotlib.ticker.FormatStrFormatter('%.1f'))\n",
    "    ax.set_xticklabels(ax.get_xticklabels(),fontsize=12)\n",
    "\n",
    "    fig.savefig('../../docs/imgs/'+prot+'_'+gene+'_boxplot.png')\n",
    "    plt.close()\n",
    "plt.rcParams[\"font.weight\"]=default\n"
   ]
  },
  {
   "cell_type": "markdown",
   "metadata": {
    "heading_collapsed": true
   },
   "source": [
    "## Survival prediction comparison with covariates (Figure S3)"
   ]
  },
  {
   "cell_type": "code",
   "execution_count": null,
   "metadata": {
    "hidden": true
   },
   "outputs": [],
   "source": [
    "s_perf_df = perf_df\n",
    "s_fimp_df = fimp_df"
   ]
  },
  {
   "cell_type": "code",
   "execution_count": null,
   "metadata": {
    "hidden": true
   },
   "outputs": [],
   "source": [
    "swcovs_perf_df = \\\n",
    "pd.read_csv(\n",
    "    \n",
    "    dir_+\n",
    "    'mortality_predictions_marker_performance_survival_wcovs.csv'\n",
    ")\n",
    "swcovs_perf_df.set_features = [x.replace(\"['\",'').replace(\"']\",'').strip(\", \") for x in swcovs_perf_df.set_features]\n",
    "\n",
    "idmap_sub = pd.read_csv('../../data/protein_gene_map_full.csv')[['Protein','Gene_name']].dropna()\n",
    "\n",
    "swcovs_perf_df = \\\n",
    "(\n",
    "    swcovs_perf_df.\n",
    "    loc[:,['set','set_features']].\n",
    "    set_index('set').\n",
    "    join(\n",
    "        generate_val_scores(\n",
    "            pd.read_csv(\n",
    "                dir_+'mortality_predictions_marker_patient_predictions_survival_wcovs.csv',\n",
    "                index_col=0).set_index('set')\n",
    "        )\n",
    "    ).\n",
    "    reset_index().\n",
    "    set_index('set_features').\n",
    "    join(\n",
    "        idmap_sub.set_index('Protein')\n",
    "    ).\n",
    "    sort_values('roc_auc_mean')\n",
    ")\n",
    "\n",
    "swcovs_fimp_df = pd.read_csv(dir_+'mortality_predictions_marker_feature_importance_survival_wcovs.csv')\n",
    "swcovs_fimp_df.set_features = [x.replace(\"['\",'').replace(\"']\",'').strip(\", \") for x in swcovs_fimp_df.set_features]"
   ]
  },
  {
   "cell_type": "code",
   "execution_count": null,
   "metadata": {
    "hidden": true
   },
   "outputs": [],
   "source": [
    "tmp = \\\n",
    "(\n",
    "    swcovs_perf_df.\n",
    "    query('set!=40 & set!=42 & set!=35').\n",
    "    loc[:,['roc_auc_mean']].\n",
    "    rename(columns = {'roc_auc_mean' : 'wcovs'}).\n",
    "    join(\n",
    "        s_perf_df.\n",
    "        loc[:,['roc_auc_mean']].\n",
    "        rename(columns = {'roc_auc_mean' : 'wocovs'})\n",
    "    )\n",
    ")\n",
    "fig,ax=plt.subplots(dpi=300)\n",
    "g = sns.scatterplot('wcovs','wocovs',data=tmp,ax=ax)\n",
    "ax.set_xticklabels(ax.get_xticklabels(),fontsize=12,weight='bold')\n",
    "ax.set_xlabel('Prediction with site-of-origin covariates',fontsize=12,weight='bold')\n",
    "ax.xaxis.set_major_formatter(matplotlib.ticker.FormatStrFormatter('%.2f'))\n",
    "ax.set_ylabel('Marker prediction',fontsize=12,weight='bold')\n",
    "ax.set_yticklabels(ax.get_yticks(),fontsize=12,weight='bold')\n",
    "ax.yaxis.set_major_formatter(matplotlib.ticker.FormatStrFormatter('%.2f'))\n",
    "\n",
    "x0, x1 = g.axes.get_xlim()\n",
    "y0, y1 = g.axes.get_ylim()\n",
    "lims = [max(x0, y0), min(x1, y1)]\n",
    "g.axes.plot(lims, lims, 'r--')\n",
    "fig.tight_layout()\n",
    "fig.savefig('../../docs/imgs/survival_marker_predictions_w_wo_covariates.png')"
   ]
  },
  {
   "cell_type": "code",
   "execution_count": null,
   "metadata": {
    "hidden": true
   },
   "outputs": [],
   "source": [
    "tmp = \\\n",
    "(\n",
    "    s_fimp_df.\n",
    "    query('Feature!=\"Intercept\" & Feature!=\"Cohort_Columbia\" & Feature!=\"Cohort_Cedar\" & Feature!=\"Cohort_Paris\"').\n",
    "    set_index('set').\n",
    "    loc[:,['mean']].\n",
    "    rename(columns={'mean' : 'wcovs'}).\n",
    "    join(\n",
    "        swcovs_fimp_df.\n",
    "        query('Feature!=\"expired\" & Feature!=\"Survival\" & Feature!=\"PGD\"').\n",
    "        query('Feature!=\"Intercept\" & Feature!=\"Cohort_Columbia\" & Feature!=\"Cohort_Cedar\" & Feature!=\"Cohort_Paris\"').\n",
    "        set_index('set').\n",
    "        loc[:,['mean']].\n",
    "        rename(columns={'mean' : 'wocovs'})\n",
    "    )\n",
    ")\n",
    "fig,ax=plt.subplots(dpi=300)\n",
    "g = sns.scatterplot('wcovs','wocovs',data=tmp,ax=ax)\n",
    "ax.set_xlabel('Marker association with site-of-origin covariates',fontsize=12,weight='bold')\n",
    "ax.set_xticklabels(ax.get_xticks(),fontsize=12,weight='bold')\n",
    "ax.set_ylabel('Marker association',fontsize=12,weight='bold')\n",
    "ax.set_yticklabels(ax.get_yticks(),fontsize=12,weight='bold')\n",
    "\n",
    "x0, x1 = g.axes.get_xlim()\n",
    "y0, y1 = g.axes.get_ylim()\n",
    "lims = [max(x0, y0), min(x1, y1)]\n",
    "g.axes.plot(lims, lims, 'r--')\n",
    "fig.tight_layout()\n",
    "fig.savefig('../../docs/imgs/survival_marker_associations_w_wo_covariates.png')"
   ]
  },
  {
   "cell_type": "code",
   "execution_count": null,
   "metadata": {
    "hidden": true
   },
   "outputs": [],
   "source": [
    "ppred_df = pd.read_csv(\n",
    "                dir_+'mortality_predictions_marker_patient_predictions_survival_wcovs.csv',\n",
    "                index_col=0)\n",
    "arr_dfs = []\n",
    "for set_,tmp in ppred_df.groupby('set'):\n",
    "    vals = []\n",
    "    for b in range(50):\n",
    "        sub = tmp.sample(tmp.shape[0],replace=True,random_state=b)\n",
    "        conf = metrics.confusion_matrix(sub.y_true,sub.y_pred)\n",
    "        tn = conf[0][0]\n",
    "        tp = conf[1][1]\n",
    "        fn = conf[1][0]\n",
    "        fp = conf[0][1]\n",
    "        auc = metrics.roc_auc_score(sub.y_true,sub.y_proba)\n",
    "        vals.append([auc,tp,tn,fp,fn,\n",
    "                     np.mean(sub.y_proba[sub.y_true==1]),\n",
    "                     np.mean(sub.y_proba[sub.y_true==0])])\n",
    "    arr = np.array(vals)\n",
    "    arr_df = \\\n",
    "    pd.DataFrame(\n",
    "        np.mean(arr,0),\n",
    "        index=['AUROC','TP','TN','FP','FN','mean_case_proba','mean_ctrl_proba'],\n",
    "        columns=[set_]\n",
    "    ).T\n",
    "    arr_dfs.append(\n",
    "        arr_df.eval(\n",
    "            '''\n",
    "            sensitivity = (TP/(TP+FN))\n",
    "            PPV = (TP/(TP+FP))\n",
    "            specificity = (TN/(TN+FP))\n",
    "            NPV = (TN/(TN+FN))\n",
    "            '''\n",
    "        )\n",
    "    )\n",
    "\n",
    "perf_df = \\\n",
    "pd.read_csv(\n",
    "    \n",
    "    dir_+\n",
    "    'mortality_predictions_marker_performance_survival_wcovs.csv'\n",
    ")\n",
    "perf_df.set_features = [x.replace(\"['\",'').replace(\"']\",'').strip(\", \") for x in perf_df.set_features]\n",
    "\n",
    "tmp = (\n",
    "    pd.\n",
    "    concat(arr_dfs).\n",
    "    join(\n",
    "        perf_df.\n",
    "        set_index('set').\n",
    "        loc[:,['set_features']]\n",
    "    ).\n",
    "    reset_index().\n",
    "    set_index('set_features').\n",
    "    join(\n",
    "        idmap_sub.\n",
    "        set_index('Protein')\n",
    "    ).\n",
    "    sort_values('AUROC')\n",
    ")\n",
    "tmp.sort_values('AUROC').tail(10)"
   ]
  },
  {
   "cell_type": "code",
   "execution_count": null,
   "metadata": {
    "hidden": true
   },
   "outputs": [],
   "source": [
    "perf_df = \\\n",
    "pd.read_csv(\n",
    "    \n",
    "    dir_+\n",
    "    'mortality_predictions_marker_performance_survival_wcovs.csv'\n",
    ")\n",
    "perf_df.set_features = [x.replace(\"['\",'').replace(\"']\",'').strip(\", \") for x in perf_df.set_features]\n",
    "\n",
    "val_df = \\\n",
    "pd.read_csv(\n",
    "    dir_+'mortality_predictions_marker_patient_predictions_survival_wcovs.csv',\n",
    "    index_col=0)\n",
    "\n",
    "perf_df = \\\n",
    "(\n",
    "    perf_df.\n",
    "    loc[:,['set','set_features']].\n",
    "    set_index('set').\n",
    "    join(\n",
    "        generate_val_scores(\n",
    "            val_df.set_index('set')\n",
    "        )\n",
    "    ).\n",
    "    reset_index().\n",
    "    set_index('set_features').\n",
    "    join(\n",
    "        idmap_sub.set_index('Protein')\n",
    "    ).\n",
    "    sort_values('roc_auc_mean')\n",
    ")\n",
    "\n",
    "fimp_df = pd.read_csv(dir_+'mortality_predictions_marker_feature_importance_survival_wcovs.csv')\n",
    "fimp_df.set_features = [x.replace(\"['\",'').replace(\"']\",'').strip(\", \") for x in fimp_df.set_features]"
   ]
  },
  {
   "cell_type": "code",
   "execution_count": null,
   "metadata": {
    "hidden": true
   },
   "outputs": [],
   "source": [
    "full_fimp_df = \\\n",
    "pd.read_csv(\n",
    "    dir_+'mortality_predictions_marker_full_feature_importance_survival_wcovs.csv',\n",
    "    index_col=0\n",
    ")\n",
    "full_perm_fimp_df = \\\n",
    "pd.read_csv(\n",
    "    dir_+'mortality_predictions_marker_full_permuted_feature_importance_survival_wcovs.csv',\n",
    "    index_col=0\n",
    ")\n",
    "proteins = np.intersect1d(full_fimp_df.Feature.unique(),full_perm_fimp_df.Feature.unique())\n",
    "sig_lst = []\n",
    "for prot in proteins:\n",
    "    x = full_fimp_df[full_fimp_df.Feature==prot].Importance.values\n",
    "    y = full_perm_fimp_df[full_fimp_df.Feature==prot].Importance.values\n",
    "    lwr, upr = (\n",
    "        full_perm_fimp_df[\n",
    "            full_fimp_df.Feature==prot\n",
    "        ].\n",
    "        Importance.\n",
    "        describe(\n",
    "            percentiles=[0.025,0.975]\n",
    "        ).\n",
    "        loc[['2.5%','97.5%']]\n",
    "    )\n",
    "    stat, pv = ks_2samp(x,y)\n",
    "    sig_lst.append(\n",
    "        pd.DataFrame(\n",
    "            {'statistic' : stat,'pvalue' : pv,'perm_fimp_lwr' : lwr,'perm_fimp_upr' : upr},\n",
    "            index=[prot]\n",
    "        )\n",
    "    )\n",
    "sig_df = pd.concat(sig_lst)\n",
    "sig_df['padj'] = multipletests(sig_df['pvalue'],method='bonferroni')[1]\n",
    "sig_df"
   ]
  },
  {
   "cell_type": "code",
   "execution_count": null,
   "metadata": {
    "hidden": true
   },
   "outputs": [],
   "source": [
    "dat = \\\n",
    "(\n",
    "    perf_df.\n",
    "    loc[:,['roc_auc_mean','roc_auc_lwr','roc_auc_upr','set','Gene_name']].\n",
    "    rename(\n",
    "        columns={\n",
    "            'roc_auc_mean' : 'perf',\n",
    "            'roc_auc_lwr' : 'perf_lwr',\n",
    "            'roc_auc_upr' : 'perf_upr'\n",
    "        }\n",
    "    ).\n",
    "    reset_index().\n",
    "    set_index('set').\n",
    "    join(\n",
    "        fimp_df.\n",
    "        query('Feature!=\"Intercept\"').\n",
    "        query(\"Feature!='Cohort_Columbia'\").\n",
    "        query(\"Feature!='Cohort_Cedar'\").\n",
    "        query(\"Feature!='Cohort_Paris'\").\n",
    "        set_index('set').\n",
    "        loc[:,['mean','2.5%','97.5%']].\n",
    "        rename(columns={'mean' : 'fimp','2.5%' : 'fimp_lwr','97.5%' : 'fimp_upr'})\n",
    "    ).\n",
    "    set_index('set_features').\n",
    "    join(sig_df)\n",
    ")\n",
    "dat['-log10pvalue'] = -np.log10(dat['pvalue'])\n",
    "dat.index.name = 'set_features'\n",
    "dat = dat.reset_index()\n",
    "dat"
   ]
  },
  {
   "cell_type": "code",
   "execution_count": null,
   "metadata": {
    "hidden": true
   },
   "outputs": [],
   "source": [
    "dat.to_csv(dir_+'mortality_survival_marker_predictions_wcovs.csv')"
   ]
  },
  {
   "cell_type": "code",
   "execution_count": null,
   "metadata": {
    "hidden": true
   },
   "outputs": [],
   "source": [
    "dat_wcovs = dat.copy()\n",
    "dat_wocovs = pd.read_csv(dir_+'mortality_survival_marker_predictions.csv')\n",
    "fts = (\n",
    "    dat_wcovs.\n",
    "    query(\n",
    "        'perf>0.5 & perm_fimp_lwr<=0 & perm_fimp_upr>=0 & (fimp_lwr>0 | fimp_upr<0) & padj<0.0001'\n",
    "    ).\n",
    "    set_features.values\n",
    ")\n",
    "(\n",
    "    dat_wocovs.\n",
    "    query(\n",
    "        'perf>0.5 & perm_fimp_lwr<=0 & perm_fimp_upr>=0 & (fimp_lwr>0 | fimp_upr<0) & padj<0.0001'\n",
    "    ).\n",
    "    query('set_features in @fts').\n",
    "    sort_values('fimp',ascending=False)\n",
    ")"
   ]
  },
  {
   "cell_type": "markdown",
   "metadata": {
    "heading_collapsed": true
   },
   "source": [
    "## Survival prediction within 1 year"
   ]
  },
  {
   "cell_type": "code",
   "execution_count": null,
   "metadata": {
    "hidden": true
   },
   "outputs": [],
   "source": [
    "perf_df = \\\n",
    "pd.read_csv(\n",
    "    \n",
    "    dir_+\n",
    "    'mortality_predictions_marker_performance_survival_wn_year.csv'\n",
    ")\n",
    "perf_df.set_features = [x.replace(\"['\",'').replace(\"']\",'').strip(\", \") for x in perf_df.set_features]\n",
    "perf_df = \\\n",
    "(\n",
    "    perf_df.\n",
    "    loc[:,['set','set_features']].\n",
    "    set_index('set').\n",
    "    join(\n",
    "        generate_val_scores(\n",
    "            pd.read_csv(\n",
    "                dir_+'mortality_predictions_marker_patient_predictions_survival_wn_year.csv',\n",
    "                index_col=0).set_index('set')\n",
    "        )\n",
    "    ).\n",
    "    reset_index().\n",
    "    set_index('set_features').\n",
    "    join(\n",
    "        idmap_sub.set_index('Protein')\n",
    "    ).\n",
    "    sort_values('roc_auc_mean')\n",
    ")\n",
    "\n",
    "fimp_df = pd.read_csv(dir_+'mortality_predictions_marker_feature_importance_survival_wn_year.csv')\n",
    "fimp_df.set_features = [x.replace(\"['\",'').replace(\"']\",'').strip(\", \") for x in fimp_df.set_features]"
   ]
  },
  {
   "cell_type": "code",
   "execution_count": null,
   "metadata": {
    "hidden": true
   },
   "outputs": [],
   "source": [
    "full_fimp_df = \\\n",
    "pd.read_csv(\n",
    "    dir_+'mortality_predictions_marker_full_feature_importance_survival_wn_year.csv',\n",
    "    index_col=0\n",
    ")\n",
    "full_perm_fimp_df = \\\n",
    "pd.read_csv(\n",
    "    dir_+'mortality_predictions_marker_full_permuted_feature_importance_survival_wn_year.csv',\n",
    "    index_col=0\n",
    ")\n",
    "proteins = np.intersect1d(full_fimp_df.Feature.unique(),full_perm_fimp_df.Feature.unique())\n",
    "sig_lst = []\n",
    "for prot in proteins:\n",
    "    x = full_fimp_df[full_fimp_df.Feature==prot].Importance.values\n",
    "    y = full_perm_fimp_df[full_fimp_df.Feature==prot].Importance.values\n",
    "    lwr, upr = (\n",
    "        full_perm_fimp_df[\n",
    "            full_fimp_df.Feature==prot\n",
    "        ].\n",
    "        Importance.\n",
    "        describe(\n",
    "            percentiles=[0.025,0.975]\n",
    "        ).\n",
    "        loc[['2.5%','97.5%']]\n",
    "    )\n",
    "    stat, pv = ks_2samp(x,y)\n",
    "    sig_lst.append(\n",
    "        pd.DataFrame(\n",
    "            {'statistic' : stat,'pvalue' : pv,'perm_fimp_lwr' : lwr,'perm_fimp_upr' : upr},\n",
    "            index=[prot]\n",
    "        )\n",
    "    )\n",
    "sig_df = pd.concat(sig_lst)\n",
    "sig_df['padj'] = multipletests(sig_df['pvalue'],method='bonferroni')[1]\n",
    "sig_df"
   ]
  },
  {
   "cell_type": "code",
   "execution_count": null,
   "metadata": {
    "hidden": true
   },
   "outputs": [],
   "source": [
    "dat = \\\n",
    "(\n",
    "    perf_df.\n",
    "    loc[:,['roc_auc_mean','roc_auc_lwr','roc_auc_upr','set','Gene_name']].\n",
    "    rename(\n",
    "        columns={\n",
    "            'roc_auc_mean' : 'perf',\n",
    "            'roc_auc_lwr' : 'perf_lwr',\n",
    "            'roc_auc_upr' : 'perf_upr'\n",
    "        }\n",
    "    ).\n",
    "    reset_index().\n",
    "    set_index('set').\n",
    "    join(\n",
    "        fimp_df.\n",
    "        query('Feature!=\"Intercept\" & Feature!=\"PGD\"').\n",
    "        set_index('set').\n",
    "        loc[:,['mean','2.5%','97.5%']].\n",
    "        rename(columns={'mean' : 'fimp','2.5%' : 'fimp_lwr','97.5%' : 'fimp_upr'})\n",
    "    ).\n",
    "    set_index('set_features').\n",
    "    join(sig_df)\n",
    ")\n",
    "dat = dat.query('set_features!=\"PGD\"')\n",
    "dat = dat.query('set_features!=\"expired\"')\n",
    "dat = dat.query('set_features!=\"Survival\"')"
   ]
  },
  {
   "cell_type": "code",
   "execution_count": null,
   "metadata": {
    "hidden": true
   },
   "outputs": [],
   "source": [
    "(\n",
    "    dat.\n",
    "    query(\n",
    "        'perf>0.5 & perm_fimp_lwr<=0 & perm_fimp_upr>=0 & (fimp_lwr>0 | fimp_upr<0) & padj<0.0001'\n",
    "    )\n",
    ")"
   ]
  },
  {
   "cell_type": "code",
   "execution_count": null,
   "metadata": {
    "hidden": true
   },
   "outputs": [],
   "source": [
    "(\n",
    "    dat.\n",
    "    query(\n",
    "        'perf>0.5 & perm_fimp_lwr<=0 & perm_fimp_upr>=0 & (fimp_lwr>0 | fimp_upr<0) & padj<0.0001'\n",
    "    ).\n",
    "    loc[:,\n",
    "        ['perf_lwr',\n",
    "         'perf','perf_upr','fimp_lwr',\n",
    "         'fimp','fimp_upr','padj','Gene_name'\n",
    "        ]\n",
    "       ].\n",
    "    sort_values('fimp',ascending=False)\n",
    ").to_csv(dir_+'mortality_significant_prediction_stats_survival_wn_year.csv')"
   ]
  },
  {
   "cell_type": "markdown",
   "metadata": {
    "heading_collapsed": true
   },
   "source": [
    "## Survival prediction with PGD covariate"
   ]
  },
  {
   "cell_type": "code",
   "execution_count": null,
   "metadata": {
    "hidden": true
   },
   "outputs": [],
   "source": [
    "perf_df = \\\n",
    "pd.read_csv(\n",
    "    \n",
    "    dir_+\n",
    "    'mortality_predictions_marker_performance_survival_wpgdcov.csv'\n",
    ")\n",
    "perf_df.set_features = [x.replace(\"['\",'').replace(\"']\",'').strip(\", \") for x in perf_df.set_features]\n",
    "perf_df = \\\n",
    "(\n",
    "    perf_df.\n",
    "    loc[:,['set','set_features']].\n",
    "    set_index('set').\n",
    "    join(\n",
    "        generate_val_scores(\n",
    "            pd.read_csv(\n",
    "                dir_+'mortality_predictions_marker_patient_predictions_survival_wpgdcov.csv',\n",
    "                index_col=0).set_index('set')\n",
    "        )\n",
    "    ).\n",
    "    reset_index().\n",
    "    set_index('set_features').\n",
    "    join(\n",
    "        idmap_sub.set_index('Protein')\n",
    "    ).\n",
    "    sort_values('roc_auc_mean')\n",
    ")\n",
    "\n",
    "fimp_df = pd.read_csv(dir_+'mortality_predictions_marker_feature_importance_survival_wpgdcov.csv')\n",
    "fimp_df.set_features = [x.replace(\"['\",'').replace(\"']\",'').strip(\", \") for x in fimp_df.set_features]"
   ]
  },
  {
   "cell_type": "code",
   "execution_count": null,
   "metadata": {
    "hidden": true
   },
   "outputs": [],
   "source": [
    "full_fimp_df = \\\n",
    "pd.read_csv(\n",
    "    dir_+'mortality_predictions_marker_full_feature_importance_survival_wpgdcov.csv',\n",
    "    index_col=0\n",
    ")\n",
    "full_perm_fimp_df = \\\n",
    "pd.read_csv(\n",
    "    dir_+'mortality_predictions_marker_full_permuted_feature_importance_survival_wpgdcov.csv',\n",
    "    index_col=0\n",
    ")\n",
    "proteins = np.intersect1d(full_fimp_df.Feature.unique(),full_perm_fimp_df.Feature.unique())\n",
    "sig_lst = []\n",
    "for prot in proteins:\n",
    "    x = full_fimp_df[full_fimp_df.Feature==prot].Importance.values\n",
    "    y = full_perm_fimp_df[full_fimp_df.Feature==prot].Importance.values\n",
    "    lwr, upr = (\n",
    "        full_perm_fimp_df[\n",
    "            full_fimp_df.Feature==prot\n",
    "        ].\n",
    "        Importance.\n",
    "        describe(\n",
    "            percentiles=[0.025,0.975]\n",
    "        ).\n",
    "        loc[['2.5%','97.5%']]\n",
    "    )\n",
    "    stat, pv = ks_2samp(x,y)\n",
    "    sig_lst.append(\n",
    "        pd.DataFrame(\n",
    "            {'statistic' : stat,'pvalue' : pv,'perm_fimp_lwr' : lwr,'perm_fimp_upr' : upr},\n",
    "            index=[prot]\n",
    "        )\n",
    "    )\n",
    "sig_df = pd.concat(sig_lst)\n",
    "sig_df['padj'] = multipletests(sig_df['pvalue'],method='bonferroni')[1]\n",
    "sig_df"
   ]
  },
  {
   "cell_type": "code",
   "execution_count": null,
   "metadata": {
    "hidden": true
   },
   "outputs": [],
   "source": [
    "dat = \\\n",
    "(\n",
    "    perf_df.\n",
    "    loc[:,['roc_auc_mean','roc_auc_lwr','roc_auc_upr','set','Gene_name']].\n",
    "    rename(\n",
    "        columns={\n",
    "            'roc_auc_mean' : 'perf',\n",
    "            'roc_auc_lwr' : 'perf_lwr',\n",
    "            'roc_auc_upr' : 'perf_upr'\n",
    "        }\n",
    "    ).\n",
    "    reset_index().\n",
    "    set_index('set').\n",
    "    join(\n",
    "        fimp_df.\n",
    "        query('Feature!=\"Intercept\" & Feature!=\"PGD\"').\n",
    "        set_index('set').\n",
    "        loc[:,['mean','2.5%','97.5%']].\n",
    "        rename(columns={'mean' : 'fimp','2.5%' : 'fimp_lwr','97.5%' : 'fimp_upr'})\n",
    "    ).\n",
    "    set_index('set_features').\n",
    "    join(sig_df)\n",
    ")\n",
    "dat = dat.query('set_features!=\"PGD\"')\n",
    "dat = dat.query('set_features!=\"expired\"')\n",
    "dat = dat.query('set_features!=\"Survival\"')"
   ]
  },
  {
   "cell_type": "code",
   "execution_count": null,
   "metadata": {
    "hidden": true
   },
   "outputs": [],
   "source": [
    "(\n",
    "    dat.\n",
    "    query(\n",
    "        'perf>0.5 & perm_fimp_lwr<=0 & perm_fimp_upr>=0 & (fimp_lwr>0 | fimp_upr<0) & padj<0.0001'\n",
    "    )\n",
    ")"
   ]
  },
  {
   "cell_type": "code",
   "execution_count": null,
   "metadata": {
    "hidden": true
   },
   "outputs": [],
   "source": [
    "prots = \\\n",
    "(\n",
    "    pd.\n",
    "    read_csv(\n",
    "        dir_+'mortality_significant_prediction_stats_survival.csv'\n",
    "    ).\n",
    "    loc[:,'Gene_name'].\n",
    "    values\n",
    ")"
   ]
  },
  {
   "cell_type": "code",
   "execution_count": null,
   "metadata": {
    "hidden": true
   },
   "outputs": [],
   "source": [
    "(\n",
    "    dat.\n",
    "    query(\n",
    "        '(perf>0.5 & perm_fimp_lwr<=0 & perm_fimp_upr>=0 & \\\n",
    "        (fimp_lwr>0 | fimp_upr<0) & padj<0.0001) | \\\n",
    "        Gene_name in @prots'\n",
    "    ).\n",
    "    loc[:,\n",
    "        ['perf_lwr',\n",
    "         'perf','perf_upr','fimp_lwr',\n",
    "         'fimp','fimp_upr','padj','Gene_name'\n",
    "        ]\n",
    "       ].\n",
    "    sort_values('fimp',ascending=False)\n",
    ").to_csv(dir_+'mortality_significant_prediction_stats_survival_wpgdcov.csv')"
   ]
  },
  {
   "cell_type": "markdown",
   "metadata": {
    "heading_collapsed": true
   },
   "source": [
    "## PGD predictions (Figure S4)"
   ]
  },
  {
   "cell_type": "code",
   "execution_count": null,
   "metadata": {
    "hidden": true
   },
   "outputs": [],
   "source": [
    "perf_df = \\\n",
    "pd.read_csv(\n",
    "    \n",
    "    dir_+\n",
    "    'mortality_predictions_marker_performance_survival.csv'\n",
    ")\n",
    "perf_df.set_features = [x.replace(\"['\",'').replace(\"']\",'').strip(\", \") for x in perf_df.set_features]\n",
    "perf_df = \\\n",
    "(\n",
    "    perf_df.\n",
    "    loc[:,['set','set_features']].\n",
    "    set_index('set').\n",
    "    join(\n",
    "        generate_val_scores(\n",
    "            pd.read_csv(\n",
    "                dir_+'mortality_predictions_marker_patient_predictions_survival.csv',\n",
    "                index_col=0).set_index('set')\n",
    "        )\n",
    "    ).\n",
    "    reset_index().\n",
    "    set_index('set_features').\n",
    "    join(\n",
    "        idmap_sub.set_index('Protein')\n",
    "    ).\n",
    "    sort_values('roc_auc_mean')\n",
    ")\n",
    "perf_df"
   ]
  },
  {
   "cell_type": "code",
   "execution_count": null,
   "metadata": {
    "hidden": true
   },
   "outputs": [],
   "source": [
    "pgd_perf_df = \\\n",
    "pd.read_csv(\n",
    "    \n",
    "    dir_+\n",
    "    'mortality_predictions_marker_performance_survival_pgd.csv'\n",
    ")\n",
    "pgd_perf_df.set_features = [x.replace(\"['\",'').replace(\"']\",'').strip(\", \") for x in pgd_perf_df.set_features]\n",
    "pgd_perf_df = \\\n",
    "(\n",
    "    pgd_perf_df.\n",
    "    loc[:,['set','set_features']].\n",
    "    set_index('set').\n",
    "    join(\n",
    "        generate_val_scores(\n",
    "            pd.read_csv(\n",
    "                dir_+'mortality_predictions_marker_patient_predictions_survival_pgd.csv',\n",
    "                index_col=0).set_index('set')\n",
    "        )\n",
    "    ).\n",
    "    reset_index().\n",
    "    set_index('set_features').\n",
    "    join(\n",
    "        idmap_sub.set_index('Protein')\n",
    "    ).\n",
    "    sort_values('roc_auc_mean')\n",
    ")\n",
    "pgd_fimp_df = pd.read_csv(dir_+'mortality_predictions_marker_feature_importance_survival_pgd.csv')\n",
    "pgd_fimp_df.set_features = [x.replace(\"['\",'').replace(\"']\",'').strip(\", \") for x in pgd_fimp_df.set_features]\n",
    "\n",
    "pgd_perf_df.to_csv(dir_+'mortality_predictions_marker_processed_patient_predictions_pgd.csv')"
   ]
  },
  {
   "cell_type": "code",
   "execution_count": null,
   "metadata": {
    "hidden": true
   },
   "outputs": [],
   "source": [
    "dat = \\\n",
    "(\n",
    "    pgd_perf_df.\n",
    "    loc[:,['roc_auc_mean','roc_auc_lwr','roc_auc_upr','set','Gene_name']].\n",
    "    rename(\n",
    "        columns={\n",
    "            'roc_auc_mean' : 'perf',\n",
    "            'roc_auc_lwr' : 'perf_lwr',\n",
    "            'roc_auc_upr' : 'perf_upr'\n",
    "        }\n",
    "    ).\n",
    "    reset_index().\n",
    "    set_index('set').\n",
    "    join(\n",
    "        pgd_fimp_df.\n",
    "        query('Feature!=\"Intercept\"').\n",
    "        set_index('set').\n",
    "        loc[:,['mean','2.5%','97.5%']].\n",
    "        rename(columns={'mean' : 'fimp','2.5%' : 'fimp_lwr','97.5%' : 'fimp_upr'})\n",
    "    ).\n",
    "    set_index('set_features')\n",
    ")\n",
    "\n",
    "dat = dat.query('set_features!=\"PGD\"')\n",
    "dat = dat.query('set_features!=\"expired\"')\n",
    "dat = dat.query('set_features!=\"Survival\"')\n",
    "\n",
    "dat.to_csv(dir_+'mortality_pgd_marker_predictions.csv')\n",
    "\n"
   ]
  },
  {
   "cell_type": "code",
   "execution_count": null,
   "metadata": {
    "hidden": true,
    "scrolled": false
   },
   "outputs": [],
   "source": [
    "dat = \\\n",
    "(perf_df.\n",
    " reset_index().\n",
    " set_index('set_features').\n",
    " rename(columns = {'roc_auc_mean' : 'mean'}).\n",
    " loc[:,['mean']].\n",
    " query('set_features!=\"PGD\" & set_features!=\"expired\"').\n",
    " join(\n",
    "     pgd_perf_df.\n",
    "     reset_index().\n",
    "     set_index('set_features').\n",
    "     rename(columns={'roc_auc_mean' : 'pgd_mean'}).\n",
    "     loc[:,['pgd_mean']]\n",
    " ).\n",
    "  query('set_features!=\"Survival\"')\n",
    ")\n",
    "\n",
    "\n",
    "fig,ax = plt.subplots(dpi=300)\n",
    "display(dat.sort_values('mean'))\n",
    "display(dat.sort_values('pgd_mean'))\n",
    "display(dat.query('mean>0.5 & pgd_mean>0.5').sort_values('pgd_mean'))\n",
    "ax = sns.scatterplot('mean','pgd_mean',data=dat,ax=ax)\n",
    "ax.set_xlabel('Survival prediction')\n",
    "ax.set_ylabel('PGD prediction')\n",
    "\n",
    "fig.tight_layout()\n",
    "fig.savefig('../../docs/imgs/survival_vs_pgd_marker_prediction.png')"
   ]
  },
  {
   "cell_type": "code",
   "execution_count": null,
   "metadata": {
    "hidden": true
   },
   "outputs": [],
   "source": [
    "a=dat['mean'].values\n",
    "b=dat['pgd_mean'].values\n",
    "spearmanr(a,b)"
   ]
  },
  {
   "cell_type": "markdown",
   "metadata": {
    "heading_collapsed": true
   },
   "source": [
    "## GSEA (Table S2 and Figure S5)"
   ]
  },
  {
   "cell_type": "code",
   "execution_count": null,
   "metadata": {
    "hidden": true
   },
   "outputs": [],
   "source": [
    "import gseapy as gp\n",
    "gp.__version__"
   ]
  },
  {
   "cell_type": "code",
   "execution_count": null,
   "metadata": {
    "hidden": true
   },
   "outputs": [],
   "source": [
    "gs = ['GO_Biological_Process_2017b','GO_Molecular_Function_2017b',\n",
    "      'GO_Cellular_Component_2017b','Reactome_2016','WikiPathways_2019_Human',\n",
    "      'KEGG_2019_Human']\n",
    "col_map = { 'nes' : 'Normalized Enrichment Score', 'pval' : 'P-value', 'fdr' : 'False Discovery Rate',\"Category\" : 'Category'}"
   ]
  },
  {
   "cell_type": "code",
   "execution_count": null,
   "metadata": {
    "hidden": true
   },
   "outputs": [],
   "source": [
    "joined = pd.read_csv('../../data/mortality_X_y_dedup.csv',index_col=0)\n",
    "tmp = joined.expired.values\n",
    "tmp2 = ['ALIVE' if x==0 else 'DIED' for x in tmp]\n",
    "print(' '.join(str(x) for x in tmp2)) # for mortality.csl"
   ]
  },
  {
   "cell_type": "code",
   "execution_count": null,
   "metadata": {
    "hidden": true
   },
   "outputs": [],
   "source": [
    "phenoA, phenoB, class_vector =  gp.parser.gsea_cls_parser('../../data/mortality_dedup.cls')\n",
    "print(phenoA)\n",
    "print(phenoB)\n",
    "class_vector"
   ]
  },
  {
   "cell_type": "code",
   "execution_count": null,
   "metadata": {
    "hidden": true
   },
   "outputs": [],
   "source": [
    "idmap_sub = pd.read_csv('../../data/protein_gene_map_full.csv').set_index('Protein')\n",
    "dat = X_all_proteins.copy()\n",
    "genes = [idmap_sub.loc[x].Gene_name for x in X_all_proteins.columns]\n",
    "dat.columns = genes\n",
    "dat.index.name = 'NAME'\n",
    "dat = dat.T\n",
    "dat"
   ]
  },
  {
   "cell_type": "markdown",
   "metadata": {
    "hidden": true
   },
   "source": [
    "### Phenotype permutation"
   ]
  },
  {
   "cell_type": "code",
   "execution_count": null,
   "metadata": {
    "hidden": true
   },
   "outputs": [],
   "source": [
    "reses = {}\n",
    "for g in gs:\n",
    "    gs_res = gp.gsea(data=dat,\n",
    "                 gene_sets=g, # enrichr library names\n",
    "                 cls = '../../data/mortality_dedup.cls',\n",
    "                 # set permutation_type to phenotype if samples >=15\n",
    "                 permutation_type='phenotype',\n",
    "                 permutation_num=1000, # reduce number to speed up test\n",
    "                 outdir=None,  # do not write output to disk\n",
    "                 no_plot=True, # Skip plotting\n",
    "                 method='signal_to_noise',\n",
    "                 processes=4, seed= 7,\n",
    "                 format='png')\n",
    "    gs_res.res2d['geneset'] = g\n",
    "    reses[g] = gs_res"
   ]
  },
  {
   "cell_type": "code",
   "execution_count": null,
   "metadata": {
    "hidden": true
   },
   "outputs": [],
   "source": [
    "res2ds = pd.concat([reses[x].res2d for x in reses.keys()])\n",
    "res2ds = res2ds.sort_values('fdr')"
   ]
  },
  {
   "cell_type": "code",
   "execution_count": null,
   "metadata": {
    "hidden": true
   },
   "outputs": [],
   "source": [
    "res2ds.to_csv('../../data/mortality_gsea_phenotype_permutation_results.csv')"
   ]
  },
  {
   "cell_type": "code",
   "execution_count": null,
   "metadata": {
    "hidden": true
   },
   "outputs": [],
   "source": [
    "terms = res2ds.index.values\n",
    "genesets = res2ds.geneset"
   ]
  },
  {
   "cell_type": "code",
   "execution_count": null,
   "metadata": {
    "hidden": true
   },
   "outputs": [],
   "source": [
    "ranking_dict = {}\n",
    "for g in gs:\n",
    "    ranking_dict[g] = reses[g].ranking"
   ]
  },
  {
   "cell_type": "code",
   "execution_count": null,
   "metadata": {
    "hidden": true
   },
   "outputs": [],
   "source": [
    "from gseapy.plot import gseaplot, heatmap"
   ]
  },
  {
   "cell_type": "code",
   "execution_count": null,
   "metadata": {
    "hidden": true
   },
   "outputs": [],
   "source": [
    "for i in range(len(terms)):\n",
    "    term = terms[i]\n",
    "    geneset = genesets[i]\n",
    "    ranking = ranking_dict[geneset]\n",
    "    gseaplot(ranking, term=term, **reses[geneset].results[term],\n",
    "             ofname='../../docs/imgs/all_fdr/gsea_plots/mortality_gsea'+term.replace('/','-')+'.png')"
   ]
  },
  {
   "cell_type": "code",
   "execution_count": null,
   "metadata": {
    "hidden": true
   },
   "outputs": [],
   "source": [
    "for i in range(len(terms)):\n",
    "    term = terms[i]\n",
    "    geneset = genesets[i]\n",
    "    gs_res = reses[geneset]\n",
    "    genes = gs_res.res2d.loc[term].ledge_genes.split(';')\n",
    "    mat = gs_res.heatmat.copy()\n",
    "    cols = [gs_res.heatmat.columns[i] + ' ' + class_vector[i] for i in range(len(gs_res.heatmat.columns))]\n",
    "    mat.columns = cols\n",
    "    heatmap(df = mat.loc[genes], z_score=0, \n",
    "            title=term,figsize=(24,6),\n",
    "            ofname='../../docs/imgs/all_fdr/heatmaps/mortality_gsea_heatmap_'+term.replace('/','-')+'.png')"
   ]
  },
  {
   "cell_type": "markdown",
   "metadata": {
    "heading_collapsed": true,
    "hidden": true
   },
   "source": [
    "### Gene permutation"
   ]
  },
  {
   "cell_type": "code",
   "execution_count": null,
   "metadata": {
    "hidden": true
   },
   "outputs": [],
   "source": [
    "rnk = \\\n",
    "pd.read_csv(dir_+'survival_rank_statistic.csv')[['Gene_name','odds']].drop_duplicates(subset='Gene_name')\n",
    "rnk.head()"
   ]
  },
  {
   "cell_type": "code",
   "execution_count": null,
   "metadata": {
    "hidden": true
   },
   "outputs": [],
   "source": [
    "for g in gs:\n",
    "    print('\\t'+g)\n",
    "    pre_res = gp.prerank(rnk=rnk[['Gene_name','odds']], gene_sets=g,\n",
    "                     processes=4,\n",
    "                     permutation_num=10000,\n",
    "                     outdir=dir_+'survival_gsea/'+g,format='png')\n",
    "    \n",
    "datas=[]\n",
    "for g in gs:\n",
    "    data = (\n",
    "        pd.read_csv(\n",
    "            dir_+'survival_gsea/'+g+'/gseapy.prerank.gene_sets.report.csv'\n",
    "        ).sort_values(['fdr','nes'],ascending=[True,False]).\n",
    "        query('fdr < 0.2 & (nes > 0 | nes < 0) & (fdr>pval | fdr==0)').\n",
    "        rename(columns=col_map).\n",
    "        set_index('Term')\n",
    "    )\n",
    "    data['Category'] = g\n",
    "    datas.append(data)\n",
    "pd.concat(datas).to_csv(dir_+'survival_gsea/'+\n",
    "                       'prerank_report_all_categories.csv')\n",
    "pd.concat(datas).shape"
   ]
  },
  {
   "cell_type": "code",
   "execution_count": null,
   "metadata": {
    "hidden": true
   },
   "outputs": [],
   "source": [
    "enriched = pd.concat(datas).copy()\n",
    "tmp = enriched[[k for k in col_map.values()]].sort_values('False Discovery Rate',ascending=True).round(4)\n",
    "tmp.sort_values('False Discovery Rate',ascending=True).to_csv(dir_+'survival_gsea/'+'pathways_functions.csv')\n",
    "enriched.to_csv(dir_+'survival_gsea/'+'pathways_functions_wgenes.csv')\n",
    "display(tmp.sort_values('False Discovery Rate',ascending=True))\n",
    "print(tmp.shape[0])"
   ]
  },
  {
   "cell_type": "code",
   "execution_count": null,
   "metadata": {
    "hidden": true
   },
   "outputs": [],
   "source": []
  }
 ],
 "metadata": {
  "kernelspec": {
   "display_name": "Python 3",
   "language": "python",
   "name": "python3"
  },
  "language_info": {
   "codemirror_mode": {
    "name": "ipython",
    "version": 3
   },
   "file_extension": ".py",
   "mimetype": "text/x-python",
   "name": "python",
   "nbconvert_exporter": "python",
   "pygments_lexer": "ipython3",
   "version": "3.8.5"
  },
  "toc": {
   "base_numbering": 1,
   "nav_menu": {},
   "number_sections": true,
   "sideBar": true,
   "skip_h1_title": false,
   "title_cell": "Table of Contents",
   "title_sidebar": "Contents",
   "toc_cell": false,
   "toc_position": {},
   "toc_section_display": true,
   "toc_window_display": true
  }
 },
 "nbformat": 4,
 "nbformat_minor": 4
}
