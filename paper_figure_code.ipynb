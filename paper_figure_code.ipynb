{
 "cells": [
  {
   "cell_type": "markdown",
   "metadata": {},
   "source": [
    "# Survival analysis"
   ]
  },
  {
   "cell_type": "code",
   "execution_count": null,
   "metadata": {},
   "outputs": [],
   "source": [
    "import pickle\n",
    "num_cores = 4\n",
    "import multiprocessing as mp\n",
    "import time\n",
    "import random\n",
    "import os\n",
    "import numpy as np\n",
    "import pandas as pd\n",
    "import matplotlib\n",
    "import matplotlib.pyplot as plt\n",
    "\n",
    "from scipy.stats import ks_2samp, mannwhitneyu,ttest_ind, spearmanr\n",
    "from statsmodels.stats.proportion import proportions_ztest\n",
    "from statsmodels.stats.multitest import multipletests\n",
    "import statsmodels.api as sm\n",
    "\n",
    "from datetime import date\n",
    "\n",
    "import seaborn as sns\n",
    "sns.set_palette(\"colorblind\")\n",
    "\n",
    "from sklearn.utils import resample\n",
    "\n",
    "from sklearn import linear_model\n",
    "from sklearn import metrics\n",
    "from sklearn.metrics import roc_curve,precision_recall_curve\n",
    "from sklearn.feature_selection import chi2,f_regression\n",
    "\n",
    "dir_=\"../../data/\""
   ]
  },
  {
   "cell_type": "code",
   "execution_count": null,
   "metadata": {},
   "outputs": [],
   "source": [
    "X_all_proteins = pd.read_csv(dir_+'integrated_X_raw_all_proteins.csv',index_col=0)\n",
    "X_all_clinical = pd.read_csv(dir_+'integrated_X_clinical_and_cohort_covariates.csv',index_col=0)\n",
    "Y_pgd = pd.read_csv(dir_+'integrated_pgd_y.csv',index_col=0,header=None)\n",
    "Y_pgd = Y_pgd.rename(columns={1 : 'PGD'})\n",
    "Y_pgd.index.name=''"
   ]
  },
  {
   "cell_type": "code",
   "execution_count": null,
   "metadata": {},
   "outputs": [],
   "source": [
    "cov_df = X_all_clinical.loc[:,['Cohort_Columbia','Cohort_Cedar']].copy().astype(int)\n",
    "all_cov_df = cov_df.copy()\n",
    "all_cov_df.loc[:,'Cohort_Paris'] = (\n",
    "    (all_cov_df['Cohort_Columbia'] + \n",
    "     all_cov_df['Cohort_Cedar'])==0).astype(int)"
   ]
  },
  {
   "cell_type": "code",
   "execution_count": null,
   "metadata": {},
   "outputs": [],
   "source": [
    "idmap_sub = pd.read_csv('../../data/protein_gene_map_full.csv')[['Protein','Gene_name']].dropna()\n",
    "idmap_sub"
   ]
  },
  {
   "cell_type": "code",
   "execution_count": null,
   "metadata": {},
   "outputs": [],
   "source": [
    "proteins = pickle.load(open(dir_+'proteins_no_immunoglobulins.pkl','rb'))\n",
    "ig_proteins = pickle.load(open(dir_+'proteins_immunoglobulins.pkl','rb'))\n",
    "print(len(proteins))\n",
    "print(len(ig_proteins))"
   ]
  },
  {
   "cell_type": "markdown",
   "metadata": {
    "heading_collapsed": true
   },
   "source": [
    "## Raw mortality data input and reformatted output"
   ]
  },
  {
   "cell_type": "code",
   "execution_count": null,
   "metadata": {
    "hidden": true
   },
   "outputs": [],
   "source": [
    "Y_mortality = \\\n",
    "pd.concat(\n",
    "    [\n",
    "        (pd.read_csv(dir_+'mortality_cumc.csv',dtype={'subject' : str}).set_index('subject').\n",
    "         loc[:,['expired','graft_date','expiration_date']]),\n",
    "        (pd.read_csv(dir_+'mortality_cedars.csv',dtype={'subject' : str}).set_index('subject').\n",
    "         loc[:,['expired','graft_date','expiration_date']]),\n",
    "        (pd.read_csv(dir_+'mortality_paris.csv',dtype={'subject' : str}).set_index('subject').\n",
    "         loc[:,['expired','graft_date','expiration_date']])\n",
    "    ]\n",
    ")\n",
    "Y_mortality.graft_date = pd.to_datetime(Y_mortality.graft_date,format='%m/%d/%y')\n",
    "Y_mortality.expiration_date = pd.to_datetime(Y_mortality.expiration_date,format='%m/%d/%y')\n",
    "Y_mortality['deathdays'] = (Y_mortality.expiration_date - Y_mortality.graft_date)\n",
    "Y_mortality['days_to_death'] = (Y_mortality.expiration_date - Y_mortality.graft_date).dt.days"
   ]
  },
  {
   "cell_type": "code",
   "execution_count": null,
   "metadata": {
    "hidden": true
   },
   "outputs": [],
   "source": [
    "X_all_clinical.loc[:,'MELDXI'] = \\\n",
    "(3.78 * np.log(X_all_clinical.loc[:,'TBILI'])) + \\\n",
    "(9.57 * np.log(X_all_clinical.loc[:,'Creatinine'])) + 6.43"
   ]
  },
  {
   "cell_type": "code",
   "execution_count": null,
   "metadata": {
    "hidden": true
   },
   "outputs": [],
   "source": [
    "joined = \\\n",
    "(\n",
    "    X_all_clinical.\n",
    "    join(Y_mortality).\n",
    "    join(Y_pgd)\n",
    ")"
   ]
  },
  {
   "cell_type": "code",
   "execution_count": null,
   "metadata": {
    "hidden": true
   },
   "outputs": [],
   "source": [
    "joined['Mechanical_Support_Type'] = np.nan\n",
    "joined.loc['53190','Mechanical_Support_Type'] = 'HM2'\n",
    "joined.loc['53488','Mechanical_Support_Type'] = 'HM2'\n",
    "joined.loc['54314','Mechanical_Support_Type'] = 'HM2'\n",
    "joined.loc['55175','Mechanical_Support_Type'] = 'HM2'\n",
    "joined.loc['56118','Mechanical_Support_Type'] = 'HW'\n",
    "joined.loc['56191','Mechanical_Support_Type'] = 'HM2'\n",
    "joined.loc['56767','Mechanical_Support_Type'] = 'HM2'\n",
    "joined.loc['57267','Mechanical_Support_Type'] = 'HW'\n",
    "joined.loc['57268','Mechanical_Support_Type'] = 'HW'\n",
    "joined.loc['57270','Mechanical_Support_Type'] = 'HM2'\n",
    "joined.loc['62128','Mechanical_Support_Type'] = 'HM2'\n",
    "joined.loc['PGD-2','Mechanical_Support_Type'] = 'HM2'\n",
    "joined.loc['MATCH-2','Mechanical_Support_Type'] = 'HM2'\n",
    "joined.loc['PGD-5','Mechanical_Support_Type'] = 'HM2'\n",
    "joined.loc['MATCH-5','Mechanical_Support_Type'] = 'HM2'\n",
    "joined.loc['PGD-11','Mechanical_Support_Type'] = 'TAH'\n",
    "joined.loc['MATCH-11','Mechanical_Support_Type'] = 'TAH'\n",
    "joined.loc['PGD-17','Mechanical_Support_Type'] = 'TAH'\n",
    "joined.loc['MATCH-17','Mechanical_Support_Type'] = 'TAH'\n",
    "joined.loc['Pi-18-1-128N','Mechanical_Support_Type'] = 'HM2'\n",
    "joined.loc['Pi-18-4-129C','Mechanical_Support_Type'] = 'HM2'\n",
    "joined.loc['Pi-26-2-130N','Mechanical_Support_Type'] = 'HM2'"
   ]
  },
  {
   "cell_type": "code",
   "execution_count": null,
   "metadata": {
    "hidden": true
   },
   "outputs": [],
   "source": [
    "joined.to_csv(dir_+'mortality_X_y.csv')"
   ]
  },
  {
   "cell_type": "markdown",
   "metadata": {
    "heading_collapsed": true
   },
   "source": [
    "## Summary"
   ]
  },
  {
   "cell_type": "code",
   "execution_count": null,
   "metadata": {
    "hidden": true
   },
   "outputs": [],
   "source": [
    "joined = pd.read_csv('../../data/mortality_X_y.csv',index_col=0)"
   ]
  },
  {
   "cell_type": "code",
   "execution_count": null,
   "metadata": {
    "hidden": true
   },
   "outputs": [],
   "source": [
    "demog = (\n",
    "    joined.\n",
    "    loc[:,\n",
    "        ['Mechanical_Support_Y',\n",
    "         'Mechanical_Support_Type',\n",
    "         'PGD','expired',\n",
    "         'Cohort_Columbia',\n",
    "         'Cohort_Cedar',\n",
    "         'Cohort_Paris',\n",
    "         'graft_date',\n",
    "         'expiration_date',\n",
    "         'days_to_death',\n",
    "        'deathdays']\n",
    "       ]\n",
    ")\n",
    "demog"
   ]
  },
  {
   "cell_type": "code",
   "execution_count": null,
   "metadata": {
    "hidden": true
   },
   "outputs": [],
   "source": [
    "display(demog.drop_duplicates().PGD.value_counts()) #correct with paper!\n",
    "demog.drop_duplicates().Mechanical_Support_Y.value_counts() #correct with paper!"
   ]
  },
  {
   "cell_type": "code",
   "execution_count": null,
   "metadata": {
    "hidden": true
   },
   "outputs": [],
   "source": [
    "display(demog.drop_duplicates().query('Mechanical_Support_Y==1')['Mechanical_Support_Type'].value_counts())\n",
    "display(demog.drop_duplicates().groupby(['expired','Mechanical_Support_Type'])['graft_date'].count())\n",
    "display(demog.drop_duplicates().groupby(['PGD','expired'])['graft_date'].count())"
   ]
  },
  {
   "cell_type": "code",
   "execution_count": null,
   "metadata": {
    "hidden": true,
    "scrolled": true
   },
   "outputs": [],
   "source": [
    "\n",
    "display(\n",
    "    demog.\n",
    "    query('Cohort_Paris==1')\n",
    ") "
   ]
  },
  {
   "cell_type": "markdown",
   "metadata": {
    "hidden": true
   },
   "source": [
    "There's 88 patients total. There were 46 patients that did not have PGD and 42 that had PGD. There were 21 patients that had an LVAD prior to their transplant. This agrees with the tables in the published paper (sanity check). There were 44 out of 46 that did not have PGD and didn't die after transplant. In contrast, there were 22 out of 42 that had PGD and eventually died.\n",
    "\n",
    "We have recorded that 22 patients died after transplant (1 at Columbia, 14 at cedars, and 6 at paris). There were 5 out of 22 patients that had mechanical support prior to transplant. There were 14 out of 22 patients that died within a year; only 1 person had any mechanical support - they had an HM2 and died after 32 days. Everyone that died within a year had PGD. \n",
    "\n",
    "Out of 21 patients that had mechanical support, there were 3 patients at Columbia that had the recalled HW device, 14 (8 at Columbia, 4 at cedars, and 2 at paris) patients had the HM2 device, and 4 at Cedars had an artificial heart (TAH). Interestingly, 12 out of 14 that had an HM2 didn't die. There were 2 out of 4 patients that had a TAH didn't died and 2 out of 3 with a HW didn't died. \n",
    "\n",
    "| Var | No PGD | PGD |\n",
    "| --- | ------ | --- |\n",
    "| --- | N = 46 | N = 42|\n",
    "| --- | ------ | --- |\n",
    "| Died|   2 (no LVAD; 2 and 4.5 years later)   |  20 (2 TAH, 1 HW, and 2 HM2) |"
   ]
  },
  {
   "cell_type": "code",
   "execution_count": null,
   "metadata": {
    "hidden": true
   },
   "outputs": [],
   "source": [
    "tmp = \\\n",
    "(\n",
    "    demog.\n",
    "    drop_duplicates().\n",
    "    sort_values('days_to_death').\n",
    "    loc[:,['PGD','Mechanical_Support_Type','days_to_death']].\n",
    "    reset_index(drop=True)\n",
    ")\n",
    "tmp.head(40)"
   ]
  },
  {
   "cell_type": "code",
   "execution_count": null,
   "metadata": {
    "hidden": true
   },
   "outputs": [],
   "source": [
    "print(joined[['expired','PGD','days_to_death','Age']].drop_duplicates().query('expired==1 & PGD==1')['days_to_death'].describe()/365)\n",
    "print(joined[['expired','PGD','days_to_death','Age']].drop_duplicates().query('expired==1 & PGD==0')['days_to_death'].describe()/365)"
   ]
  },
  {
   "cell_type": "code",
   "execution_count": null,
   "metadata": {
    "hidden": true
   },
   "outputs": [],
   "source": [
    "print(min(\n",
    "    (pd.Timestamp.now().normalize() - pd.to_datetime(demog['graft_date'])) / \n",
    "    np.timedelta64(1, 'Y')\n",
    "))\n",
    "print(max(\n",
    "    (pd.Timestamp.now().normalize() - pd.to_datetime(demog['graft_date'])) / \n",
    "    np.timedelta64(1, 'Y')\n",
    "))\n",
    "np.median((pd.Timestamp.now().normalize() - pd.to_datetime(demog['graft_date'])) / \n",
    "    np.timedelta64(1, 'Y'))"
   ]
  },
  {
   "cell_type": "code",
   "execution_count": null,
   "metadata": {
    "hidden": true
   },
   "outputs": [],
   "source": [
    "(\n",
    "    pd.Timestamp.now().normalize() - pd.to_datetime(joined.graft_date)\n",
    ")  / pd.Timedelta(1, unit='d')"
   ]
  },
  {
   "cell_type": "code",
   "execution_count": null,
   "metadata": {
    "hidden": true
   },
   "outputs": [],
   "source": [
    "Y_survival = (joined[['expired']]==0).astype(int)\n",
    "Y_survival.columns = ['Survival']\n",
    "Y_survival.index.name=''\n",
    "display(Y_survival.value_counts())\n",
    "Y_survival_wn_year = Y_survival.copy()\n",
    "Y_survival_wn_year.loc[\n",
    "    joined.index[joined.days_to_death>365],'Survival'\n",
    "] = 1\n",
    "display(Y_survival_wn_year.value_counts())"
   ]
  },
  {
   "cell_type": "markdown",
   "metadata": {},
   "source": [
    "# Protein correlations between biological replicates"
   ]
  },
  {
   "cell_type": "code",
   "execution_count": null,
   "metadata": {},
   "outputs": [],
   "source": [
    "proteins = pickle.load(open(dir_+'proteins_no_immunoglobulins.pkl','rb'))\n",
    "X_all_proteins.loc[:,proteins]"
   ]
  },
  {
   "cell_type": "code",
   "execution_count": null,
   "metadata": {},
   "outputs": [],
   "source": [
    "corr_df = \\\n",
    "X_all_proteins.loc[:,proteins].T.corr(method='spearman')\n",
    "lowertribool = np.tril(np.ones(corr_df.shape)).astype(np.bool)\n",
    "corr_df = corr_df.where(lowertribool)\n",
    "corr_df_melt = corr_df.stack().rename_axis(['Sample1','Sample2']).reset_index()\n",
    "corr_df_melt.columns = ['Sample1','Sample2','Value']\n",
    "corr_df_melt = corr_df_melt.query('Sample1!=Sample2')\n",
    "corr_df_melt"
   ]
  },
  {
   "cell_type": "code",
   "execution_count": null,
   "metadata": {},
   "outputs": [],
   "source": [
    "bioreps = ['Pi-13-3-128N', 'Pi-13-4-126',\n",
    "       'Pi-14-4-127C', 'Pi-14-4-128N', 'Pi-18-1-128N', 'Pi-18-4-129C',\n",
    "       'Pi-19-1-129C', 'Pi-19-4-129N', 'Pi-20-1-129N',\n",
    "       'Pi-20-4-130C', 'Pi-21-1-130C', 'Pi-21-4-130N']\n",
    "diedbioreps = ['Pi-19-1-129C', 'Pi-19-4-129N']\n",
    "notbioreps = np.setdiff1d(X_all_proteins.index,bioreps)"
   ]
  },
  {
   "cell_type": "code",
   "execution_count": null,
   "metadata": {},
   "outputs": [],
   "source": [
    "corr_df_melt.query('Sample1 in @diedbioreps').sort_values('Value')"
   ]
  },
  {
   "cell_type": "code",
   "execution_count": null,
   "metadata": {},
   "outputs": [],
   "source": [
    "print(corr_df_melt.query('Value>0.5').shape[0])\n",
    "print(corr_df_melt.query('Sample1 in @bioreps & Value>0.5').shape[0])\n",
    "print(corr_df_melt.shape[0])\n",
    "corr_df_melt.query('Value>0.5').shape[0]/corr_df_melt.shape[0]"
   ]
  },
  {
   "cell_type": "markdown",
   "metadata": {
    "heading_collapsed": true
   },
   "source": [
    "## Protein distribution (Figure S2)"
   ]
  },
  {
   "cell_type": "code",
   "execution_count": null,
   "metadata": {
    "hidden": true
   },
   "outputs": [],
   "source": [
    "cumc = pd.read_csv('../../data/df_samples_cumc_allsets.csv',index_col=0)\n",
    "cedar = pd.read_csv('../../data/df_samples_cedar_allsets.csv',index_col=0)\n",
    "paris = pd.read_csv('../../data/df_samples_paris_allsets.csv',index_col=0)"
   ]
  },
  {
   "cell_type": "code",
   "execution_count": null,
   "metadata": {
    "hidden": true
   },
   "outputs": [],
   "source": [
    "cumc_df = (cumc.\n",
    "          rename_axis('Protein').\n",
    "          loc[ig_proteins].\n",
    "          apply(lambda x : (x - np.mean(x)) / np.std(x),axis=1).\n",
    "          reset_index().\n",
    "          melt(id_vars='Protein'))\n",
    "cumc_df['Cohort'] = 'Columbia'\n",
    "\n",
    "cedar_df = (cedar.\n",
    "          rename_axis('Protein').\n",
    "          loc[ig_proteins].\n",
    "          apply(lambda x : (x - np.mean(x)) / np.std(x),axis=1).\n",
    "          reset_index().\n",
    "          melt(id_vars='Protein'))\n",
    "cedar_df['Cohort'] = 'Cedar-Sinai'\n",
    "\n",
    "paris_df = (paris.\n",
    "          rename_axis('Protein').\n",
    "          loc[ig_proteins].\n",
    "          apply(lambda x : (x - np.mean(x)) / np.std(x),axis=1).\n",
    "          reset_index().\n",
    "          melt(id_vars='Protein'))\n",
    "paris_df['Cohort'] = 'Pitíe Salpetriere'"
   ]
  },
  {
   "cell_type": "code",
   "execution_count": null,
   "metadata": {
    "hidden": true
   },
   "outputs": [],
   "source": [
    "matplotlib.rcParams['axes.titlepad'] = 8\n",
    "matplotlib.rcParams['axes.titlesize'] = 16\n",
    "matplotlib.rcParams['axes.labelsize'] = 16\n",
    "matplotlib.rcParams['xtick.labelsize'] = 16\n",
    "matplotlib.rcParams['ytick.labelsize'] = 16\n",
    "dpi=300\n",
    "\n",
    "fig,ax = plt.subplots(nrows=3,ncols=1,sharex=True,sharey=True,dpi=dpi,figsize=(6,4))\n",
    "\n",
    "cohorts=['Columbia','Cedar-Sinai','Pitíe Salpetriere']\n",
    "\n",
    "for i,grp in cumc_df.groupby('variable'):\n",
    "    sns.distplot(grp['value'],\n",
    "                 color='Blue',\n",
    "                 label=cohorts[0],\n",
    "                 kde=False,\n",
    "                 ax=ax[0])\n",
    "    ax[0].set_alpha(0.8)\n",
    "\n",
    "for i,grp in cedar_df.groupby('variable'):\n",
    "    sns.distplot(grp['value'],\n",
    "                 color='Green',\n",
    "                 label=cohorts[1],\n",
    "                 kde=False,\n",
    "                 ax=ax[1])\n",
    "    ax[1].set_alpha(0.8)\n",
    "\n",
    "for i,grp in paris_df.groupby('variable'):\n",
    "    sns.distplot(grp['value'],\n",
    "                 color='red',\n",
    "                 label=cohorts[2],\n",
    "                 kde=False,\n",
    "                 ax=ax[2])\n",
    "    ax[2].set_alpha(0.8)\n",
    "sns.despine()\n",
    "ax[0].set_xlabel('')\n",
    "ax[1].set_xlabel('')\n",
    "\n",
    "for i,a in enumerate(ax):\n",
    "    a.text(2.5,50,cohorts[i])\n",
    "    a.set_xlim(-5,5)\n",
    "ax[1].set_ylabel('Density')\n",
    "ax[1].yaxis.set_label_coords(-0.1,0)\n",
    "ax[0].set_title('Exosome protein expression distribution')\n",
    "ax[2].set_xlabel('Standardized protein expression')\n",
    "\n",
    "fig.tight_layout()\n",
    "fig.savefig(dir_+'ProteinDescription_distributions.pdf')"
   ]
  },
  {
   "cell_type": "markdown",
   "metadata": {
    "heading_collapsed": true
   },
   "source": [
    "## Protein distribution tests"
   ]
  },
  {
   "cell_type": "code",
   "execution_count": null,
   "metadata": {
    "hidden": true
   },
   "outputs": [],
   "source": [
    "joined = pd.read_csv('../../data/mortality_X_y.csv',index_col=0)"
   ]
  },
  {
   "cell_type": "code",
   "execution_count": null,
   "metadata": {
    "hidden": true,
    "scrolled": true
   },
   "outputs": [],
   "source": [
    "survived = (joined['expired']==0)\n",
    "lst = []\n",
    "for prot in X_all_proteins.columns:\n",
    "    df = X_all_proteins.apply(lambda x : (x - min(x)) / (max(x) - min(x)),axis=0)[[prot]]\n",
    "    dat = df.join(\n",
    "        survived.map({True : 'Survived',False : 'Died'})\n",
    "    ).join(joined.PGD.map({1 : 'PGD',0 : 'nonPGD'}))\n",
    "    fig,ax=plt.subplots(figsize=(5,3),dpi=300)\n",
    "    sns.boxplot('expired',prot,data=dat,color='lightgray',ax=ax)\n",
    "    sns.swarmplot(\n",
    "        'expired',prot,\n",
    "        #hue='PGD',\n",
    "        data=dat,\n",
    "        color=\"black\",\n",
    "        edgecolor='black',ax=ax\n",
    "    )\n",
    "    ax.set_xlabel('')\n",
    "    ax.set_ylabel('')\n",
    "    ax.set_yticklabels(ax.get_yticks(),fontsize=12,weight='bold')\n",
    "    ax.yaxis.set_major_formatter(matplotlib.ticker.FormatStrFormatter('%.1f'))\n",
    "    ax.set_xticklabels(ax.get_xticklabels(),fontsize=12,weight='bold')\n",
    "    gene_log_sum = idmap_sub.Protein.isin([prot]).sum()\n",
    "    if gene_log_sum>0:\n",
    "        gene = idmap_sub.query('Protein==@prot')['Gene_name'].values[0]\n",
    "    else:\n",
    "        gene=''\n",
    "    fig.savefig('../../docs/imgs/survival_protein_tests/'+prot+'_'+gene+'.png')\n",
    "    plt.close()\n",
    "    \n",
    "    val = \\\n",
    "    ttest_ind(\n",
    "        dat.query('expired==\"Died\"')[prot].values,\n",
    "        dat.query('expired==\"Survived\"')[prot].values\n",
    "    )[0]\n",
    "    pgdval = \\\n",
    "    ttest_ind(\n",
    "        dat.query('PGD==\"nonPGD\" & expired==\"Died\"')[prot].values,\n",
    "        dat.query('PGD==\"nonPGD\" & expired==\"Survived\"')[prot].values\n",
    "    )[0]\n",
    "    lst.append([\n",
    "        prot,val,pgdval,\n",
    "        np.mean(dat.query('expired==\"Survived\"')[prot].values),\n",
    "        np.mean(dat.query('PGD==\"PGD\" & expired==\"Survived\"')[prot].values),\n",
    "        np.mean(dat.query('PGD==\"nonPGD\" & expired==\"Survived\"')[prot].values)\n",
    "    ])"
   ]
  },
  {
   "cell_type": "code",
   "execution_count": null,
   "metadata": {
    "hidden": true
   },
   "outputs": [],
   "source": [
    "(\n",
    "    pd.DataFrame(\n",
    "        lst,columns=[\"Protein\",\"mean\",\n",
    "                     \"mean_pgd_cov\",\"avg\",\n",
    "                     \"avg_pgd\",\"avg_nonpgd\"]\n",
    "    ).\n",
    "    query('mean_pgd_cov>mean & Protein in [\"P00734\",\"P08697\",\"P00740\",\\\n",
    "          \"Q96IY4\",]').\n",
    "    eval('pi = (avg_nonpgd-avg)/avg')\n",
    ")"
   ]
  },
  {
   "cell_type": "markdown",
   "metadata": {
    "heading_collapsed": true
   },
   "source": [
    "## Differential analysis functions"
   ]
  },
  {
   "cell_type": "code",
   "execution_count": null,
   "metadata": {
    "hidden": true
   },
   "outputs": [],
   "source": [
    "def balanced_resample(Y,seed=42):\n",
    "\t\"\"\"\n",
    "\tGiven a binary pandas series, resample after balancing for equal size of classes\n",
    "\t\"\"\"\n",
    "\t\n",
    "\tY.sort_values(inplace=True)\n",
    "\tnum_to_sample = Y.value_counts().min()\n",
    "\t\n",
    "\tdfs = []\n",
    "\tfor grp in Y.unique():\n",
    "\t\ty = Y[Y==grp].head(num_to_sample)\n",
    "\t\tdfs.append(resample(y,random_state=seed))  \n",
    "\t\n",
    "\treturn pd.concat(dfs)\n",
    "\n",
    "def pull_logit_coefficients(fit):\n",
    "\t\n",
    "\treturn fit.coef_[0][0]\n",
    "\n",
    "def coef_to_prob(coef):\n",
    "\t\n",
    "\todds = np.exp(coef)\n",
    "\tprob = odds/(1 + odds)\n",
    "\t\n",
    "\treturn prob\n",
    "\n",
    "def coef_to_odds(coef):\n",
    "\t\n",
    "\todds = np.exp(coef)\n",
    "\t\n",
    "\treturn odds\n",
    "\n",
    "def prediction(X,Y,model,seed=42):\n",
    "\t\"\"\"\n",
    "\tGiven a feature matrix and binary class series, \n",
    "\tbalance then resample y (depends on balanced_resample),\n",
    "\tpredict and grab logistic regression coefficients,\n",
    "\tconvert and return probability.\n",
    "\t\n",
    "\t\"\"\"\n",
    "\tY_balanced = resample(Y,random_state=seed)\n",
    "\tX_balanced = X.loc[Y_balanced.index]\n",
    "\n",
    "\tfit = model.fit(X_balanced,Y_balanced.values.reshape(-1,1))\n",
    "\n",
    "\tcoef = pull_logit_coefficients(fit)\n",
    "\t\n",
    "\treturn coef_to_odds(coef)\n",
    "\n",
    "def balanced_prediction(X,Y,model,seed=42):\n",
    "\t\"\"\"\n",
    "\tGiven a feature matrix and binary class series, \n",
    "\tbalance then resample y (depends on balanced_resample),\n",
    "\tpredict and grab logistic regression coefficients,\n",
    "\tconvert and return probability.\n",
    "\t\n",
    "\t\"\"\"\n",
    "\tY_balanced = balanced_resample(Y,seed=seed)\n",
    "\tX_balanced = X.loc[Y_balanced.index]\n",
    "\t\n",
    "\tfit = model.fit(X_balanced,Y_balanced)\n",
    "\t\n",
    "\tcoef = pull_logit_coefficients(fit)\n",
    "\t\n",
    "\treturn coef_to_odds(coef)\n",
    "\n",
    "def bootstrap_prediction_transformations(odds_boot,var='variable'):\n",
    "\tdf = pd.DataFrame([\n",
    "\t\t[key for key in odds_boot.keys()],\n",
    "\t\t[np.median(odds_boot[key]) for key in odds_boot.keys()]\n",
    "\t],\n",
    "\t\tindex=[var,'bootstrap_median']\n",
    "\t).T\n",
    "\tsorted_df = df.sort_values(['bootstrap_median'],ascending=[False])\t\n",
    "\toutput = (pd.DataFrame.from_dict(odds_boot).\n",
    "\t\t\t  reset_index().rename(columns={'index' : 'bootstrap'}).\n",
    "\t\t\t  melt(id_vars='bootstrap',var_name=var,value_name='odds').\n",
    "\t\t\t  set_index(var).\n",
    "\t\t\t  join(sorted_df.set_index(var))\n",
    "\t\t\t )\n",
    "\todds_wcov_boot = output.reset_index().copy()\n",
    "\tvariables = odds_wcov_boot[var].unique()\n",
    "\terr = {}\n",
    "\tfor p in variables:\n",
    "\t\tq = '{} == \"{}\"'.format(var,p)\n",
    "\t\tlwr = odds_wcov_boot.query(q).odds.quantile(.025)\n",
    "\t\tmean = odds_wcov_boot.query(q).odds.mean()\n",
    "\t\tmedian = odds_wcov_boot.query(q).odds.quantile(.5)\n",
    "\t\tupr =odds_wcov_boot.query(q).odds.quantile(.975)\n",
    "\t\terr[p] = [lwr,mean,median,upr]\n",
    "\terr_df = pd.DataFrame(err,index=['lwr','mean','median','upr']).T.rename_axis(var)\n",
    "\treturn output, err_df\n",
    "\n",
    "from joblib import Parallel, delayed\n",
    "\n",
    "def bootstrap_of_fcn(func=None,params={},n_jobs=4,nboot=2):\t\n",
    "\tif func==None:\n",
    "\t\treturn \"Need fcn to bootstrap\"\n",
    "\tparallel = Parallel(n_jobs=n_jobs)\n",
    "\treturn parallel(delayed(func)(seed=k,**params) for k in range(nboot))\n"
   ]
  },
  {
   "cell_type": "markdown",
   "metadata": {},
   "source": [
    "## Survival multivariate logistic regression"
   ]
  },
  {
   "cell_type": "code",
   "execution_count": null,
   "metadata": {},
   "outputs": [],
   "source": [
    "cohort_covs = pd.read_csv('../../data/integrated_cohort_covariates_minus_paris.csv',index_col=0)\n",
    "proteins = pickle.load(open('../../data/proteins_immunoglobulins.pkl','rb'))"
   ]
  },
  {
   "cell_type": "code",
   "execution_count": null,
   "metadata": {},
   "outputs": [],
   "source": [
    "C=1\n",
    "seed = 42\n",
    "tol=1e-3\n",
    "\n",
    "model = {\"Logistic Regression\" : \n",
    "linear_model.LogisticRegression(\n",
    "\tC=C,\n",
    "\tpenalty='l1',\n",
    "\tsolver=\"liblinear\",\n",
    "\trandom_state=seed,fit_intercept=True\n",
    "\t)\n",
    "\t\t }\n"
   ]
  },
  {
   "cell_type": "code",
   "execution_count": null,
   "metadata": {},
   "outputs": [],
   "source": [
    "joined = pd.read_csv(dir_+'mortality_X_y.csv',index_col=0)\n",
    "X = X_all_proteins.copy().apply(lambda x : (x - x.min()) / (x.max() - x.min()))\n",
    "Y = joined[['expired']][['expired']].copy()\n",
    "Y = Y.loc[X.index.values]\n",
    "Y = (Y==0).astype(int)\n",
    "Y.columns = ['Survival']"
   ]
  },
  {
   "cell_type": "code",
   "execution_count": null,
   "metadata": {},
   "outputs": [],
   "source": [
    "X_all_clinical.columns"
   ]
  },
  {
   "cell_type": "code",
   "execution_count": null,
   "metadata": {},
   "outputs": [],
   "source": [
    "pd.set_option('display.float_format', lambda x: '%.5f' % x)\n",
    "vars_=\\\n",
    "['Age','BMI','CVP','CVP/PCWP','Creatinine',\n",
    " 'INR','Ischemic_Time','Blood_Type_A','Blood_Type_B',\n",
    "'Blood_Type_O',\n",
    " #'Blood_Type_AB',\n",
    " 'Donor_Age',\n",
    "#'Radial_Score',\n",
    " 'Sodium','MELDXI',\n",
    "'PA_Diastolic','PA_Mean','PA_Systolic','PCWP','TBILI',\n",
    "'Antiarrhythmic_Use_Y','Beta_Blocker_Y','Cardiomyopathy_Adriamycin',\n",
    "'Cardiomyopathy_Amyloid',\n",
    " #'Cardiomyopathy_Chagas',\n",
    " 'Cardiomyopathy_Congenital',\n",
    "#'Cardiomyopathy_Hypertrophic cardiomyopathy','Cardiomyopathy_Idiopathic',\n",
    "'Cardiomyopathy_Ischemic','Cardiomyopathy_Myocarditis',\n",
    "#'Cardiomyopathy_Valvular Heart Disease','Cardiomyopathy_Viral',\n",
    "'Diabetes_Y','History_Of_Tobacco_Use_Y','Mechanical_Support_Y',\n",
    "'Prior_Inotrope_Y','PGD'\n",
    " #'Sex_F'\n",
    "]"
   ]
  },
  {
   "cell_type": "code",
   "execution_count": null,
   "metadata": {},
   "outputs": [],
   "source": [
    "samples_clean = [x[0] for x in X_all_clinical.index.str.split('-[1234]-1[23][NC]{0,1}')]\n",
    "len(np.unique(samples_clean))\n",
    "X = joined[vars_]\n",
    "X.index = samples_clean\n",
    "X = X.drop_duplicates()"
   ]
  },
  {
   "cell_type": "code",
   "execution_count": null,
   "metadata": {},
   "outputs": [],
   "source": [
    "y = Y.copy()\n",
    "y.index = samples_clean\n",
    "y = y.reset_index().drop_duplicates().set_index('index')\n",
    "y"
   ]
  },
  {
   "cell_type": "code",
   "execution_count": null,
   "metadata": {},
   "outputs": [],
   "source": [
    "X.columns"
   ]
  },
  {
   "cell_type": "code",
   "execution_count": null,
   "metadata": {},
   "outputs": [],
   "source": [
    "log_reg = sm.Logit(y,X).fit()\n",
    "#https://stackoverflow.com/questions/51734180/converting-statsmodels-summary-object-to-pandas-dataframe\n",
    "multi = pd.read_html(log_reg.summary().tables[1].as_html(), header=0, index_col=0)[0]\n",
    "multi.columns=['coef','std_err','z','pvalue','lwr','upr']\n",
    "print(multi.shape)\n",
    "display(multi.sort_values('pvalue'))\n",
    "print(multi.query('pvalue<0.05').shape)\n",
    "print(multi.query('lwr>0 | upr<0').shape)"
   ]
  },
  {
   "cell_type": "markdown",
   "metadata": {
    "heading_collapsed": true
   },
   "source": [
    "## GSEA rank statistic (univariate, bootstrapped logistic regression)"
   ]
  },
  {
   "cell_type": "code",
   "execution_count": null,
   "metadata": {
    "hidden": true
   },
   "outputs": [],
   "source": [
    "cohort_covs = pd.read_csv('../../data/integrated_cohort_covariates_minus_paris.csv',index_col=0)\n",
    "proteins = pickle.load(open('../../data/proteins_immunoglobulins.pkl','rb'))"
   ]
  },
  {
   "cell_type": "code",
   "execution_count": null,
   "metadata": {},
   "outputs": [],
   "source": [
    "joined = pd.read_csv(dir_+'mortality_X_y.csv',index_col=0)\n",
    "X = X_all_proteins.copy().apply(lambda x : (x - x.min()) / (x.max() - x.min()))\n",
    "Y = joined[['expired']][['expired']].copy()\n",
    "Y = Y.loc[X.index.values]\n",
    "Y = (Y==0).astype(int)\n",
    "Y.columns = ['Survival']"
   ]
  },
  {
   "cell_type": "code",
   "execution_count": null,
   "metadata": {},
   "outputs": [],
   "source": [
    "prots = X.columns.values\n",
    "lst = []\n",
    "for prot in prots:\n",
    "    print(prot)\n",
    "    if idmap_sub.query('Protein==@prot').shape[0]==0: continue\n",
    "    gene = idmap_sub.query('Protein==@prot').Gene_name.values[0]\n",
    "\n",
    "    x = X_all_proteins.loc[Y[(Y==1).values].index.values,prot].values\n",
    "    y = X_all_proteins.loc[Y[(Y==0).values].index.values,prot].values\n",
    "\n",
    "    fig,ax=plt.subplots(dpi=300)\n",
    "    sns.swarmplot(\n",
    "        'Survival',\n",
    "        'expr',\n",
    "        data=pd.concat(\n",
    "        [\n",
    "            pd.DataFrame({'expr' : x,'Survival' : 'Survived'}),\n",
    "            pd.DataFrame({'expr' : y,'Survival' : 'Died'})\n",
    "        ])\n",
    "    )\n",
    "    ax.set_xlabel(None)\n",
    "    ax.set_ylabel('Protein expression')\n",
    "    ax.set_title(\n",
    "        gene+\n",
    "        '\\nT test statistic = '+str(np.round(ttest_ind(x,y)[0],3))+\n",
    "        '; Mann Whitney Pvalue = '+str(np.round(mannwhitneyu(x,y)[1],3))\n",
    "    )\n",
    "    fig.savefig('../../docs/imgs/survival_protein_tests/'+gene+'_test.png')\n",
    "    plt.close()\n",
    "    lst.append([mannwhitneyu(x,y)[0]/(len(x)*len(y)),np.var(x),np.var(y),gene])"
   ]
  },
  {
   "cell_type": "code",
   "execution_count": null,
   "metadata": {},
   "outputs": [],
   "source": [
    "tmp = pd.DataFrame(lst,columns=['AUROC','svar','dvar','Gene_name']).sort_values('AUROC')\n",
    "tmp['IG'] = tmp.Gene_name.str.match('^IG')\n",
    "a = tmp.query('IG==True').sample(1000,replace=True).AUROC.values\n",
    "b = tmp.query('IG==False').sample(1000,replace=True).AUROC.values\n",
    "print(mannwhitneyu(a,b))\n",
    "a = tmp.query('IG==True').sample(1000,replace=True).svar.values\n",
    "b = tmp.query('IG==False').sample(1000,replace=True).svar.values\n",
    "print(np.mean(a))\n",
    "print(np.mean(b))\n",
    "print(mannwhitneyu(a,b))\n",
    "a = tmp.query('IG==True').sample(1000,replace=True).dvar.values\n",
    "b = tmp.query('IG==False').sample(1000,replace=True).dvar.values\n",
    "print(np.mean(a))\n",
    "print(np.mean(b))\n",
    "print(mannwhitneyu(a,b))"
   ]
  },
  {
   "cell_type": "code",
   "execution_count": null,
   "metadata": {
    "hidden": true
   },
   "outputs": [],
   "source": [
    "C=1\n",
    "seed = 42\n",
    "tol=1e-3\n",
    "\n",
    "model = {\"Logistic Regression\" : \n",
    "linear_model.LogisticRegression(\n",
    "\tC=C,\n",
    "\tpenalty='l1',\n",
    "\tsolver=\"liblinear\",\n",
    "\trandom_state=seed,fit_intercept=True\n",
    "\t)\n",
    "\t\t }\n"
   ]
  },
  {
   "cell_type": "code",
   "execution_count": null,
   "metadata": {
    "hidden": true
   },
   "outputs": [],
   "source": [
    "joined = pd.read_csv('../../data/mortality_X_y.csv',index_col=0)\n",
    "X = X_all_proteins.copy().apply(lambda x : (x - x.min()) / (x.max() - x.min()))\n",
    "Y = joined[['expired']][['expired']].copy()\n",
    "Y = Y.loc[X.index.values]"
   ]
  },
  {
   "cell_type": "code",
   "execution_count": null,
   "metadata": {
    "hidden": true
   },
   "outputs": [],
   "source": [
    "cohort_covs = pd.read_csv('../../data/integrated_cohort_covariates_minus_paris.csv',index_col=0)\n",
    "proteins = pickle.load(open('../../data/proteins_immunoglobulins.pkl','rb'))"
   ]
  },
  {
   "cell_type": "code",
   "execution_count": null,
   "metadata": {
    "hidden": true
   },
   "outputs": [],
   "source": [
    "C=1\n",
    "seed = 42\n",
    "tol=1e-3\n",
    "\n",
    "model = {\"Logistic Regression\" : \n",
    "linear_model.LogisticRegression(\n",
    "\tC=C,\n",
    "\tpenalty='l1',\n",
    "\tsolver=\"liblinear\",\n",
    "\trandom_state=seed,fit_intercept=True\n",
    "\t)\n",
    "\t\t }\n"
   ]
  },
  {
   "cell_type": "code",
   "execution_count": null,
   "metadata": {
    "hidden": true
   },
   "outputs": [],
   "source": [
    "joined = pd.read_csv('../../data/mortality_X_y.csv',index_col=0)\n",
    "X = X_all_proteins.copy().apply(lambda x : (x - x.min()) / (x.max() - x.min()))\n",
    "\n",
    "Y = joined[['expired']][['expired']].copy()\n",
    "Y = Y.loc[X.index.values]\n",
    "Y = (Y==0).astype(int)\n",
    "Y.columns = ['Survival']\n",
    "Y"
   ]
  },
  {
   "cell_type": "code",
   "execution_count": null,
   "metadata": {
    "hidden": true
   },
   "outputs": [],
   "source": [
    "nboot=200\n",
    "\n",
    "boots = []\n",
    "for prot in proteins:\n",
    "\tparams = {\n",
    "\t'X' : X[[prot]].join(cohort_covs),\n",
    "\t'Y' : Y,\n",
    "\t'model' : model['Logistic Regression']}\n",
    "\tlst = bootstrap_of_fcn(func=prediction,params=params,n_jobs=num_cores,nboot=nboot)\n",
    "\tboots.append(lst)\n",
    "\n",
    "odds_boot = {}\n",
    "for i,prot in enumerate(proteins):\n",
    "\todds_boot[prot] = boots[i]\n",
    "\n",
    "output, err_df = bootstrap_prediction_transformations(odds_boot)\n"
   ]
  },
  {
   "cell_type": "code",
   "execution_count": null,
   "metadata": {
    "hidden": true
   },
   "outputs": [],
   "source": [
    "\n",
    "dat = \\\n",
    "(\n",
    "    output.\n",
    "    reset_index().\n",
    "    groupby('variable')['odds'].\n",
    "    mean().\n",
    "    sort_values().\n",
    "    reset_index().\n",
    "    set_index('variable').\n",
    "    join(\n",
    "        X_all_proteins.\n",
    "        loc[Y.index[Y.Survival==1]].\n",
    "        reset_index().\n",
    "        melt(id_vars='index').\n",
    "        groupby('variable')['value'].\n",
    "        mean().\n",
    "        reset_index().\n",
    "        set_index('variable')\n",
    "    ).\n",
    "    join(\n",
    "    idmap_sub.set_index('Protein'))\n",
    ")\n",
    "fig,ax = plt.subplots(dpi=300)\n",
    "sns.scatterplot('odds','value',data=dat,ax=ax)\n",
    "ax.set_ylabel('Average protein expression\\nfrom patients who died')\n",
    "ax.set_xlabel('Average odds association to mortality')\n",
    "display(dat.query('odds<0.5'))\n",
    "display(dat.query('odds>2'))"
   ]
  },
  {
   "cell_type": "code",
   "execution_count": null,
   "metadata": {
    "hidden": true
   },
   "outputs": [],
   "source": [
    "fig,ax = plt.subplots(dpi=300,figsize=(12,4))\n",
    "ax = output.reset_index().groupby('variable')['odds'].mean().sort_values().plot(ax=ax)"
   ]
  },
  {
   "cell_type": "code",
   "execution_count": null,
   "metadata": {
    "hidden": true
   },
   "outputs": [],
   "source": [
    "univariate = dat.copy()\n",
    "univariate[['model']] = 'univariate'\n",
    "univariate"
   ]
  },
  {
   "cell_type": "code",
   "execution_count": null,
   "metadata": {
    "hidden": true
   },
   "outputs": [],
   "source": [
    "(\n",
    "    univariate.\n",
    "    reset_index().\n",
    "    set_index('Gene_name').\n",
    "    loc[:,['odds','variable']].\n",
    "    sort_values('odds',ascending=False).\n",
    "    drop_duplicates().\n",
    "    to_csv(dir_+'survival_rank_statistic.csv')\n",
    ")"
   ]
  },
  {
   "cell_type": "markdown",
   "metadata": {
    "heading_collapsed": true
   },
   "source": [
    "## Prediction processing functions"
   ]
  },
  {
   "cell_type": "code",
   "execution_count": null,
   "metadata": {
    "hidden": true
   },
   "outputs": [],
   "source": [
    "def generate_val_scores(ppred_df,\n",
    "                        scorer = { \n",
    "                            'roc_auc' : metrics.roc_auc_score,  \n",
    "                            'ppv' : metrics.average_precision_score,\n",
    "                            'npv' : metrics.average_precision_score\n",
    "                        }):\n",
    "    bin_names = ['accuracy']\n",
    "    n_names = ['npv','specificity']\n",
    "    score_names = scorer.keys()\n",
    "    vals = []\n",
    "    for set_ in ppred_df.index.unique():\n",
    "        tmp = ppred_df.loc[set_]\n",
    "        for b in range(50):\n",
    "            sub = tmp.sample(tmp.shape[0],replace=True,random_state=b)\n",
    "            arr = \\\n",
    "            [scorer[x](sub.y_true,sub.y_proba) \n",
    "             if x not in n_names else scorer[x](sub.y_true,sub.y_proba,pos_label=0) \n",
    "             for x in score_names]\n",
    "            arr.extend([set_,b])\n",
    "            vals.append(\n",
    "                arr\n",
    "            )\n",
    "    cols = [x for x in score_names]\n",
    "    cols.extend(['set','bootstrap'])\n",
    "    val_df = \\\n",
    "    (\n",
    "        pd.DataFrame(\n",
    "            vals,\n",
    "            columns=cols\n",
    "        ).\n",
    "        groupby('set')[[x for x in score_names]].\n",
    "        describe(\n",
    "            percentiles=[0.025,0.975]\n",
    "        )\n",
    "    )\n",
    "    val_df.columns = \\\n",
    "    [x[0]+'_'+x[1].replace('2.5%','lwr').replace('97.5%','upr') for x in val_df.columns]\n",
    "    return (\n",
    "        val_df.\n",
    "        loc[:,np.concatenate([[x+'_lwr',x+'_mean',x+'_upr'] for x in score_names])]\n",
    "    )\n",
    "def get_pperf_roc_curve_stats(dat,n=50):\n",
    "    \n",
    "    tups = []\n",
    "    for b in range(n):\n",
    "        x = (dat.\n",
    "             sample(n=dat.shape[0],replace=True,random_state=b)\n",
    "            )\n",
    "        f,t,th = roc_curve(x.y_true,x.y_proba)\n",
    "\n",
    "        tups.append(\n",
    "            pd.DataFrame({ 'fpr' : f,\n",
    "                          'tpr' : t,\n",
    "                          't' : th\n",
    "                         }\n",
    "                        )\n",
    "        )\n",
    "\n",
    "    tmp = pd.concat(tups).groupby('t').mean()\n",
    "    fpr = tmp['fpr'].values\n",
    "    tpr = tmp['tpr'].values\n",
    "    return fpr,tpr\n",
    "    \n",
    "def get_pperf_precision_recall_curve_stats(dat,n=50):\n",
    "    \n",
    "    tups = []\n",
    "    for b in range(n):\n",
    "        x = (dat.\n",
    "             sample(n=dat.shape[0],replace=True,random_state=b)\n",
    "            )\n",
    "        r,p,th = precision_recall_curve(x.y_true,x.y_proba)\n",
    "        r = list(r)\n",
    "        p = list(p)\n",
    "        r.pop()\n",
    "        p.pop()\n",
    "        tups.append(\n",
    "            pd.DataFrame({ 'precision' : p,\n",
    "                          'recall' : r,\n",
    "                          't' : th\n",
    "                         }\n",
    "                        )\n",
    "        )\n",
    "\n",
    "    tmp = pd.concat(tups).groupby('t').mean()\n",
    "    p = tmp['precision'].tolist()\n",
    "    r = tmp['recall'].tolist()\n",
    "    p[0] = 1\n",
    "    r[0] = 0\n",
    "    return p,r\n",
    "\n",
    "def plt_atts_roc(ax,fig):\n",
    "\n",
    "    ax.set_xlim(-0.01,1.01)\n",
    "    ax.set_ylim(-0.01,1.01)\n",
    "\n",
    "    lims = [\n",
    "        np.min([ax.get_xlim(), ax.get_ylim()]),  # min of both axes\n",
    "        np.max([ax.get_xlim(), ax.get_ylim()]),  # max of both axes\n",
    "    ]\n",
    "\n",
    "    # now plot both limits against eachother\n",
    "    ax.plot(lims, lims, 'r--', alpha=0.75, zorder=0)\n",
    "\n",
    "    #ax.set_ylabel('Sensitivity',size=18)\n",
    "    #ax.set_xlabel('1 - Specificity',size=18)\n",
    "    ax.tick_params(axis='both', which='major', labelsize=14)\n",
    "\n",
    "    fig.tight_layout()\n",
    "    \n",
    "    return fig\n",
    "\n",
    "def plt_atts_pr(ax,fig):\n",
    "\n",
    "    ax.set_xlim(-0.01,1.01)\n",
    "    ax.set_ylim(-0.01,1.01)\n",
    "\n",
    "    lims = [\n",
    "        [np.min(ax.get_xlim()), np.max(ax.get_ylim())],  \n",
    "        [np.max(ax.get_xlim()), np.min(ax.get_ylim())]\n",
    "    ]\n",
    "\n",
    "    # now plot both limits against eachother\n",
    "    ax.plot(lims[0], lims[1], 'r--', alpha=0.75, zorder=0)\n",
    "\n",
    "    #ax.set_ylabel('Precision',size=18)\n",
    "    #ax.set_xlabel('Recall',size=18)\n",
    "    ax.tick_params(axis='both', which='major', labelsize=14)\n",
    "\n",
    "    fig.tight_layout()\n",
    "    \n",
    "    return fig"
   ]
  },
  {
   "cell_type": "markdown",
   "metadata": {
    "heading_collapsed": true
   },
   "source": [
    "## Survival predictions and Volcano plot (Figure 2)"
   ]
  },
  {
   "cell_type": "code",
   "execution_count": null,
   "metadata": {
    "hidden": true
   },
   "outputs": [],
   "source": [
    "ppred_df = pd.read_csv(\n",
    "                dir_+'mortality_predictions_marker_patient_predictions_survival.csv',\n",
    "                index_col=0)\n",
    "arr_dfs = []\n",
    "for set_,tmp in ppred_df.groupby('set'):\n",
    "    vals = []\n",
    "    for b in range(50):\n",
    "        sub = tmp.sample(tmp.shape[0],replace=True,random_state=b)\n",
    "        conf = metrics.confusion_matrix(sub.y_true,sub.y_pred)\n",
    "        tn = conf[0][0]\n",
    "        tp = conf[1][1]\n",
    "        fn = conf[1][0]\n",
    "        fp = conf[0][1]\n",
    "        auc = metrics.roc_auc_score(sub.y_true,sub.y_proba)\n",
    "        vals.append([auc,tp,tn,fp,fn,\n",
    "                     np.mean(sub.y_proba[sub.y_true==1]),\n",
    "                     np.mean(sub.y_proba[sub.y_true==0])])\n",
    "    arr = np.array(vals)\n",
    "    arr_df = \\\n",
    "    pd.DataFrame(\n",
    "        np.mean(arr,0),\n",
    "        index=['AUROC','TP','TN','FP','FN','mean_case_proba','mean_ctrl_proba'],\n",
    "        columns=[set_]\n",
    "    ).T\n",
    "    arr_dfs.append(\n",
    "        arr_df.eval(\n",
    "            '''\n",
    "            sensitivity = (TP/(TP+FN))\n",
    "            PPV = (TP/(TP+FP))\n",
    "            specificity = (TN/(TN+FP))\n",
    "            NPV = (TN/(TN+FN))\n",
    "            '''\n",
    "        )\n",
    "    )\n",
    "\n",
    "perf_df = \\\n",
    "pd.read_csv(\n",
    "    \n",
    "    dir_+\n",
    "    'mortality_predictions_marker_performance_survival.csv'\n",
    ")\n",
    "perf_df.set_features = [x.replace(\"['\",'').replace(\"']\",'').strip(\", \") for x in perf_df.set_features]\n",
    "\n",
    "tmp = (\n",
    "    pd.\n",
    "    concat(arr_dfs).\n",
    "    join(\n",
    "        perf_df.\n",
    "        set_index('set').\n",
    "        loc[:,['set_features']]\n",
    "    ).\n",
    "    reset_index().\n",
    "    set_index('set_features').\n",
    "    join(\n",
    "        idmap_sub.\n",
    "        set_index('Protein')\n",
    "    ).\n",
    "    sort_values('AUROC')\n",
    ")\n",
    "tmp"
   ]
  },
  {
   "cell_type": "code",
   "execution_count": null,
   "metadata": {
    "hidden": true
   },
   "outputs": [],
   "source": [
    "tmp.sort_values('AUROC').tail(10)"
   ]
  },
  {
   "cell_type": "code",
   "execution_count": null,
   "metadata": {
    "hidden": true
   },
   "outputs": [],
   "source": [
    "perf_df = \\\n",
    "pd.read_csv(\n",
    "    \n",
    "    dir_+\n",
    "    'mortality_predictions_marker_performance_survival.csv'\n",
    ")\n",
    "perf_df.set_features = [x.replace(\"['\",'').replace(\"']\",'').strip(\", \") for x in perf_df.set_features]\n",
    "perf_df = \\\n",
    "(\n",
    "    perf_df.\n",
    "    loc[:,['set','set_features']].\n",
    "    set_index('set').\n",
    "    join(\n",
    "        generate_val_scores(\n",
    "            pd.read_csv(\n",
    "                dir_+'mortality_predictions_marker_patient_predictions_survival.csv',\n",
    "                index_col=0).set_index('set')\n",
    "        )\n",
    "    ).\n",
    "    reset_index().\n",
    "    set_index('set_features').\n",
    "    join(\n",
    "        idmap_sub.set_index('Protein')\n",
    "    ).\n",
    "    sort_values('roc_auc_mean')\n",
    ")\n",
    "\n",
    "fimp_df = pd.read_csv(dir_+'mortality_predictions_marker_feature_importance_survival.csv')\n",
    "fimp_df.set_features = [x.replace(\"['\",'').replace(\"']\",'').strip(\", \") for x in fimp_df.set_features]"
   ]
  },
  {
   "cell_type": "code",
   "execution_count": null,
   "metadata": {
    "hidden": true
   },
   "outputs": [],
   "source": [
    "(\n",
    "    perf_df.\n",
    "    loc[:,['Gene_name','roc_auc_mean','ppv_mean','npv_mean']].\n",
    "    sort_values('npv_mean')\n",
    ")"
   ]
  },
  {
   "cell_type": "code",
   "execution_count": null,
   "metadata": {
    "hidden": true
   },
   "outputs": [],
   "source": [
    "full_fimp_df = \\\n",
    "pd.read_csv(\n",
    "    dir_+'mortality_predictions_marker_full_feature_importance_survival.csv',\n",
    "    index_col=0\n",
    ")\n",
    "full_perm_fimp_df = \\\n",
    "pd.read_csv(\n",
    "    dir_+'mortality_predictions_marker_full_permuted_feature_importance_survival.csv',\n",
    "    index_col=0\n",
    ")\n",
    "proteins = np.intersect1d(full_fimp_df.Feature.unique(),full_perm_fimp_df.Feature.unique())\n",
    "sig_lst = []\n",
    "for prot in proteins:\n",
    "    x = full_fimp_df[full_fimp_df.Feature==prot].Importance.values\n",
    "    y = full_perm_fimp_df[full_fimp_df.Feature==prot].Importance.values\n",
    "    lwr, upr = (\n",
    "        full_perm_fimp_df[\n",
    "            full_fimp_df.Feature==prot\n",
    "        ].\n",
    "        Importance.\n",
    "        describe(\n",
    "            percentiles=[0.025,0.975]\n",
    "        ).\n",
    "        loc[['2.5%','97.5%']]\n",
    "    )\n",
    "    stat, pv = ks_2samp(x,y)\n",
    "    sig_lst.append(\n",
    "        pd.DataFrame(\n",
    "            {'statistic' : stat,'pvalue' : pv,'perm_fimp_lwr' : lwr,'perm_fimp_upr' : upr},\n",
    "            index=[prot]\n",
    "        )\n",
    "    )\n",
    "sig_df = pd.concat(sig_lst)\n",
    "sig_df['padj'] = multipletests(sig_df['pvalue'],method='bonferroni')[1]\n",
    "sig_df"
   ]
  },
  {
   "cell_type": "code",
   "execution_count": null,
   "metadata": {
    "hidden": true,
    "scrolled": false
   },
   "outputs": [],
   "source": [
    "dat = \\\n",
    "(\n",
    "    perf_df.\n",
    "    loc[:,['roc_auc_mean','roc_auc_lwr','roc_auc_upr','set','Gene_name']].\n",
    "    rename(\n",
    "        columns={\n",
    "            'roc_auc_mean' : 'perf',\n",
    "            'roc_auc_lwr' : 'perf_lwr',\n",
    "            'roc_auc_upr' : 'perf_upr'\n",
    "        }\n",
    "    ).\n",
    "    reset_index().\n",
    "    set_index('set').\n",
    "    join(\n",
    "        fimp_df.\n",
    "        query('Feature!=\"Intercept\"').\n",
    "        set_index('set').\n",
    "        loc[:,['mean','2.5%','97.5%']].\n",
    "        rename(columns={'mean' : 'fimp','2.5%' : 'fimp_lwr','97.5%' : 'fimp_upr'})\n",
    "    ).\n",
    "    set_index('set_features').\n",
    "    join(sig_df)\n",
    ")\n",
    "dat['-log10pvalue'] = -np.log10(dat['pvalue'])\n",
    "\n",
    "dat['Marker'] = 'blue'\n",
    "dat.loc[dat.dropna().index.values,'Marker'] = 'red'\n",
    "\n",
    "dat = dat.query('set_features!=\"PGD\"')\n",
    "dat = dat.query('set_features!=\"expired\"')\n",
    "dat = dat.query('set_features!=\"Survival\"')\n",
    "\n",
    "dat.to_csv(dir_+'mortality_survival_marker_predictions.csv')\n",
    "\n",
    "display(dat.sort_values('perf').tail(10))\n",
    "display(dat.sort_values('fimp').head(10))\n",
    "display(dat.sort_values('fimp').tail(10))\n",
    "\n",
    "palette = 'RdBu_r'\n",
    "fig,ax = plt.subplots(dpi=300)\n",
    "plot = plt.scatter(dat['fimp'].values,\n",
    "          dat['perf'].values,\n",
    "          c=dat['-log10pvalue'].values,\n",
    "          cmap=palette)\n",
    "\n",
    "plt.clf()\n",
    "plt.colorbar(plot)\n",
    "\n",
    "ax = sns.scatterplot('fimp','perf',hue='-log10pvalue',data=dat,\n",
    "                    style='Marker',edgecolor='k',\n",
    "                   palette=palette)\n",
    "ax.set_xlabel(r'$\\beta$ coefficient',size=20)\n",
    "ax.set_ylabel('AUROC',size=20)\n",
    "ax.legend_.remove()\n",
    "\n",
    "fig.tight_layout()\n",
    "\n",
    "fig.savefig('../../docs/imgs/mortality_mccv_predictions_survival.png')"
   ]
  },
  {
   "cell_type": "code",
   "execution_count": null,
   "metadata": {
    "hidden": true
   },
   "outputs": [],
   "source": [
    "(\n",
    "    dat.\n",
    "    query(\n",
    "        'perf>0.5 & perm_fimp_lwr<0 & perm_fimp_upr>0 & (fimp_lwr>0 | fimp_upr<0) & padj<0.0001'\n",
    "    ).\n",
    "    loc[:,\n",
    "        ['perf_lwr',\n",
    "         'perf','perf_upr','fimp_lwr',\n",
    "         'fimp','fimp_upr','padj'\n",
    "        ]\n",
    "       ].\n",
    "    sort_values('fimp',ascending=False)\n",
    ")"
   ]
  },
  {
   "cell_type": "code",
   "execution_count": null,
   "metadata": {
    "hidden": true
   },
   "outputs": [],
   "source": [
    "(\n",
    "    dat.\n",
    "    query(\n",
    "        'perf>0.5 & perm_fimp_lwr<=0 & perm_fimp_upr>=0 & (fimp_lwr>0 | fimp_upr<0) & padj<0.0001'\n",
    "    )\n",
    ")"
   ]
  },
  {
   "cell_type": "code",
   "execution_count": null,
   "metadata": {
    "hidden": true
   },
   "outputs": [],
   "source": [
    "(\n",
    "    dat.\n",
    "    query(\n",
    "        'perf>0.5 & perm_fimp_lwr<=0 & perm_fimp_upr>=0 & (fimp_lwr>0 | fimp_upr<0) & padj<0.0001'\n",
    "    )\n",
    ").shape"
   ]
  },
  {
   "cell_type": "code",
   "execution_count": null,
   "metadata": {
    "hidden": true
   },
   "outputs": [],
   "source": [
    "(\n",
    "    dat.\n",
    "    query(\n",
    "        'perf>0.5 & perm_fimp_lwr<=0 & perm_fimp_upr>=0 & (fimp_lwr>0 | fimp_upr<0) & padj<0.0001'\n",
    "    ).\n",
    "    loc[:,\n",
    "        ['perf_lwr',\n",
    "         'perf','perf_upr','fimp_lwr',\n",
    "         'fimp','fimp_upr','padj','Gene_name'\n",
    "        ]\n",
    "       ].\n",
    "    sort_values('fimp',ascending=False)\n",
    ").to_csv(dir_+'mortality_significant_prediction_stats_survival.csv')\n",
    "(\n",
    "    dat.\n",
    "    reset_index().\n",
    "    query('fimp_lwr>0').\n",
    "    loc[:,\n",
    "        ['set_features','perf_lwr',\n",
    "         'perf','perf_upr','fimp_lwr',\n",
    "         'fimp','fimp_upr'\n",
    "        ]\n",
    "       ].\n",
    "    set_index('set_features').\n",
    "    sort_values('fimp',ascending=False)\n",
    ").to_csv(dir_+'mortality_prediction_stats.csv')"
   ]
  },
  {
   "cell_type": "code",
   "execution_count": null,
   "metadata": {
    "hidden": true
   },
   "outputs": [],
   "source": [
    "Y = joined[['expired']][['expired']].copy()\n",
    "Y = (Y==0).astype(int)\n",
    "Y.columns = ['Survival']\n",
    "Y"
   ]
  },
  {
   "cell_type": "code",
   "execution_count": null,
   "metadata": {
    "hidden": true
   },
   "outputs": [],
   "source": [
    "ppred_df = \\\n",
    "(\n",
    "    pd.read_csv(\n",
    "        dir_+\n",
    "        'mortality_predictions_marker_patient_predictions_survival.csv',\n",
    "        index_col=0).\n",
    "    set_index('set').\n",
    "    join(\n",
    "        fimp_df[['set','Feature']].\n",
    "        query('Feature!=\"Intercept\"').\n",
    "        drop_duplicates().\n",
    "        set_index('set')\n",
    "    ).\n",
    "    reset_index().\n",
    "    set_index('Feature').\n",
    "    join(idmap_sub.set_index('Protein'))\n",
    ")\n",
    "tmp = ppred_df[['Sample','y_proba']].set_index('Sample').join(Y)\n",
    "tmp = \\\n",
    "pd.concat([\n",
    "    pd.DataFrame(\n",
    "        [tmp.query('Survival==1').sample(100).y_proba.values,np.repeat('Survived',100)]\n",
    "    ).T,\n",
    "    pd.DataFrame(\n",
    "        [tmp.query('Survival==0').sample(100).y_proba.values,np.repeat('Died',100)]\n",
    "    ).T\n",
    "])\n",
    "tmp.columns = ['y_proba','Survival']\n",
    "tmp.y_proba = tmp.y_proba.astype(float)\n",
    "display(tmp)\n",
    "fig,ax = plt.subplots(dpi=300)\n",
    "sns.kdeplot(data=tmp,x='y_proba',hue='Survival',ax=ax)"
   ]
  },
  {
   "cell_type": "code",
   "execution_count": null,
   "metadata": {
    "hidden": true
   },
   "outputs": [],
   "source": [
    "a = tmp.query('Survival==\"Survived\"').y_proba.values\n",
    "b = tmp.query('Survival==\"Died\"').y_proba.values\n",
    "ttest_ind(a,b)"
   ]
  },
  {
   "cell_type": "code",
   "execution_count": null,
   "metadata": {
    "hidden": true,
    "scrolled": true
   },
   "outputs": [],
   "source": [
    "dpi=300\n",
    "feats=dat.query('perf>0.6').index.values\n",
    "for feat in feats:\n",
    "    gene = idmap_sub.query('Protein==@feat')['Gene_name'].values[0]\n",
    "    \n",
    "    pperf=ppred_df.loc[feat]\n",
    "    c='black'\n",
    "    \n",
    "    func=get_pperf_roc_curve_stats\n",
    "    fpr,tpr = func(pperf)\n",
    "\n",
    "    fig,ax = plt.subplots(dpi=dpi)\n",
    "    ax.plot(fpr,tpr,c=c)\n",
    "    ax.plot(fpr,tpr,'.',c=c,marker='o',mec=c,ms=1,lw=0.00001)\n",
    "    ax.set_xlabel('')\n",
    "    fig = plt_atts_roc(ax,fig)\n",
    "    fig.savefig('../../docs/imgs/'+feat+'_'+gene+'_roc_curve.png')\n",
    "    \n",
    "    func=get_pperf_precision_recall_curve_stats\n",
    "    fpr,tpr = func(pperf)\n",
    "\n",
    "    fig,ax = plt.subplots(dpi=dpi)\n",
    "    ax.plot(fpr,tpr,c=c)\n",
    "    ax.plot(fpr,tpr,'.',c=c,marker='o',mec=c,ms=1,lw=0.00001)\n",
    "    fig = plt_atts_pr(ax,fig)\n",
    "    fig.savefig('../../docs/imgs/'+feat+'_'+gene+'_pr_curve.png')"
   ]
  },
  {
   "cell_type": "markdown",
   "metadata": {
    "hidden": true
   },
   "source": [
    "### Comparison to predictions with covariates"
   ]
  },
  {
   "cell_type": "code",
   "execution_count": null,
   "metadata": {
    "hidden": true
   },
   "outputs": [],
   "source": [
    "s_perf_df = perf_df\n",
    "s_fimp_df = fimp_df"
   ]
  },
  {
   "cell_type": "code",
   "execution_count": null,
   "metadata": {
    "hidden": true
   },
   "outputs": [],
   "source": [
    "swcovs_perf_df = \\\n",
    "pd.read_csv(\n",
    "    \n",
    "    dir_+\n",
    "    'mortality_predictions_marker_performance_survival_wcovs.csv'\n",
    ")\n",
    "swcovs_perf_df.set_features = [x.replace(\"['\",'').replace(\"']\",'').strip(\", \") for x in swcovs_perf_df.set_features]\n",
    "swcovs_perf_df = \\\n",
    "(\n",
    "    swcovs_perf_df.\n",
    "    loc[:,['set','set_features']].\n",
    "    set_index('set').\n",
    "    join(\n",
    "        generate_val_scores(\n",
    "            pd.read_csv(\n",
    "                dir_+'mortality_predictions_marker_patient_predictions_survival_wcovs.csv',\n",
    "                index_col=0).set_index('set')\n",
    "        )\n",
    "    ).\n",
    "    reset_index().\n",
    "    set_index('set_features').\n",
    "    join(\n",
    "        idmap_sub.set_index('Protein')\n",
    "    ).\n",
    "    sort_values('roc_auc_mean')\n",
    ")\n",
    "\n",
    "swcovs_fimp_df = pd.read_csv(dir_+'mortality_predictions_marker_feature_importance_survival_wcovs.csv')\n",
    "swcovs_fimp_df.set_features = [x.replace(\"['\",'').replace(\"']\",'').strip(\", \") for x in swcovs_fimp_df.set_features]"
   ]
  },
  {
   "cell_type": "code",
   "execution_count": null,
   "metadata": {
    "hidden": true
   },
   "outputs": [],
   "source": [
    "swcovs_perf_df[['set']]"
   ]
  },
  {
   "cell_type": "code",
   "execution_count": null,
   "metadata": {
    "hidden": true
   },
   "outputs": [],
   "source": [
    "tmp = \\\n",
    "(\n",
    "    swcovs_perf_df.\n",
    "    query('set!=40 & set!=42 & set!=35').\n",
    "    loc[:,['roc_auc_mean']].\n",
    "    rename(columns = {'roc_auc_mean' : 'wcovs'}).\n",
    "    join(\n",
    "        s_perf_df.\n",
    "        loc[:,['roc_auc_mean']].\n",
    "        rename(columns = {'roc_auc_mean' : 'wocovs'})\n",
    "    )\n",
    ")\n",
    "fig,ax=plt.subplots(dpi=300)\n",
    "g = sns.scatterplot('wcovs','wocovs',data=tmp,ax=ax)\n",
    "ax.set_xticklabels(ax.get_xticklabels(),fontsize=12,weight='bold')\n",
    "ax.set_xlabel('Prediction with site-of-origin covariates',fontsize=12,weight='bold')\n",
    "ax.xaxis.set_major_formatter(matplotlib.ticker.FormatStrFormatter('%.2f'))\n",
    "ax.set_ylabel('Marker prediction',fontsize=12,weight='bold')\n",
    "ax.set_yticklabels(ax.get_yticks(),fontsize=12,weight='bold')\n",
    "ax.yaxis.set_major_formatter(matplotlib.ticker.FormatStrFormatter('%.2f'))\n",
    "\n",
    "x0, x1 = g.axes.get_xlim()\n",
    "y0, y1 = g.axes.get_ylim()\n",
    "lims = [max(x0, y0), min(x1, y1)]\n",
    "g.axes.plot(lims, lims, 'r--')\n",
    "fig.tight_layout()\n",
    "fig.savefig('../../docs/imgs/survival_marker_predictions_w_wo_covariates.png')"
   ]
  },
  {
   "cell_type": "code",
   "execution_count": null,
   "metadata": {
    "hidden": true
   },
   "outputs": [],
   "source": [
    "tmp = \\\n",
    "(\n",
    "    s_fimp_df.\n",
    "    query('Feature!=\"Intercept\" & Feature!=\"Cohort_Columbia\" & Feature!=\"Cohort_Cedar\" & Feature!=\"Cohort_Paris\"').\n",
    "    set_index('set').\n",
    "    loc[:,['mean']].\n",
    "    rename(columns={'mean' : 'wcovs'}).\n",
    "    join(\n",
    "        swcovs_fimp_df.\n",
    "        query('Feature!=\"expired\" & Feature!=\"Survival\" & Feature!=\"PGD\"').\n",
    "        query('Feature!=\"Intercept\" & Feature!=\"Cohort_Columbia\" & Feature!=\"Cohort_Cedar\" & Feature!=\"Cohort_Paris\"').\n",
    "        set_index('set').\n",
    "        loc[:,['mean']].\n",
    "        rename(columns={'mean' : 'wocovs'})\n",
    "    )\n",
    ")\n",
    "fig,ax=plt.subplots(dpi=300)\n",
    "g = sns.scatterplot('wcovs','wocovs',data=tmp,ax=ax)\n",
    "ax.set_xlabel('Marker association with site-of-origin covariates',fontsize=12,weight='bold')\n",
    "ax.set_xticklabels(ax.get_xticks(),fontsize=12,weight='bold')\n",
    "ax.set_ylabel('Marker association',fontsize=12,weight='bold')\n",
    "ax.set_yticklabels(ax.get_yticks(),fontsize=12,weight='bold')\n",
    "\n",
    "x0, x1 = g.axes.get_xlim()\n",
    "y0, y1 = g.axes.get_ylim()\n",
    "lims = [max(x0, y0), min(x1, y1)]\n",
    "g.axes.plot(lims, lims, 'r--')\n",
    "fig.tight_layout()\n",
    "fig.savefig('../../docs/imgs/survival_marker_associations_w_wo_covariates.png')"
   ]
  },
  {
   "cell_type": "code",
   "execution_count": null,
   "metadata": {
    "hidden": true
   },
   "outputs": [],
   "source": [
    "swcovs_full_fimp_df = \\\n",
    "pd.read_csv(\n",
    "    dir_+'mortality_predictions_marker_full_feature_importance_survival_wcovs.csv',\n",
    "    index_col=0\n",
    ")\n",
    "swcovs_full_perm_fimp_df = \\\n",
    "pd.read_csv(\n",
    "    dir_+'mortality_predictions_marker_full_permuted_feature_importance_survival_wcovs.csv',\n",
    "    index_col=0\n",
    ")\n",
    "proteins = np.intersect1d(swcovs_full_fimp_df.Feature.unique(),swcovs_full_perm_fimp_df.Feature.unique())\n",
    "sig_lst = []\n",
    "for prot in proteins:\n",
    "    x = swcovs_full_fimp_df[swcovs_full_fimp_df.Feature==prot].Importance.values\n",
    "    y = swcovs_full_perm_fimp_df[swcovs_full_fimp_df.Feature==prot].Importance.values\n",
    "    lwr, upr = (\n",
    "        swcovs_full_perm_fimp_df[\n",
    "            swcovs_full_fimp_df.Feature==prot\n",
    "        ].\n",
    "        Importance.\n",
    "        describe(\n",
    "            percentiles=[0.025,0.975]\n",
    "        ).\n",
    "        loc[['2.5%','97.5%']]\n",
    "    )\n",
    "    stat, pv = ks_2samp(x,y)\n",
    "    sig_lst.append(\n",
    "        pd.DataFrame(\n",
    "            {'statistic' : stat,'pvalue' : pv,'perm_fimp_lwr' : lwr,'perm_fimp_upr' : upr},\n",
    "            index=[prot]\n",
    "        )\n",
    "    )\n",
    "swcovs_sig_df = pd.concat(sig_lst)\n",
    "swcovs_sig_df['padj'] = multipletests(swcovs_sig_df['pvalue'],method='bonferroni')[1]\n",
    "swcovs_sig_df"
   ]
  },
  {
   "cell_type": "code",
   "execution_count": null,
   "metadata": {
    "hidden": true
   },
   "outputs": [],
   "source": [
    "swcovs_dat = \\\n",
    "(\n",
    "    swcovs_perf_df.\n",
    "    loc[:,['roc_auc_mean','roc_auc_lwr','roc_auc_upr','set','Gene_name']].\n",
    "    rename(\n",
    "        columns={\n",
    "            'roc_auc_mean' : 'perf',\n",
    "            'roc_auc_lwr' : 'perf_lwr',\n",
    "            'roc_auc_upr' : 'perf_upr'\n",
    "        }\n",
    "    ).\n",
    "    reset_index().\n",
    "    set_index('set').\n",
    "    join(\n",
    "        swcovs_fimp_df.\n",
    "        query('Feature!=\"Intercept\" & Feature!=\"Cohort_Columbia\" & Feature!=\"Cohort_Cedar\" & Feature!=\"Cohort_Paris\"').\n",
    "        set_index('set').\n",
    "        loc[:,['mean','2.5%','97.5%']].\n",
    "        rename(columns={'mean' : 'fimp','2.5%' : 'fimp_lwr','97.5%' : 'fimp_upr'})\n",
    "    ).\n",
    "    set_index('set_features').\n",
    "    join(swcovs_sig_df)\n",
    ")"
   ]
  },
  {
   "cell_type": "code",
   "execution_count": null,
   "metadata": {
    "hidden": true
   },
   "outputs": [],
   "source": [
    "sig = (\n",
    "    dat.\n",
    "    query(\n",
    "        'perf>0.5 & perm_fimp_lwr<=0 & perm_fimp_upr>=0 & (fimp_lwr>0 | fimp_upr<0) & padj<0.0001'\n",
    "    ).\n",
    "    sort_values('perf')\n",
    ").index.unique()\n",
    "print(len(sig))\n",
    "sig_wcovs = (\n",
    "    swcovs_dat.\n",
    "    query(\n",
    "        'perf>0.5 & (fimp_lwr<=0 & fimp_upr>=0)'\n",
    "    ).\n",
    "    sort_values('perf')\n",
    ").index.unique()\n",
    "len(sig_wcovs)"
   ]
  },
  {
   "cell_type": "code",
   "execution_count": null,
   "metadata": {
    "hidden": true
   },
   "outputs": [],
   "source": [
    "np.setdiff1d(sig,sig_wcovs) #not significantly associated after covariates"
   ]
  },
  {
   "cell_type": "markdown",
   "metadata": {
    "heading_collapsed": true
   },
   "source": [
    "## Survival prediction with PGD covariate"
   ]
  },
  {
   "cell_type": "code",
   "execution_count": null,
   "metadata": {
    "hidden": true
   },
   "outputs": [],
   "source": [
    "perf_df = \\\n",
    "pd.read_csv(\n",
    "    \n",
    "    dir_+\n",
    "    'mortality_predictions_marker_performance_survival_wpgdcov.csv'\n",
    ")\n",
    "perf_df.set_features = [x.replace(\"['\",'').replace(\"']\",'').strip(\", \") for x in perf_df.set_features]\n",
    "perf_df = \\\n",
    "(\n",
    "    perf_df.\n",
    "    loc[:,['set','set_features']].\n",
    "    set_index('set').\n",
    "    join(\n",
    "        generate_val_scores(\n",
    "            pd.read_csv(\n",
    "                dir_+'mortality_predictions_marker_patient_predictions_survival_wpgdcov.csv',\n",
    "                index_col=0).set_index('set')\n",
    "        )\n",
    "    ).\n",
    "    reset_index().\n",
    "    set_index('set_features').\n",
    "    join(\n",
    "        idmap_sub.set_index('Protein')\n",
    "    ).\n",
    "    sort_values('roc_auc_mean')\n",
    ")\n",
    "\n",
    "fimp_df = pd.read_csv(dir_+'mortality_predictions_marker_feature_importance_survival_wpgdcov.csv')\n",
    "fimp_df.set_features = [x.replace(\"['\",'').replace(\"']\",'').strip(\", \") for x in fimp_df.set_features]"
   ]
  },
  {
   "cell_type": "code",
   "execution_count": null,
   "metadata": {
    "hidden": true
   },
   "outputs": [],
   "source": [
    "full_fimp_df = \\\n",
    "pd.read_csv(\n",
    "    dir_+'mortality_predictions_marker_full_feature_importance_survival_wpgdcov.csv',\n",
    "    index_col=0\n",
    ")\n",
    "full_perm_fimp_df = \\\n",
    "pd.read_csv(\n",
    "    dir_+'mortality_predictions_marker_full_permuted_feature_importance_survival_wpgdcov.csv',\n",
    "    index_col=0\n",
    ")\n",
    "proteins = np.intersect1d(full_fimp_df.Feature.unique(),full_perm_fimp_df.Feature.unique())\n",
    "sig_lst = []\n",
    "for prot in proteins:\n",
    "    x = full_fimp_df[full_fimp_df.Feature==prot].Importance.values\n",
    "    y = full_perm_fimp_df[full_fimp_df.Feature==prot].Importance.values\n",
    "    lwr, upr = (\n",
    "        full_perm_fimp_df[\n",
    "            full_fimp_df.Feature==prot\n",
    "        ].\n",
    "        Importance.\n",
    "        describe(\n",
    "            percentiles=[0.025,0.975]\n",
    "        ).\n",
    "        loc[['2.5%','97.5%']]\n",
    "    )\n",
    "    stat, pv = ks_2samp(x,y)\n",
    "    sig_lst.append(\n",
    "        pd.DataFrame(\n",
    "            {'statistic' : stat,'pvalue' : pv,'perm_fimp_lwr' : lwr,'perm_fimp_upr' : upr},\n",
    "            index=[prot]\n",
    "        )\n",
    "    )\n",
    "sig_df = pd.concat(sig_lst)\n",
    "sig_df['padj'] = multipletests(sig_df['pvalue'],method='bonferroni')[1]\n",
    "sig_df"
   ]
  },
  {
   "cell_type": "code",
   "execution_count": null,
   "metadata": {
    "hidden": true,
    "scrolled": false
   },
   "outputs": [],
   "source": [
    "dat = \\\n",
    "(\n",
    "    perf_df.\n",
    "    loc[:,['roc_auc_mean','roc_auc_lwr','roc_auc_upr','set','Gene_name']].\n",
    "    rename(\n",
    "        columns={\n",
    "            'roc_auc_mean' : 'perf',\n",
    "            'roc_auc_lwr' : 'perf_lwr',\n",
    "            'roc_auc_upr' : 'perf_upr'\n",
    "        }\n",
    "    ).\n",
    "    reset_index().\n",
    "    set_index('set').\n",
    "    join(\n",
    "        fimp_df.\n",
    "        query('Feature!=\"Intercept\" & Feature!=\"PGD\"').\n",
    "        set_index('set').\n",
    "        loc[:,['mean','2.5%','97.5%']].\n",
    "        rename(columns={'mean' : 'fimp','2.5%' : 'fimp_lwr','97.5%' : 'fimp_upr'})\n",
    "    ).\n",
    "    set_index('set_features').\n",
    "    join(sig_df)\n",
    ")\n",
    "dat = dat.query('set_features!=\"PGD\"')\n",
    "dat = dat.query('set_features!=\"expired\"')\n",
    "dat = dat.query('set_features!=\"Survival\"')"
   ]
  },
  {
   "cell_type": "code",
   "execution_count": null,
   "metadata": {
    "hidden": true
   },
   "outputs": [],
   "source": [
    "(\n",
    "    dat.\n",
    "    query(\n",
    "        'perf>0.5 & perm_fimp_lwr<=0 & perm_fimp_upr>=0 & (fimp_lwr>0 | fimp_upr<0) & padj<0.0001'\n",
    "    )\n",
    ")"
   ]
  },
  {
   "cell_type": "code",
   "execution_count": null,
   "metadata": {
    "hidden": true
   },
   "outputs": [],
   "source": [
    "prots = \\\n",
    "(\n",
    "    pd.\n",
    "    read_csv(\n",
    "        dir_+'mortality_significant_prediction_stats_survival.csv'\n",
    "    ).\n",
    "    loc[:,'Gene_name'].\n",
    "    values\n",
    ")"
   ]
  },
  {
   "cell_type": "code",
   "execution_count": null,
   "metadata": {
    "hidden": true
   },
   "outputs": [],
   "source": [
    "(\n",
    "    dat.\n",
    "    query(\n",
    "        '(perf>0.5 & perm_fimp_lwr<=0 & perm_fimp_upr>=0 & \\\n",
    "        (fimp_lwr>0 | fimp_upr<0) & padj<0.0001) | \\\n",
    "        Gene_name in @prots'\n",
    "    ).\n",
    "    loc[:,\n",
    "        ['perf_lwr',\n",
    "         'perf','perf_upr','fimp_lwr',\n",
    "         'fimp','fimp_upr','padj','Gene_name'\n",
    "        ]\n",
    "       ].\n",
    "    sort_values('fimp',ascending=False)\n",
    ").to_csv(dir_+'mortality_significant_prediction_stats_survival_wpgdcov.csv')"
   ]
  },
  {
   "cell_type": "markdown",
   "metadata": {
    "heading_collapsed": true
   },
   "source": [
    "## Survival <1 year predictions"
   ]
  },
  {
   "cell_type": "code",
   "execution_count": null,
   "metadata": {
    "hidden": true
   },
   "outputs": [],
   "source": [
    "perf_df = \\\n",
    "pd.read_csv(\n",
    "    \n",
    "    dir_+\n",
    "    'mortality_predictions_marker_performance_survival_wn_year.csv'\n",
    ")\n",
    "perf_df.set_features = [x.replace(\"['\",'').replace(\"']\",'').strip(\", \") for x in perf_df.set_features]\n",
    "perf_df = \\\n",
    "(\n",
    "    perf_df.\n",
    "    loc[:,['set','set_features']].\n",
    "    set_index('set').\n",
    "    join(\n",
    "        generate_val_scores(\n",
    "            pd.read_csv(\n",
    "                dir_+'mortality_predictions_marker_patient_predictions_survival_wn_year.csv',\n",
    "                index_col=0).set_index('set')\n",
    "        )\n",
    "    ).\n",
    "    reset_index().\n",
    "    set_index('set_features').\n",
    "    join(\n",
    "        idmap_sub.set_index('Protein')\n",
    "    ).\n",
    "    sort_values('roc_auc_mean')\n",
    ")\n",
    "\n",
    "fimp_df = pd.read_csv(dir_+'mortality_predictions_marker_feature_importance_survival_wn_year.csv')\n",
    "fimp_df.set_features = [x.replace(\"['\",'').replace(\"']\",'').strip(\", \") for x in fimp_df.set_features]"
   ]
  },
  {
   "cell_type": "code",
   "execution_count": null,
   "metadata": {
    "hidden": true
   },
   "outputs": [],
   "source": [
    "full_fimp_df = \\\n",
    "pd.read_csv(\n",
    "    dir_+'mortality_predictions_marker_full_feature_importance_survival_wn_year.csv',\n",
    "    index_col=0\n",
    ")\n",
    "full_perm_fimp_df = \\\n",
    "pd.read_csv(\n",
    "    dir_+'mortality_predictions_marker_full_permuted_feature_importance_survival_wn_year.csv',\n",
    "    index_col=0\n",
    ")\n",
    "proteins = np.intersect1d(full_fimp_df.Feature.unique(),full_perm_fimp_df.Feature.unique())\n",
    "sig_lst = []\n",
    "for prot in proteins:\n",
    "    x = full_fimp_df[full_fimp_df.Feature==prot].Importance.values\n",
    "    y = full_perm_fimp_df[full_fimp_df.Feature==prot].Importance.values\n",
    "    lwr, upr = (\n",
    "        full_perm_fimp_df[\n",
    "            full_fimp_df.Feature==prot\n",
    "        ].\n",
    "        Importance.\n",
    "        describe(\n",
    "            percentiles=[0.025,0.975]\n",
    "        ).\n",
    "        loc[['2.5%','97.5%']]\n",
    "    )\n",
    "    stat, pv = ks_2samp(x,y)\n",
    "    sig_lst.append(\n",
    "        pd.DataFrame(\n",
    "            {'statistic' : stat,'pvalue' : pv,'perm_fimp_lwr' : lwr,'perm_fimp_upr' : upr},\n",
    "            index=[prot]\n",
    "        )\n",
    "    )\n",
    "sig_df = pd.concat(sig_lst)\n",
    "sig_df['padj'] = multipletests(sig_df['pvalue'],method='bonferroni')[1]\n",
    "sig_df"
   ]
  },
  {
   "cell_type": "code",
   "execution_count": null,
   "metadata": {
    "hidden": true
   },
   "outputs": [],
   "source": [
    "dat = \\\n",
    "(\n",
    "    perf_df.\n",
    "    loc[:,['roc_auc_mean','roc_auc_lwr','roc_auc_upr','set','Gene_name']].\n",
    "    rename(\n",
    "        columns={\n",
    "            'roc_auc_mean' : 'perf',\n",
    "            'roc_auc_lwr' : 'perf_lwr',\n",
    "            'roc_auc_upr' : 'perf_upr'\n",
    "        }\n",
    "    ).\n",
    "    reset_index().\n",
    "    set_index('set').\n",
    "    join(\n",
    "        fimp_df.\n",
    "        query('Feature!=\"Intercept\" & Feature!=\"PGD\"').\n",
    "        set_index('set').\n",
    "        loc[:,['mean','2.5%','97.5%']].\n",
    "        rename(columns={'mean' : 'fimp','2.5%' : 'fimp_lwr','97.5%' : 'fimp_upr'})\n",
    "    ).\n",
    "    set_index('set_features').\n",
    "    join(sig_df)\n",
    ")\n",
    "dat = dat.query('set_features!=\"PGD\"')\n",
    "dat = dat.query('set_features!=\"expired\"')\n",
    "dat = dat.query('set_features!=\"Survival\"')"
   ]
  },
  {
   "cell_type": "code",
   "execution_count": null,
   "metadata": {
    "hidden": true
   },
   "outputs": [],
   "source": [
    "(\n",
    "    dat.\n",
    "    query(\n",
    "        'perf>0.5 & perm_fimp_lwr<=0 & perm_fimp_upr>=0 & (fimp_lwr>0 | fimp_upr<0) & padj<0.0001'\n",
    "    )\n",
    ")"
   ]
  },
  {
   "cell_type": "code",
   "execution_count": null,
   "metadata": {
    "hidden": true
   },
   "outputs": [],
   "source": [
    "(\n",
    "    dat.\n",
    "    query(\n",
    "        'perf>0.5 & perm_fimp_lwr<=0 & perm_fimp_upr>=0 & (fimp_lwr>0 | fimp_upr<0) & padj<0.0001'\n",
    "    ).\n",
    "    loc[:,\n",
    "        ['perf_lwr',\n",
    "         'perf','perf_upr','fimp_lwr',\n",
    "         'fimp','fimp_upr','padj','Gene_name'\n",
    "        ]\n",
    "       ].\n",
    "    sort_values('fimp',ascending=False)\n",
    ").to_csv(dir_+'mortality_significant_prediction_stats_survival_wn_year.csv')"
   ]
  },
  {
   "cell_type": "markdown",
   "metadata": {
    "heading_collapsed": true
   },
   "source": [
    "## Mortality lvad covariate predictions"
   ]
  },
  {
   "cell_type": "code",
   "execution_count": null,
   "metadata": {
    "hidden": true
   },
   "outputs": [],
   "source": [
    "perf_df = \\\n",
    "pd.read_csv(\n",
    "    dir_+\n",
    "    'mortality_predictions_marker_performance_lvad_covariate.csv'\n",
    ")\n",
    "perf_df.set_features = [x.replace(\"['\",'').replace(\"', 'lvad']\",'').strip(\", \") for x in perf_df.set_features]\n",
    "fimp_df = pd.read_csv(dir_+'mortality_predictions_marker_feature_importance_lvad_covariate.csv')\n",
    "fimp_df.set_features = [x.replace(\"['\",'').replace(\", 'lvad']\",'').strip(\", \") for x in fimp_df.set_features]"
   ]
  },
  {
   "cell_type": "code",
   "execution_count": null,
   "metadata": {
    "hidden": true
   },
   "outputs": [],
   "source": [
    "perf_df.sort_values('mean')"
   ]
  },
  {
   "cell_type": "code",
   "execution_count": null,
   "metadata": {
    "hidden": true
   },
   "outputs": [],
   "source": [
    "(\n",
    "    perf_df.\n",
    "    set_index('set_features').\n",
    "    join(\n",
    "        idmap_sub.set_index('Protein')\n",
    "    ).\n",
    "    sort_values('mean').\n",
    "    tail(20)\n",
    ")"
   ]
  },
  {
   "cell_type": "code",
   "execution_count": null,
   "metadata": {
    "hidden": true
   },
   "outputs": [],
   "source": [
    "(\n",
    "    fimp_df.\n",
    "    set_index('set_features').\n",
    "    join(\n",
    "        idmap_sub.set_index('Protein')\n",
    "    ).\n",
    "    sort_values('mean').\n",
    "    query('`2.5%`>0')\n",
    ")"
   ]
  },
  {
   "cell_type": "markdown",
   "metadata": {
    "heading_collapsed": true
   },
   "source": [
    "## PGD predictions"
   ]
  },
  {
   "cell_type": "markdown",
   "metadata": {
    "hidden": true
   },
   "source": [
    "ppred_df = pd.read_csv(\n",
    "                dir_+'mortality_predictions_marker_patient_predictions_pgd.csv',\n",
    "                index_col=0)\n",
    "arr_dfs = []\n",
    "for set_,tmp in ppred_df.groupby('set'):\n",
    "    vals = []\n",
    "    for b in range(50):\n",
    "        sub = tmp.sample(tmp.shape[0],replace=True,random_state=b)\n",
    "        conf = metrics.confusion_matrix(sub.y_true,sub.y_pred)\n",
    "        tn = conf[0][0]\n",
    "        tp = conf[1][1]\n",
    "        fn = conf[1][0]\n",
    "        fp = conf[0][1]\n",
    "        auc = metrics.roc_auc_score(sub.y_true,sub.y_proba)\n",
    "        vals.append([auc,tp,tn,fp,fn])\n",
    "    arr = np.array(vals)\n",
    "    arr_df = \\\n",
    "    pd.DataFrame(\n",
    "        np.mean(arr,0),\n",
    "        index=['AUROC','TP','TN','FP','FN'],\n",
    "        columns=[set_]\n",
    "    ).T\n",
    "    arr_dfs.append(\n",
    "        arr_df.eval(\n",
    "            '''\n",
    "            sensitivity = TP/(TP+FN)\n",
    "            PPV = TP/(TP+FP)\n",
    "            specificity = TN/(TN+FP)\n",
    "            NPV = TN/(TN+FN)\n",
    "            '''\n",
    "        )\n",
    "    )\n",
    "\n",
    "perf_df = \\\n",
    "pd.read_csv(\n",
    "    \n",
    "    dir_+\n",
    "    'mortality_predictions_marker_performance_pgd.csv'\n",
    ")\n",
    "perf_df.set_features = [x.replace(\"['\",'').replace(\"']\",'').strip(\", \") for x in perf_df.set_features]\n",
    "(\n",
    "    pd.\n",
    "    concat(arr_dfs).\n",
    "    join(\n",
    "        perf_df.\n",
    "        set_index('set').\n",
    "        loc[:,['set_features']]\n",
    "    ).\n",
    "    reset_index().\n",
    "    set_index('set_features').\n",
    "    join(\n",
    "        idmap_sub.\n",
    "        set_index('Protein')\n",
    "    ).\n",
    "    sort_values('AUROC')\n",
    ")"
   ]
  },
  {
   "cell_type": "code",
   "execution_count": null,
   "metadata": {
    "hidden": true
   },
   "outputs": [],
   "source": [
    "perf_df = \\\n",
    "pd.read_csv(\n",
    "    \n",
    "    dir_+\n",
    "    'mortality_predictions_marker_performance.csv'\n",
    ")\n",
    "perf_df.set_features = [x.replace(\"['\",'').replace(\"']\",'').strip(\", \") for x in perf_df.set_features]\n",
    "perf_df = \\\n",
    "(\n",
    "    perf_df.\n",
    "    loc[:,['set','set_features']].\n",
    "    set_index('set').\n",
    "    join(\n",
    "        generate_val_scores(\n",
    "            pd.read_csv(\n",
    "                dir_+'mortality_predictions_marker_patient_predictions.csv',\n",
    "                index_col=0).set_index('set')\n",
    "        )\n",
    "    ).\n",
    "    reset_index().\n",
    "    set_index('set_features').\n",
    "    join(\n",
    "        idmap_sub.set_index('Protein')\n",
    "    ).\n",
    "    sort_values('roc_auc_mean')\n",
    ")\n",
    "perf_df"
   ]
  },
  {
   "cell_type": "code",
   "execution_count": null,
   "metadata": {
    "hidden": true
   },
   "outputs": [],
   "source": [
    "pgd_perf_df = \\\n",
    "pd.read_csv(\n",
    "    \n",
    "    dir_+\n",
    "    'mortality_predictions_marker_performance_pgd.csv'\n",
    ")\n",
    "pgd_perf_df.set_features = [x.replace(\"['\",'').replace(\"']\",'').strip(\", \") for x in pgd_perf_df.set_features]\n",
    "pgd_perf_df = \\\n",
    "(\n",
    "    pgd_perf_df.\n",
    "    loc[:,['set','set_features']].\n",
    "    set_index('set').\n",
    "    join(\n",
    "        generate_val_scores(\n",
    "            pd.read_csv(\n",
    "                dir_+'mortality_predictions_marker_patient_predictions_pgd.csv',\n",
    "                index_col=0).set_index('set')\n",
    "        )\n",
    "    ).\n",
    "    reset_index().\n",
    "    set_index('set_features').\n",
    "    join(\n",
    "        idmap_sub.set_index('Protein')\n",
    "    ).\n",
    "    sort_values('roc_auc_mean')\n",
    ")\n",
    "pgd_fimp_df = pd.read_csv(dir_+'mortality_predictions_marker_feature_importance_pgd.csv')\n",
    "pgd_fimp_df.set_features = [x.replace(\"['\",'').replace(\"']\",'').strip(\", \") for x in pgd_fimp_df.set_features]\n",
    "\n",
    "pgd_perf_df.to_csv(dir_+'mortality_predictions_marker_processed_patient_predictions_pgd.csv')"
   ]
  },
  {
   "cell_type": "code",
   "execution_count": null,
   "metadata": {},
   "outputs": [],
   "source": [
    "pgd_perf_df.loc[['P00734','P00740','P08697','Q96IY4','P01042-2','D6RAR4']]"
   ]
  },
  {
   "cell_type": "code",
   "execution_count": null,
   "metadata": {
    "hidden": true
   },
   "outputs": [],
   "source": [
    "dat = \\\n",
    "(\n",
    "    pgd_perf_df.\n",
    "    loc[:,['roc_auc_mean','roc_auc_lwr','roc_auc_upr','set','Gene_name']].\n",
    "    rename(\n",
    "        columns={\n",
    "            'roc_auc_mean' : 'perf',\n",
    "            'roc_auc_lwr' : 'perf_lwr',\n",
    "            'roc_auc_upr' : 'perf_upr'\n",
    "        }\n",
    "    ).\n",
    "    reset_index().\n",
    "    set_index('set').\n",
    "    join(\n",
    "        pgd_fimp_df.\n",
    "        query('Feature!=\"Intercept\"').\n",
    "        set_index('set').\n",
    "        loc[:,['mean','2.5%','97.5%']].\n",
    "        rename(columns={'mean' : 'fimp','2.5%' : 'fimp_lwr','97.5%' : 'fimp_upr'})\n",
    "    ).\n",
    "    set_index('set_features')\n",
    ")\n",
    "\n",
    "dat = dat.query('set_features!=\"expired\"')\n",
    "dat = dat.query('set_features!=\"Survival\"')\n",
    "\n",
    "dat.to_csv(dir_+'mortality_pgd_marker_predictions.csv')\n"
   ]
  },
  {
   "cell_type": "code",
   "execution_count": null,
   "metadata": {
    "hidden": true,
    "scrolled": false
   },
   "outputs": [],
   "source": [
    "dat = \\\n",
    "(perf_df.\n",
    " reset_index().\n",
    " set_index('set_features').\n",
    " rename(columns = {'roc_auc_mean' : 'mean'}).\n",
    " loc[:,['mean']].\n",
    " query('set_features!=\"PGD\" & set_features!=\"expired\"').\n",
    " join(\n",
    "     pgd_perf_df.\n",
    "     reset_index().\n",
    "     set_index('set_features').\n",
    "     rename(columns={'roc_auc_mean' : 'pgd_mean'}).\n",
    "     loc[:,['pgd_mean']]\n",
    " )\n",
    ")\n",
    "\n",
    "\n",
    "fig,ax = plt.subplots(dpi=300)\n",
    "display(dat.sort_values('mean'))\n",
    "display(dat.sort_values('pgd_mean'))\n",
    "display(dat.query('mean>0.5 & pgd_mean>0.5').sort_values('pgd_mean'))\n",
    "ax = sns.scatterplot('mean','pgd_mean',data=dat,ax=ax)\n",
    "ax.set_xlabel('Survival prediction')\n",
    "ax.set_ylabel('PGD prediction')\n",
    "\n",
    "fig.savefig('../../docs/imgs/survival_vs_pgd_marker_prediction.png')"
   ]
  },
  {
   "cell_type": "code",
   "execution_count": null,
   "metadata": {},
   "outputs": [],
   "source": [
    "a=dat['mean'].values\n",
    "b=dat['pgd_mean'].values\n",
    "spearmanr(a,b)"
   ]
  },
  {
   "cell_type": "code",
   "execution_count": null,
   "metadata": {
    "hidden": true
   },
   "outputs": [],
   "source": [
    "full_fimp_df = \\\n",
    "pd.read_csv(\n",
    "    dir_+'mortality_predictions_marker_full_feature_importance_pgd.csv',\n",
    "    index_col=0\n",
    ")\n",
    "full_perm_fimp_df = \\\n",
    "pd.read_csv(\n",
    "    dir_+'mortality_predictions_marker_full_permuted_feature_importance_pgd.csv',\n",
    "    index_col=0\n",
    ")\n",
    "proteins = np.intersect1d(full_fimp_df.Feature.unique(),full_perm_fimp_df.Feature.unique())\n",
    "sig_lst = []\n",
    "for prot in proteins:\n",
    "    x = full_fimp_df[full_fimp_df.Feature==prot].Importance.values\n",
    "    y = full_perm_fimp_df[full_fimp_df.Feature==prot].Importance.values\n",
    "    lwr, upr = (\n",
    "        full_perm_fimp_df[\n",
    "            full_fimp_df.Feature==prot\n",
    "        ].\n",
    "        Importance.\n",
    "        describe(\n",
    "            percentiles=[0.025,0.975]\n",
    "        ).\n",
    "        loc[['2.5%','97.5%']]\n",
    "    )\n",
    "    stat, pv = ks_2samp(x,y)\n",
    "    sig_lst.append(\n",
    "        pd.DataFrame(\n",
    "            {'statistic' : stat,'pvalue' : pv,'perm_fimp_lwr' : lwr,'perm_fimp_upr' : upr},\n",
    "            index=[prot]\n",
    "        )\n",
    "    )\n",
    "sig_df = pd.concat(sig_lst)\n",
    "sig_df['padj'] = multipletests(sig_df['pvalue'],method='bonferroni')[1]\n",
    "sig_df"
   ]
  },
  {
   "cell_type": "code",
   "execution_count": null,
   "metadata": {
    "hidden": true
   },
   "outputs": [],
   "source": [
    "dat = \\\n",
    "(\n",
    "    pgd_perf_df.\n",
    "    loc[:,['roc_auc_mean','roc_auc_lwr','roc_auc_upr','set','Gene_name']].\n",
    "    rename(\n",
    "        columns={\n",
    "            'roc_auc_mean' : 'perf',\n",
    "            'roc_auc_lwr' : 'perf_lwr',\n",
    "            'roc_auc_upr' : 'perf_upr'\n",
    "        }\n",
    "    ).\n",
    "    reset_index().\n",
    "    set_index('set').\n",
    "    join(\n",
    "        pgd_fimp_df.\n",
    "        query('Feature!=\"Intercept\"').\n",
    "        set_index('set').\n",
    "        loc[:,['mean','2.5%','97.5%']].\n",
    "        rename(columns={'mean' : 'fimp','2.5%' : 'fimp_lwr','97.5%' : 'fimp_upr'})\n",
    "    ).\n",
    "    set_index('set_features').\n",
    "    join(sig_df)\n",
    ")\n",
    "dat"
   ]
  },
  {
   "cell_type": "code",
   "execution_count": null,
   "metadata": {
    "hidden": true
   },
   "outputs": [],
   "source": [
    "(\n",
    "    dat.\n",
    "    query(\n",
    "        'perf>0.5 & perf_lwr>0.5 & perm_fimp_lwr<0 & perm_fimp_upr>0 & (fimp_lwr>0 | fimp_upr<0) & padj<0.0001'\n",
    "    ).\n",
    "    loc[:,\n",
    "        ['perf_lwr',\n",
    "         'perf','perf_upr','fimp_lwr',\n",
    "         'fimp','fimp_upr','padj'\n",
    "        ]\n",
    "       ].\n",
    "    join(\n",
    "        idmap_sub.set_index('Protein')\n",
    "    )\n",
    ")"
   ]
  },
  {
   "cell_type": "code",
   "execution_count": null,
   "metadata": {
    "hidden": true
   },
   "outputs": [],
   "source": [
    "(\n",
    "    dat.\n",
    "    query(\n",
    "        'perf>0.5 & perf_lwr>0.5 & perm_fimp_lwr<0 & perm_fimp_upr>0 & (fimp_lwr>0 | fimp_upr<0) & padj<0.0001'\n",
    "    ).\n",
    "    loc[:,\n",
    "        ['perf_lwr',\n",
    "         'perf','perf_upr','fimp_lwr',\n",
    "         'fimp','fimp_upr','padj'\n",
    "        ]\n",
    "       ].\n",
    "    join(\n",
    "        idmap_sub.set_index('Protein')\n",
    "    )\n",
    ").to_csv(dir_+'mortality_pgd_significant_prediction_stats.csv')"
   ]
  },
  {
   "cell_type": "code",
   "execution_count": null,
   "metadata": {
    "hidden": true
   },
   "outputs": [],
   "source": [
    "Y = joined[['PGD']][['PGD']].copy()"
   ]
  },
  {
   "cell_type": "code",
   "execution_count": null,
   "metadata": {
    "hidden": true
   },
   "outputs": [],
   "source": [
    "ppred_df = \\\n",
    "(\n",
    "    pd.read_csv(\n",
    "        dir_+\n",
    "        'mortality_predictions_marker_patient_predictions_pgd.csv',\n",
    "        index_col=0).\n",
    "    set_index('set').\n",
    "    join(\n",
    "        fimp_df[['set','Feature']].\n",
    "        query('Feature!=\"Intercept\"').\n",
    "        drop_duplicates().\n",
    "        set_index('set')\n",
    "    ).\n",
    "    reset_index().\n",
    "    set_index('Feature').\n",
    "    join(idmap_sub.set_index('Protein'))\n",
    ")\n",
    "tmp = ppred_df[['Sample','y_proba']].set_index('Sample').join(Y)\n",
    "display(tmp.groupby('PGD')['y_proba'].mean())\n",
    "fig,ax = plt.subplots(dpi=300)\n",
    "sns.kdeplot(data=tmp,x='y_proba',hue='PGD',ax=ax)\n",
    "ax.set_xlim(0.4,0.6)"
   ]
  },
  {
   "cell_type": "markdown",
   "metadata": {
    "heading_collapsed": true
   },
   "source": [
    "## GSEA"
   ]
  },
  {
   "cell_type": "code",
   "execution_count": null,
   "metadata": {
    "hidden": true
   },
   "outputs": [],
   "source": [
    "import gseapy as gp\n",
    "gp.__version__"
   ]
  },
  {
   "cell_type": "code",
   "execution_count": null,
   "metadata": {
    "hidden": true
   },
   "outputs": [],
   "source": [
    "gs = ['GO_Biological_Process_2017b','GO_Molecular_Function_2017b',\n",
    "      'GO_Cellular_Component_2017b','Reactome_2016','WikiPathways_2019_Human',\n",
    "      'KEGG_2019_Human']\n",
    "col_map = { 'nes' : 'Normalized Enrichment Score', 'pval' : 'P-value', 'fdr' : 'False Discovery Rate',\"Category\" : 'Category'}"
   ]
  },
  {
   "cell_type": "markdown",
   "metadata": {
    "heading_collapsed": true,
    "hidden": true
   },
   "source": [
    "### Survival"
   ]
  },
  {
   "cell_type": "code",
   "execution_count": null,
   "metadata": {
    "hidden": true
   },
   "outputs": [],
   "source": [
    "cov = ''\n",
    "rnk = \\\n",
    "pd.read_csv(dir_+'survival_rank_statistic.csv')[['Gene_name','odds']].drop_duplicates(subset='Gene_name')\n",
    "rnk.head()"
   ]
  },
  {
   "cell_type": "code",
   "execution_count": null,
   "metadata": {
    "hidden": true
   },
   "outputs": [],
   "source": [
    "genes = ['F2','F9','SERPINF2','CPB2','SERPIND1','CLU','F5','MASP1','KLKB1','F10','PLG','PROS1',\n",
    "         'C6','SERPINA1','C1QA','CFD','C1QB','SERPINC1','VWF','F12','C1R',\n",
    "         'C7','C9','SERPINA5','C2','CFI','MASP2','C1S','C8G','CFH','C1QC',\n",
    "         'C3','F13B','FGB','KNG1']\n",
    "ledge_genes = ['F2','F9','SERPINF2','CPB2','SERPIND1','CLU']\n",
    "display(rnk.query('Gene_name in @genes').sort_values('Gene_name'))\n",
    "display(rnk.query('Gene_name in @ledge_genes'))"
   ]
  },
  {
   "cell_type": "code",
   "execution_count": null,
   "metadata": {
    "hidden": true
   },
   "outputs": [],
   "source": [
    "for g in gs:\n",
    "    print('\\t'+g)\n",
    "    pre_res = gp.prerank(rnk=rnk[['Gene_name','odds']], gene_sets=g,\n",
    "                     processes=4,\n",
    "                     permutation_num=10000, \n",
    "                     outdir=dir_+'survival_gsea/'+g,format='png')"
   ]
  },
  {
   "cell_type": "code",
   "execution_count": null,
   "metadata": {
    "hidden": true
   },
   "outputs": [],
   "source": [
    "datas=[]\n",
    "for g in gs:\n",
    "    data = (\n",
    "        pd.read_csv(\n",
    "            dir_+'survival_gsea/'+g+'/gseapy.prerank.gene_sets.report.csv'\n",
    "        ).sort_values(['fdr','nes'],ascending=[True,False]).\n",
    "        query('fdr < 0.2 & (nes > 0 | nes < 0) & (fdr>pval | fdr==0)').\n",
    "        rename(columns=col_map).\n",
    "        set_index('Term')\n",
    "    )\n",
    "    data['Category'] = g\n",
    "    datas.append(data)\n",
    "pd.concat(datas).to_csv(dir_+'survival_gsea/'+\n",
    "                       'prerank_report_all_categories.csv')\n",
    "pd.concat(datas).shape"
   ]
  },
  {
   "cell_type": "code",
   "execution_count": null,
   "metadata": {
    "hidden": true
   },
   "outputs": [],
   "source": [
    "enriched = pd.concat(datas).copy()\n",
    "tmp = enriched[[k for k in col_map.values()]].sort_values('False Discovery Rate',ascending=True).round(4)\n",
    "tmp.sort_values('False Discovery Rate',ascending=True).to_csv(dir_+'survival_gsea/'+'pathways_functions.csv')\n",
    "enriched.to_csv(dir_+'survival_gsea/'+'pathways_functions_wgenes.csv')\n",
    "display(tmp.sort_values('Normalized Enrichment Score'))\n",
    "print(tmp.shape[0])"
   ]
  },
  {
   "cell_type": "code",
   "execution_count": null,
   "metadata": {
    "hidden": true
   },
   "outputs": [],
   "source": [
    "tmp['lognes'] = np.log(tmp['Normalized Enrichment Score'])\n",
    "tmp.sort_values('Normalized Enrichment Score')['lognes'].plot()"
   ]
  },
  {
   "cell_type": "markdown",
   "metadata": {
    "heading_collapsed": true,
    "hidden": true
   },
   "source": [
    "### STRING"
   ]
  },
  {
   "cell_type": "code",
   "execution_count": null,
   "metadata": {
    "hidden": true
   },
   "outputs": [],
   "source": [
    "import glob\n",
    "lst = glob.glob(dir_+'enrichment*.tsv')\n",
    "(\n",
    "    pd.concat([pd.read_table(x,sep='\\t') for x in lst]).\n",
    "    sort_values('false discovery rate').\n",
    "    to_csv(dir_+'tah_string_enrichment.csv')\n",
    ")\n",
    "(\n",
    "    pd.concat([pd.read_table(x,sep='\\t') for x in lst]).\n",
    "    sort_values('false discovery rate')\n",
    ")"
   ]
  },
  {
   "cell_type": "code",
   "execution_count": null,
   "metadata": {
    "hidden": true
   },
   "outputs": [],
   "source": [
    "import glob\n",
    "lst = glob.glob('/Users/nickgiangreco/Downloads/enrichment*.tsv')\n",
    "(\n",
    "    pd.concat([pd.read_table(x,sep='\\t') for x in lst]).\n",
    "    sort_values('false discovery rate').\n",
    "    to_csv(dir_+'mortality_lvad_pgd_string_enrichment.csv')\n",
    ")\n",
    "(\n",
    "    pd.concat([pd.read_table(x,sep='\\t') for x in lst]).\n",
    "    sort_values('false discovery rate')\n",
    ")"
   ]
  }
 ],
 "metadata": {
  "kernelspec": {
   "display_name": "Python 3",
   "language": "python",
   "name": "python3"
  },
  "language_info": {
   "codemirror_mode": {
    "name": "ipython",
    "version": 3
   },
   "file_extension": ".py",
   "mimetype": "text/x-python",
   "name": "python",
   "nbconvert_exporter": "python",
   "pygments_lexer": "ipython3",
   "version": "3.8.5"
  },
  "toc": {
   "base_numbering": 1,
   "nav_menu": {},
   "number_sections": true,
   "sideBar": true,
   "skip_h1_title": false,
   "title_cell": "Table of Contents",
   "title_sidebar": "Contents",
   "toc_cell": false,
   "toc_position": {},
   "toc_section_display": true,
   "toc_window_display": true
  }
 },
 "nbformat": 4,
 "nbformat_minor": 4
}
